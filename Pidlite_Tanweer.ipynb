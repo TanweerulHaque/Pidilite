{
  "nbformat": 4,
  "nbformat_minor": 0,
  "metadata": {
    "colab": {
      "name": "Pidlite_Tanweer.ipynb",
      "provenance": [],
      "collapsed_sections": []
    },
    "kernelspec": {
      "name": "python3",
      "display_name": "Python 3"
    },
    "language_info": {
      "name": "python"
    }
  },
  "cells": [
    {
      "cell_type": "code",
      "metadata": {
        "colab": {
          "base_uri": "https://localhost:8080/"
        },
        "id": "A9OW-jB0QUGw",
        "outputId": "48def382-63f8-486e-9a12-0de0db5fb7f3"
      },
      "source": [
        "from google.colab import drive\n",
        "drive.mount('/content/drive')"
      ],
      "execution_count": 1,
      "outputs": [
        {
          "output_type": "stream",
          "text": [
            "Mounted at /content/drive\n"
          ],
          "name": "stdout"
        }
      ]
    },
    {
      "cell_type": "code",
      "metadata": {
        "id": "mnn5-u0AmUwH"
      },
      "source": [
        "import pandas as pd\n",
        "import numpy as np\n",
        "import matplotlib.pyplot as plt\n",
        "import seaborn as sns"
      ],
      "execution_count": 2,
      "outputs": []
    },
    {
      "cell_type": "code",
      "metadata": {
        "id": "J6sUyREJJqaq",
        "colab": {
          "base_uri": "https://localhost:8080/",
          "height": 206
        },
        "outputId": "6e76e278-2468-44d3-95af-1757abba498f"
      },
      "source": [
        "df = pd.read_csv(\"/content/drive/MyDrive/Tanweer Internships & Jobs/Pidilite/data/train.csv\")\n",
        "df.head()"
      ],
      "execution_count": 3,
      "outputs": [
        {
          "output_type": "execute_result",
          "data": {
            "text/html": [
              "<div>\n",
              "<style scoped>\n",
              "    .dataframe tbody tr th:only-of-type {\n",
              "        vertical-align: middle;\n",
              "    }\n",
              "\n",
              "    .dataframe tbody tr th {\n",
              "        vertical-align: top;\n",
              "    }\n",
              "\n",
              "    .dataframe thead th {\n",
              "        text-align: right;\n",
              "    }\n",
              "</style>\n",
              "<table border=\"1\" class=\"dataframe\">\n",
              "  <thead>\n",
              "    <tr style=\"text-align: right;\">\n",
              "      <th></th>\n",
              "      <th>ID</th>\n",
              "      <th>STATE</th>\n",
              "      <th>AGE</th>\n",
              "      <th>OCCUPATION</th>\n",
              "      <th>INCOME_GROUP</th>\n",
              "      <th>CUSTOMER_SINCE</th>\n",
              "      <th>LOYALTY_PROGRAM</th>\n",
              "      <th>PAST_PURCHASE</th>\n",
              "      <th>PURCHASE</th>\n",
              "    </tr>\n",
              "  </thead>\n",
              "  <tbody>\n",
              "    <tr>\n",
              "      <th>0</th>\n",
              "      <td>1</td>\n",
              "      <td>Uttar Pradesh</td>\n",
              "      <td>28</td>\n",
              "      <td></td>\n",
              "      <td>Low</td>\n",
              "      <td>2018</td>\n",
              "      <td>No</td>\n",
              "      <td>4937</td>\n",
              "      <td>No</td>\n",
              "    </tr>\n",
              "    <tr>\n",
              "      <th>1</th>\n",
              "      <td>2</td>\n",
              "      <td>Madhya Pradesh</td>\n",
              "      <td>27</td>\n",
              "      <td>Salaried</td>\n",
              "      <td>Low</td>\n",
              "      <td>2018</td>\n",
              "      <td>No</td>\n",
              "      <td>10834</td>\n",
              "      <td>No</td>\n",
              "    </tr>\n",
              "    <tr>\n",
              "      <th>2</th>\n",
              "      <td>3</td>\n",
              "      <td>West Bengal</td>\n",
              "      <td>62</td>\n",
              "      <td></td>\n",
              "      <td>High</td>\n",
              "      <td>2013</td>\n",
              "      <td>NaN</td>\n",
              "      <td>8610</td>\n",
              "      <td>Yes</td>\n",
              "    </tr>\n",
              "    <tr>\n",
              "      <th>3</th>\n",
              "      <td>4</td>\n",
              "      <td>Tamil Nadu</td>\n",
              "      <td>27</td>\n",
              "      <td>Salaried</td>\n",
              "      <td>Low</td>\n",
              "      <td>2018</td>\n",
              "      <td>No</td>\n",
              "      <td>14374</td>\n",
              "      <td>Yes</td>\n",
              "    </tr>\n",
              "    <tr>\n",
              "      <th>4</th>\n",
              "      <td>5</td>\n",
              "      <td>Uttar Pradesh</td>\n",
              "      <td>40</td>\n",
              "      <td>Self employed</td>\n",
              "      <td>High</td>\n",
              "      <td>2015</td>\n",
              "      <td>No</td>\n",
              "      <td>13158</td>\n",
              "      <td>No</td>\n",
              "    </tr>\n",
              "  </tbody>\n",
              "</table>\n",
              "</div>"
            ],
            "text/plain": [
              "   ID           STATE  AGE  ... LOYALTY_PROGRAM PAST_PURCHASE  PURCHASE\n",
              "0   1   Uttar Pradesh   28  ...              No          4937        No\n",
              "1   2  Madhya Pradesh   27  ...              No         10834        No\n",
              "2   3     West Bengal   62  ...             NaN          8610       Yes\n",
              "3   4      Tamil Nadu   27  ...              No         14374       Yes\n",
              "4   5   Uttar Pradesh   40  ...              No         13158        No\n",
              "\n",
              "[5 rows x 9 columns]"
            ]
          },
          "metadata": {
            "tags": []
          },
          "execution_count": 3
        }
      ]
    },
    {
      "cell_type": "code",
      "metadata": {
        "colab": {
          "base_uri": "https://localhost:8080/"
        },
        "id": "qJOrE-PFmYel",
        "outputId": "ba710004-8544-41cc-f5e9-c25154b2ba70"
      },
      "source": [
        "df.isnull().sum()"
      ],
      "execution_count": 4,
      "outputs": [
        {
          "output_type": "execute_result",
          "data": {
            "text/plain": [
              "ID                     0\n",
              "STATE                  0\n",
              "AGE                    0\n",
              "OCCUPATION             0\n",
              "INCOME_GROUP           0\n",
              "CUSTOMER_SINCE         0\n",
              "LOYALTY_PROGRAM    17824\n",
              "PAST_PURCHASE          0\n",
              "PURCHASE               0\n",
              "dtype: int64"
            ]
          },
          "metadata": {
            "tags": []
          },
          "execution_count": 4
        }
      ]
    },
    {
      "cell_type": "code",
      "metadata": {
        "colab": {
          "base_uri": "https://localhost:8080/",
          "height": 424
        },
        "id": "ZzCnehq5clMh",
        "outputId": "0290f023-3d3c-449a-a733-d6a39adc5c8a"
      },
      "source": [
        "df.loc[(df.isnull().any(axis = 1)) & (df[\"PURCHASE\"] == \"Yes\")]"
      ],
      "execution_count": 11,
      "outputs": [
        {
          "output_type": "execute_result",
          "data": {
            "text/html": [
              "<div>\n",
              "<style scoped>\n",
              "    .dataframe tbody tr th:only-of-type {\n",
              "        vertical-align: middle;\n",
              "    }\n",
              "\n",
              "    .dataframe tbody tr th {\n",
              "        vertical-align: top;\n",
              "    }\n",
              "\n",
              "    .dataframe thead th {\n",
              "        text-align: right;\n",
              "    }\n",
              "</style>\n",
              "<table border=\"1\" class=\"dataframe\">\n",
              "  <thead>\n",
              "    <tr style=\"text-align: right;\">\n",
              "      <th></th>\n",
              "      <th>ID</th>\n",
              "      <th>STATE</th>\n",
              "      <th>AGE</th>\n",
              "      <th>OCCUPATION</th>\n",
              "      <th>INCOME_GROUP</th>\n",
              "      <th>CUSTOMER_SINCE</th>\n",
              "      <th>LOYALTY_PROGRAM</th>\n",
              "      <th>PAST_PURCHASE</th>\n",
              "      <th>PURCHASE</th>\n",
              "    </tr>\n",
              "  </thead>\n",
              "  <tbody>\n",
              "    <tr>\n",
              "      <th>2</th>\n",
              "      <td>3</td>\n",
              "      <td>West Bengal</td>\n",
              "      <td>62</td>\n",
              "      <td></td>\n",
              "      <td>High</td>\n",
              "      <td>2013</td>\n",
              "      <td>NaN</td>\n",
              "      <td>8610</td>\n",
              "      <td>Yes</td>\n",
              "    </tr>\n",
              "    <tr>\n",
              "      <th>6</th>\n",
              "      <td>7</td>\n",
              "      <td>Tamil Nadu</td>\n",
              "      <td>68</td>\n",
              "      <td></td>\n",
              "      <td>High</td>\n",
              "      <td>2010</td>\n",
              "      <td>NaN</td>\n",
              "      <td>12780</td>\n",
              "      <td>Yes</td>\n",
              "    </tr>\n",
              "    <tr>\n",
              "      <th>18</th>\n",
              "      <td>19</td>\n",
              "      <td>Tamil Nadu</td>\n",
              "      <td>63</td>\n",
              "      <td></td>\n",
              "      <td>Low</td>\n",
              "      <td>2013</td>\n",
              "      <td>NaN</td>\n",
              "      <td>12900</td>\n",
              "      <td>Yes</td>\n",
              "    </tr>\n",
              "    <tr>\n",
              "      <th>27</th>\n",
              "      <td>28</td>\n",
              "      <td>Kerala</td>\n",
              "      <td>44</td>\n",
              "      <td>Self employed</td>\n",
              "      <td>Medium</td>\n",
              "      <td>2014</td>\n",
              "      <td>NaN</td>\n",
              "      <td>13317</td>\n",
              "      <td>Yes</td>\n",
              "    </tr>\n",
              "    <tr>\n",
              "      <th>49</th>\n",
              "      <td>50</td>\n",
              "      <td>Punjab</td>\n",
              "      <td>45</td>\n",
              "      <td>Salaried</td>\n",
              "      <td>High</td>\n",
              "      <td>2011</td>\n",
              "      <td>NaN</td>\n",
              "      <td>8182</td>\n",
              "      <td>Yes</td>\n",
              "    </tr>\n",
              "    <tr>\n",
              "      <th>...</th>\n",
              "      <td>...</td>\n",
              "      <td>...</td>\n",
              "      <td>...</td>\n",
              "      <td>...</td>\n",
              "      <td>...</td>\n",
              "      <td>...</td>\n",
              "      <td>...</td>\n",
              "      <td>...</td>\n",
              "      <td>...</td>\n",
              "    </tr>\n",
              "    <tr>\n",
              "      <th>149963</th>\n",
              "      <td>149964</td>\n",
              "      <td>Uttar Pradesh</td>\n",
              "      <td>38</td>\n",
              "      <td>Salaried</td>\n",
              "      <td></td>\n",
              "      <td>2019</td>\n",
              "      <td>NaN</td>\n",
              "      <td>5345</td>\n",
              "      <td>Yes</td>\n",
              "    </tr>\n",
              "    <tr>\n",
              "      <th>149965</th>\n",
              "      <td>149966</td>\n",
              "      <td>Maharashtra</td>\n",
              "      <td>44</td>\n",
              "      <td>Salaried</td>\n",
              "      <td>High</td>\n",
              "      <td>2010</td>\n",
              "      <td>NaN</td>\n",
              "      <td>22461</td>\n",
              "      <td>Yes</td>\n",
              "    </tr>\n",
              "    <tr>\n",
              "      <th>149980</th>\n",
              "      <td>149981</td>\n",
              "      <td>Haryana</td>\n",
              "      <td>44</td>\n",
              "      <td></td>\n",
              "      <td>Medium</td>\n",
              "      <td>2017</td>\n",
              "      <td>NaN</td>\n",
              "      <td>8633</td>\n",
              "      <td>Yes</td>\n",
              "    </tr>\n",
              "    <tr>\n",
              "      <th>149981</th>\n",
              "      <td>149982</td>\n",
              "      <td>Gujarat</td>\n",
              "      <td>46</td>\n",
              "      <td></td>\n",
              "      <td>Medium</td>\n",
              "      <td>2014</td>\n",
              "      <td>NaN</td>\n",
              "      <td>8279</td>\n",
              "      <td>Yes</td>\n",
              "    </tr>\n",
              "    <tr>\n",
              "      <th>149999</th>\n",
              "      <td>150000</td>\n",
              "      <td>Maharashtra</td>\n",
              "      <td>60</td>\n",
              "      <td></td>\n",
              "      <td>Medium</td>\n",
              "      <td>2013</td>\n",
              "      <td>NaN</td>\n",
              "      <td>7761</td>\n",
              "      <td>Yes</td>\n",
              "    </tr>\n",
              "  </tbody>\n",
              "</table>\n",
              "<p>15166 rows × 9 columns</p>\n",
              "</div>"
            ],
            "text/plain": [
              "            ID          STATE  AGE  ... LOYALTY_PROGRAM PAST_PURCHASE  PURCHASE\n",
              "2            3    West Bengal   62  ...             NaN          8610       Yes\n",
              "6            7     Tamil Nadu   68  ...             NaN         12780       Yes\n",
              "18          19     Tamil Nadu   63  ...             NaN         12900       Yes\n",
              "27          28         Kerala   44  ...             NaN         13317       Yes\n",
              "49          50         Punjab   45  ...             NaN          8182       Yes\n",
              "...        ...            ...  ...  ...             ...           ...       ...\n",
              "149963  149964  Uttar Pradesh   38  ...             NaN          5345       Yes\n",
              "149965  149966    Maharashtra   44  ...             NaN         22461       Yes\n",
              "149980  149981        Haryana   44  ...             NaN          8633       Yes\n",
              "149981  149982        Gujarat   46  ...             NaN          8279       Yes\n",
              "149999  150000    Maharashtra   60  ...             NaN          7761       Yes\n",
              "\n",
              "[15166 rows x 9 columns]"
            ]
          },
          "metadata": {
            "tags": []
          },
          "execution_count": 11
        }
      ]
    },
    {
      "cell_type": "code",
      "metadata": {
        "colab": {
          "base_uri": "https://localhost:8080/",
          "height": 424
        },
        "id": "Fm1RV4Too844",
        "outputId": "e426e14d-ba14-4eac-9df2-d242d88cd879"
      },
      "source": [
        "df.loc[(df.isnull().any(axis = 1)) & (df[\"PURCHASE\"] == \"No\")]"
      ],
      "execution_count": 18,
      "outputs": [
        {
          "output_type": "execute_result",
          "data": {
            "text/html": [
              "<div>\n",
              "<style scoped>\n",
              "    .dataframe tbody tr th:only-of-type {\n",
              "        vertical-align: middle;\n",
              "    }\n",
              "\n",
              "    .dataframe tbody tr th {\n",
              "        vertical-align: top;\n",
              "    }\n",
              "\n",
              "    .dataframe thead th {\n",
              "        text-align: right;\n",
              "    }\n",
              "</style>\n",
              "<table border=\"1\" class=\"dataframe\">\n",
              "  <thead>\n",
              "    <tr style=\"text-align: right;\">\n",
              "      <th></th>\n",
              "      <th>ID</th>\n",
              "      <th>STATE</th>\n",
              "      <th>AGE</th>\n",
              "      <th>OCCUPATION</th>\n",
              "      <th>INCOME_GROUP</th>\n",
              "      <th>CUSTOMER_SINCE</th>\n",
              "      <th>LOYALTY_PROGRAM</th>\n",
              "      <th>PAST_PURCHASE</th>\n",
              "      <th>PURCHASE</th>\n",
              "    </tr>\n",
              "  </thead>\n",
              "  <tbody>\n",
              "    <tr>\n",
              "      <th>41</th>\n",
              "      <td>42</td>\n",
              "      <td>Bihar</td>\n",
              "      <td>54</td>\n",
              "      <td>Self employed</td>\n",
              "      <td>High</td>\n",
              "      <td>2012</td>\n",
              "      <td>NaN</td>\n",
              "      <td>6542</td>\n",
              "      <td>No</td>\n",
              "    </tr>\n",
              "    <tr>\n",
              "      <th>43</th>\n",
              "      <td>44</td>\n",
              "      <td>Odisha</td>\n",
              "      <td>50</td>\n",
              "      <td>Self employed</td>\n",
              "      <td>Medium</td>\n",
              "      <td>2016</td>\n",
              "      <td>NaN</td>\n",
              "      <td>12524</td>\n",
              "      <td>No</td>\n",
              "    </tr>\n",
              "    <tr>\n",
              "      <th>296</th>\n",
              "      <td>297</td>\n",
              "      <td>Madhya Pradesh</td>\n",
              "      <td>65</td>\n",
              "      <td></td>\n",
              "      <td>High</td>\n",
              "      <td>2012</td>\n",
              "      <td>NaN</td>\n",
              "      <td>6980</td>\n",
              "      <td>No</td>\n",
              "    </tr>\n",
              "    <tr>\n",
              "      <th>395</th>\n",
              "      <td>396</td>\n",
              "      <td>Tamil Nadu</td>\n",
              "      <td>48</td>\n",
              "      <td>Self employed</td>\n",
              "      <td>Medium</td>\n",
              "      <td>2013</td>\n",
              "      <td>NaN</td>\n",
              "      <td>23309</td>\n",
              "      <td>No</td>\n",
              "    </tr>\n",
              "    <tr>\n",
              "      <th>480</th>\n",
              "      <td>481</td>\n",
              "      <td>Maharashtra</td>\n",
              "      <td>40</td>\n",
              "      <td>Self employed</td>\n",
              "      <td>High</td>\n",
              "      <td>2018</td>\n",
              "      <td>NaN</td>\n",
              "      <td>13428</td>\n",
              "      <td>No</td>\n",
              "    </tr>\n",
              "    <tr>\n",
              "      <th>...</th>\n",
              "      <td>...</td>\n",
              "      <td>...</td>\n",
              "      <td>...</td>\n",
              "      <td>...</td>\n",
              "      <td>...</td>\n",
              "      <td>...</td>\n",
              "      <td>...</td>\n",
              "      <td>...</td>\n",
              "      <td>...</td>\n",
              "    </tr>\n",
              "    <tr>\n",
              "      <th>149635</th>\n",
              "      <td>149636</td>\n",
              "      <td>Telangana</td>\n",
              "      <td>39</td>\n",
              "      <td>Self employed</td>\n",
              "      <td>Medium</td>\n",
              "      <td>2017</td>\n",
              "      <td>NaN</td>\n",
              "      <td>10167</td>\n",
              "      <td>No</td>\n",
              "    </tr>\n",
              "    <tr>\n",
              "      <th>149644</th>\n",
              "      <td>149645</td>\n",
              "      <td>Maharashtra</td>\n",
              "      <td>58</td>\n",
              "      <td></td>\n",
              "      <td>High</td>\n",
              "      <td>2010</td>\n",
              "      <td>NaN</td>\n",
              "      <td>15536</td>\n",
              "      <td>No</td>\n",
              "    </tr>\n",
              "    <tr>\n",
              "      <th>149716</th>\n",
              "      <td>149717</td>\n",
              "      <td>Karnataka</td>\n",
              "      <td>57</td>\n",
              "      <td>Self employed</td>\n",
              "      <td>High</td>\n",
              "      <td>2011</td>\n",
              "      <td>NaN</td>\n",
              "      <td>18100</td>\n",
              "      <td>No</td>\n",
              "    </tr>\n",
              "    <tr>\n",
              "      <th>149767</th>\n",
              "      <td>149768</td>\n",
              "      <td>Karnataka</td>\n",
              "      <td>49</td>\n",
              "      <td>Business</td>\n",
              "      <td>Medium</td>\n",
              "      <td>2013</td>\n",
              "      <td>NaN</td>\n",
              "      <td>6560</td>\n",
              "      <td>No</td>\n",
              "    </tr>\n",
              "    <tr>\n",
              "      <th>149954</th>\n",
              "      <td>149955</td>\n",
              "      <td>Maharashtra</td>\n",
              "      <td>70</td>\n",
              "      <td></td>\n",
              "      <td>Medium</td>\n",
              "      <td>2012</td>\n",
              "      <td>NaN</td>\n",
              "      <td>26926</td>\n",
              "      <td>No</td>\n",
              "    </tr>\n",
              "  </tbody>\n",
              "</table>\n",
              "<p>2658 rows × 9 columns</p>\n",
              "</div>"
            ],
            "text/plain": [
              "            ID           STATE  AGE  ... LOYALTY_PROGRAM PAST_PURCHASE  PURCHASE\n",
              "41          42           Bihar   54  ...             NaN          6542        No\n",
              "43          44          Odisha   50  ...             NaN         12524        No\n",
              "296        297  Madhya Pradesh   65  ...             NaN          6980        No\n",
              "395        396      Tamil Nadu   48  ...             NaN         23309        No\n",
              "480        481     Maharashtra   40  ...             NaN         13428        No\n",
              "...        ...             ...  ...  ...             ...           ...       ...\n",
              "149635  149636       Telangana   39  ...             NaN         10167        No\n",
              "149644  149645     Maharashtra   58  ...             NaN         15536        No\n",
              "149716  149717       Karnataka   57  ...             NaN         18100        No\n",
              "149767  149768       Karnataka   49  ...             NaN          6560        No\n",
              "149954  149955     Maharashtra   70  ...             NaN         26926        No\n",
              "\n",
              "[2658 rows x 9 columns]"
            ]
          },
          "metadata": {
            "tags": []
          },
          "execution_count": 18
        }
      ]
    },
    {
      "cell_type": "code",
      "metadata": {
        "colab": {
          "base_uri": "https://localhost:8080/",
          "height": 424
        },
        "id": "5_1EShpjqQy0",
        "outputId": "b8d48c11-f905-4132-ce84-e238cbda8939"
      },
      "source": [
        "df.loc[(df[\"LOYALTY_PROGRAM\"]== \"Yes\") & (df[\"PURCHASE\"] == \"Yes\")]"
      ],
      "execution_count": 15,
      "outputs": [
        {
          "output_type": "execute_result",
          "data": {
            "text/html": [
              "<div>\n",
              "<style scoped>\n",
              "    .dataframe tbody tr th:only-of-type {\n",
              "        vertical-align: middle;\n",
              "    }\n",
              "\n",
              "    .dataframe tbody tr th {\n",
              "        vertical-align: top;\n",
              "    }\n",
              "\n",
              "    .dataframe thead th {\n",
              "        text-align: right;\n",
              "    }\n",
              "</style>\n",
              "<table border=\"1\" class=\"dataframe\">\n",
              "  <thead>\n",
              "    <tr style=\"text-align: right;\">\n",
              "      <th></th>\n",
              "      <th>ID</th>\n",
              "      <th>STATE</th>\n",
              "      <th>AGE</th>\n",
              "      <th>OCCUPATION</th>\n",
              "      <th>INCOME_GROUP</th>\n",
              "      <th>CUSTOMER_SINCE</th>\n",
              "      <th>LOYALTY_PROGRAM</th>\n",
              "      <th>PAST_PURCHASE</th>\n",
              "      <th>PURCHASE</th>\n",
              "    </tr>\n",
              "  </thead>\n",
              "  <tbody>\n",
              "    <tr>\n",
              "      <th>9</th>\n",
              "      <td>10</td>\n",
              "      <td>Tamil Nadu</td>\n",
              "      <td>67</td>\n",
              "      <td></td>\n",
              "      <td>High</td>\n",
              "      <td>2010</td>\n",
              "      <td>Yes</td>\n",
              "      <td>25120</td>\n",
              "      <td>Yes</td>\n",
              "    </tr>\n",
              "    <tr>\n",
              "      <th>11</th>\n",
              "      <td>12</td>\n",
              "      <td>Tamil Nadu</td>\n",
              "      <td>26</td>\n",
              "      <td>Salaried</td>\n",
              "      <td>Low</td>\n",
              "      <td>2018</td>\n",
              "      <td>Yes</td>\n",
              "      <td>7529</td>\n",
              "      <td>Yes</td>\n",
              "    </tr>\n",
              "    <tr>\n",
              "      <th>24</th>\n",
              "      <td>25</td>\n",
              "      <td>Tamil Nadu</td>\n",
              "      <td>56</td>\n",
              "      <td></td>\n",
              "      <td>High</td>\n",
              "      <td>2010</td>\n",
              "      <td>Yes</td>\n",
              "      <td>9029</td>\n",
              "      <td>Yes</td>\n",
              "    </tr>\n",
              "    <tr>\n",
              "      <th>31</th>\n",
              "      <td>32</td>\n",
              "      <td></td>\n",
              "      <td>55</td>\n",
              "      <td>Self employed</td>\n",
              "      <td>High</td>\n",
              "      <td>2013</td>\n",
              "      <td>Yes</td>\n",
              "      <td>5304</td>\n",
              "      <td>Yes</td>\n",
              "    </tr>\n",
              "    <tr>\n",
              "      <th>35</th>\n",
              "      <td>36</td>\n",
              "      <td>Maharashtra</td>\n",
              "      <td>42</td>\n",
              "      <td>Self employed</td>\n",
              "      <td>High</td>\n",
              "      <td>2012</td>\n",
              "      <td>Yes</td>\n",
              "      <td>19405</td>\n",
              "      <td>Yes</td>\n",
              "    </tr>\n",
              "    <tr>\n",
              "      <th>...</th>\n",
              "      <td>...</td>\n",
              "      <td>...</td>\n",
              "      <td>...</td>\n",
              "      <td>...</td>\n",
              "      <td>...</td>\n",
              "      <td>...</td>\n",
              "      <td>...</td>\n",
              "      <td>...</td>\n",
              "      <td>...</td>\n",
              "    </tr>\n",
              "    <tr>\n",
              "      <th>149940</th>\n",
              "      <td>149941</td>\n",
              "      <td>West Bengal</td>\n",
              "      <td>39</td>\n",
              "      <td></td>\n",
              "      <td>Low</td>\n",
              "      <td>2017</td>\n",
              "      <td>Yes</td>\n",
              "      <td>7665</td>\n",
              "      <td>Yes</td>\n",
              "    </tr>\n",
              "    <tr>\n",
              "      <th>149955</th>\n",
              "      <td>149956</td>\n",
              "      <td>Maharashtra</td>\n",
              "      <td>47</td>\n",
              "      <td>Salaried</td>\n",
              "      <td>High</td>\n",
              "      <td>2011</td>\n",
              "      <td>Yes</td>\n",
              "      <td>61879</td>\n",
              "      <td>Yes</td>\n",
              "    </tr>\n",
              "    <tr>\n",
              "      <th>149983</th>\n",
              "      <td>149984</td>\n",
              "      <td>Andaman and Nicobar Islands</td>\n",
              "      <td>58</td>\n",
              "      <td>Self employed</td>\n",
              "      <td>Medium</td>\n",
              "      <td>2015</td>\n",
              "      <td>Yes</td>\n",
              "      <td>6981</td>\n",
              "      <td>Yes</td>\n",
              "    </tr>\n",
              "    <tr>\n",
              "      <th>149988</th>\n",
              "      <td>149989</td>\n",
              "      <td>Maharashtra</td>\n",
              "      <td>63</td>\n",
              "      <td>Salaried</td>\n",
              "      <td>Medium</td>\n",
              "      <td>2013</td>\n",
              "      <td>Yes</td>\n",
              "      <td>20978</td>\n",
              "      <td>Yes</td>\n",
              "    </tr>\n",
              "    <tr>\n",
              "      <th>149998</th>\n",
              "      <td>149999</td>\n",
              "      <td>Andhra Pradesh</td>\n",
              "      <td>54</td>\n",
              "      <td>Self employed</td>\n",
              "      <td>High</td>\n",
              "      <td>2010</td>\n",
              "      <td>Yes</td>\n",
              "      <td>10031</td>\n",
              "      <td>Yes</td>\n",
              "    </tr>\n",
              "  </tbody>\n",
              "</table>\n",
              "<p>13805 rows × 9 columns</p>\n",
              "</div>"
            ],
            "text/plain": [
              "            ID                        STATE  ...  PAST_PURCHASE PURCHASE\n",
              "9           10                   Tamil Nadu  ...          25120      Yes\n",
              "11          12                   Tamil Nadu  ...           7529      Yes\n",
              "24          25                   Tamil Nadu  ...           9029      Yes\n",
              "31          32                               ...           5304      Yes\n",
              "35          36                  Maharashtra  ...          19405      Yes\n",
              "...        ...                          ...  ...            ...      ...\n",
              "149940  149941                  West Bengal  ...           7665      Yes\n",
              "149955  149956                  Maharashtra  ...          61879      Yes\n",
              "149983  149984  Andaman and Nicobar Islands  ...           6981      Yes\n",
              "149988  149989                  Maharashtra  ...          20978      Yes\n",
              "149998  149999               Andhra Pradesh  ...          10031      Yes\n",
              "\n",
              "[13805 rows x 9 columns]"
            ]
          },
          "metadata": {
            "tags": []
          },
          "execution_count": 15
        }
      ]
    },
    {
      "cell_type": "code",
      "metadata": {
        "colab": {
          "base_uri": "https://localhost:8080/",
          "height": 424
        },
        "id": "5aH6whUSq7jY",
        "outputId": "60e73637-c1ae-45d2-e7eb-8a15a9ccfbad"
      },
      "source": [
        "df.loc[(df[\"LOYALTY_PROGRAM\"]== \"Yes\") & (df[\"PURCHASE\"] == \"No\")]"
      ],
      "execution_count": 19,
      "outputs": [
        {
          "output_type": "execute_result",
          "data": {
            "text/html": [
              "<div>\n",
              "<style scoped>\n",
              "    .dataframe tbody tr th:only-of-type {\n",
              "        vertical-align: middle;\n",
              "    }\n",
              "\n",
              "    .dataframe tbody tr th {\n",
              "        vertical-align: top;\n",
              "    }\n",
              "\n",
              "    .dataframe thead th {\n",
              "        text-align: right;\n",
              "    }\n",
              "</style>\n",
              "<table border=\"1\" class=\"dataframe\">\n",
              "  <thead>\n",
              "    <tr style=\"text-align: right;\">\n",
              "      <th></th>\n",
              "      <th>ID</th>\n",
              "      <th>STATE</th>\n",
              "      <th>AGE</th>\n",
              "      <th>OCCUPATION</th>\n",
              "      <th>INCOME_GROUP</th>\n",
              "      <th>CUSTOMER_SINCE</th>\n",
              "      <th>LOYALTY_PROGRAM</th>\n",
              "      <th>PAST_PURCHASE</th>\n",
              "      <th>PURCHASE</th>\n",
              "    </tr>\n",
              "  </thead>\n",
              "  <tbody>\n",
              "    <tr>\n",
              "      <th>8</th>\n",
              "      <td>9</td>\n",
              "      <td>West Bengal</td>\n",
              "      <td>56</td>\n",
              "      <td>Self employed</td>\n",
              "      <td>Medium</td>\n",
              "      <td>2014</td>\n",
              "      <td>Yes</td>\n",
              "      <td>7238</td>\n",
              "      <td>No</td>\n",
              "    </tr>\n",
              "    <tr>\n",
              "      <th>10</th>\n",
              "      <td>11</td>\n",
              "      <td>Uttar Pradesh</td>\n",
              "      <td>37</td>\n",
              "      <td>Self employed</td>\n",
              "      <td></td>\n",
              "      <td>2019</td>\n",
              "      <td>Yes</td>\n",
              "      <td>6602</td>\n",
              "      <td>No</td>\n",
              "    </tr>\n",
              "    <tr>\n",
              "      <th>16</th>\n",
              "      <td>17</td>\n",
              "      <td>Telangana</td>\n",
              "      <td>43</td>\n",
              "      <td>Self employed</td>\n",
              "      <td></td>\n",
              "      <td>2018</td>\n",
              "      <td>Yes</td>\n",
              "      <td>5406</td>\n",
              "      <td>No</td>\n",
              "    </tr>\n",
              "    <tr>\n",
              "      <th>20</th>\n",
              "      <td>21</td>\n",
              "      <td>Nagaland</td>\n",
              "      <td>73</td>\n",
              "      <td></td>\n",
              "      <td>High</td>\n",
              "      <td>2016</td>\n",
              "      <td>Yes</td>\n",
              "      <td>6960</td>\n",
              "      <td>No</td>\n",
              "    </tr>\n",
              "    <tr>\n",
              "      <th>21</th>\n",
              "      <td>22</td>\n",
              "      <td>Andaman and Nicobar Islands</td>\n",
              "      <td>68</td>\n",
              "      <td></td>\n",
              "      <td>Medium</td>\n",
              "      <td>2018</td>\n",
              "      <td>Yes</td>\n",
              "      <td>6852</td>\n",
              "      <td>No</td>\n",
              "    </tr>\n",
              "    <tr>\n",
              "      <th>...</th>\n",
              "      <td>...</td>\n",
              "      <td>...</td>\n",
              "      <td>...</td>\n",
              "      <td>...</td>\n",
              "      <td>...</td>\n",
              "      <td>...</td>\n",
              "      <td>...</td>\n",
              "      <td>...</td>\n",
              "      <td>...</td>\n",
              "    </tr>\n",
              "    <tr>\n",
              "      <th>149979</th>\n",
              "      <td>149980</td>\n",
              "      <td>Odisha</td>\n",
              "      <td>82</td>\n",
              "      <td></td>\n",
              "      <td>Medium</td>\n",
              "      <td>2015</td>\n",
              "      <td>Yes</td>\n",
              "      <td>6514</td>\n",
              "      <td>No</td>\n",
              "    </tr>\n",
              "    <tr>\n",
              "      <th>149985</th>\n",
              "      <td>149986</td>\n",
              "      <td>Rajasthan</td>\n",
              "      <td>51</td>\n",
              "      <td>Self employed</td>\n",
              "      <td>Medium</td>\n",
              "      <td>2016</td>\n",
              "      <td>Yes</td>\n",
              "      <td>10897</td>\n",
              "      <td>No</td>\n",
              "    </tr>\n",
              "    <tr>\n",
              "      <th>149990</th>\n",
              "      <td>149991</td>\n",
              "      <td>Madhya Pradesh</td>\n",
              "      <td>28</td>\n",
              "      <td>Salaried</td>\n",
              "      <td>Low</td>\n",
              "      <td>2018</td>\n",
              "      <td>Yes</td>\n",
              "      <td>11095</td>\n",
              "      <td>No</td>\n",
              "    </tr>\n",
              "    <tr>\n",
              "      <th>149992</th>\n",
              "      <td>149993</td>\n",
              "      <td>Maharashtra</td>\n",
              "      <td>43</td>\n",
              "      <td>Self employed</td>\n",
              "      <td>Medium</td>\n",
              "      <td>2014</td>\n",
              "      <td>Yes</td>\n",
              "      <td>14001</td>\n",
              "      <td>No</td>\n",
              "    </tr>\n",
              "    <tr>\n",
              "      <th>149994</th>\n",
              "      <td>149995</td>\n",
              "      <td>Karnataka</td>\n",
              "      <td>44</td>\n",
              "      <td>Self employed</td>\n",
              "      <td>High</td>\n",
              "      <td>2013</td>\n",
              "      <td>Yes</td>\n",
              "      <td>7112</td>\n",
              "      <td>No</td>\n",
              "    </tr>\n",
              "  </tbody>\n",
              "</table>\n",
              "<p>30189 rows × 9 columns</p>\n",
              "</div>"
            ],
            "text/plain": [
              "            ID                        STATE  ...  PAST_PURCHASE PURCHASE\n",
              "8            9                  West Bengal  ...           7238       No\n",
              "10          11                Uttar Pradesh  ...           6602       No\n",
              "16          17                    Telangana  ...           5406       No\n",
              "20          21                     Nagaland  ...           6960       No\n",
              "21          22  Andaman and Nicobar Islands  ...           6852       No\n",
              "...        ...                          ...  ...            ...      ...\n",
              "149979  149980                       Odisha  ...           6514       No\n",
              "149985  149986                    Rajasthan  ...          10897       No\n",
              "149990  149991               Madhya Pradesh  ...          11095       No\n",
              "149992  149993                  Maharashtra  ...          14001       No\n",
              "149994  149995                    Karnataka  ...           7112       No\n",
              "\n",
              "[30189 rows x 9 columns]"
            ]
          },
          "metadata": {
            "tags": []
          },
          "execution_count": 19
        }
      ]
    },
    {
      "cell_type": "code",
      "metadata": {
        "colab": {
          "base_uri": "https://localhost:8080/",
          "height": 424
        },
        "id": "C_pBjrj1rBo9",
        "outputId": "4340e6b8-12c8-41c1-f4ae-88fac52e0b63"
      },
      "source": [
        "df.loc[(df[\"LOYALTY_PROGRAM\"]== \"No\") & (df[\"PURCHASE\"] == \"Yes\")]"
      ],
      "execution_count": 20,
      "outputs": [
        {
          "output_type": "execute_result",
          "data": {
            "text/html": [
              "<div>\n",
              "<style scoped>\n",
              "    .dataframe tbody tr th:only-of-type {\n",
              "        vertical-align: middle;\n",
              "    }\n",
              "\n",
              "    .dataframe tbody tr th {\n",
              "        vertical-align: top;\n",
              "    }\n",
              "\n",
              "    .dataframe thead th {\n",
              "        text-align: right;\n",
              "    }\n",
              "</style>\n",
              "<table border=\"1\" class=\"dataframe\">\n",
              "  <thead>\n",
              "    <tr style=\"text-align: right;\">\n",
              "      <th></th>\n",
              "      <th>ID</th>\n",
              "      <th>STATE</th>\n",
              "      <th>AGE</th>\n",
              "      <th>OCCUPATION</th>\n",
              "      <th>INCOME_GROUP</th>\n",
              "      <th>CUSTOMER_SINCE</th>\n",
              "      <th>LOYALTY_PROGRAM</th>\n",
              "      <th>PAST_PURCHASE</th>\n",
              "      <th>PURCHASE</th>\n",
              "    </tr>\n",
              "  </thead>\n",
              "  <tbody>\n",
              "    <tr>\n",
              "      <th>3</th>\n",
              "      <td>4</td>\n",
              "      <td>Tamil Nadu</td>\n",
              "      <td>27</td>\n",
              "      <td>Salaried</td>\n",
              "      <td>Low</td>\n",
              "      <td>2018</td>\n",
              "      <td>No</td>\n",
              "      <td>14374</td>\n",
              "      <td>Yes</td>\n",
              "    </tr>\n",
              "    <tr>\n",
              "      <th>32</th>\n",
              "      <td>33</td>\n",
              "      <td>Puducherry</td>\n",
              "      <td>39</td>\n",
              "      <td>Self employed</td>\n",
              "      <td>Medium</td>\n",
              "      <td>2018</td>\n",
              "      <td>No</td>\n",
              "      <td>7051</td>\n",
              "      <td>Yes</td>\n",
              "    </tr>\n",
              "    <tr>\n",
              "      <th>45</th>\n",
              "      <td>46</td>\n",
              "      <td>Tamil Nadu</td>\n",
              "      <td>42</td>\n",
              "      <td>Self employed</td>\n",
              "      <td>High</td>\n",
              "      <td>2013</td>\n",
              "      <td>No</td>\n",
              "      <td>9192</td>\n",
              "      <td>Yes</td>\n",
              "    </tr>\n",
              "    <tr>\n",
              "      <th>54</th>\n",
              "      <td>55</td>\n",
              "      <td>Karnataka</td>\n",
              "      <td>57</td>\n",
              "      <td>Self employed</td>\n",
              "      <td>High</td>\n",
              "      <td>2015</td>\n",
              "      <td>No</td>\n",
              "      <td>7571</td>\n",
              "      <td>Yes</td>\n",
              "    </tr>\n",
              "    <tr>\n",
              "      <th>77</th>\n",
              "      <td>78</td>\n",
              "      <td>Tamil Nadu</td>\n",
              "      <td>38</td>\n",
              "      <td>Self employed</td>\n",
              "      <td>Medium</td>\n",
              "      <td>2018</td>\n",
              "      <td>No</td>\n",
              "      <td>8131</td>\n",
              "      <td>Yes</td>\n",
              "    </tr>\n",
              "    <tr>\n",
              "      <th>...</th>\n",
              "      <td>...</td>\n",
              "      <td>...</td>\n",
              "      <td>...</td>\n",
              "      <td>...</td>\n",
              "      <td>...</td>\n",
              "      <td>...</td>\n",
              "      <td>...</td>\n",
              "      <td>...</td>\n",
              "      <td>...</td>\n",
              "    </tr>\n",
              "    <tr>\n",
              "      <th>149898</th>\n",
              "      <td>149899</td>\n",
              "      <td>Meghalaya</td>\n",
              "      <td>51</td>\n",
              "      <td>Self employed</td>\n",
              "      <td>Medium</td>\n",
              "      <td>2017</td>\n",
              "      <td>No</td>\n",
              "      <td>8422</td>\n",
              "      <td>Yes</td>\n",
              "    </tr>\n",
              "    <tr>\n",
              "      <th>149900</th>\n",
              "      <td>149901</td>\n",
              "      <td>Andhra Pradesh</td>\n",
              "      <td>43</td>\n",
              "      <td></td>\n",
              "      <td>Low</td>\n",
              "      <td>2017</td>\n",
              "      <td>No</td>\n",
              "      <td>6385</td>\n",
              "      <td>Yes</td>\n",
              "    </tr>\n",
              "    <tr>\n",
              "      <th>149938</th>\n",
              "      <td>149939</td>\n",
              "      <td>Arunachal Pradesh</td>\n",
              "      <td>27</td>\n",
              "      <td>Salaried</td>\n",
              "      <td>Low</td>\n",
              "      <td>2018</td>\n",
              "      <td>No</td>\n",
              "      <td>7194</td>\n",
              "      <td>Yes</td>\n",
              "    </tr>\n",
              "    <tr>\n",
              "      <th>149982</th>\n",
              "      <td>149983</td>\n",
              "      <td>Maharashtra</td>\n",
              "      <td>41</td>\n",
              "      <td>Self employed</td>\n",
              "      <td>High</td>\n",
              "      <td>2012</td>\n",
              "      <td>No</td>\n",
              "      <td>23510</td>\n",
              "      <td>Yes</td>\n",
              "    </tr>\n",
              "    <tr>\n",
              "      <th>149984</th>\n",
              "      <td>149985</td>\n",
              "      <td>Maharashtra</td>\n",
              "      <td>57</td>\n",
              "      <td></td>\n",
              "      <td>High</td>\n",
              "      <td>2014</td>\n",
              "      <td>No</td>\n",
              "      <td>18585</td>\n",
              "      <td>Yes</td>\n",
              "    </tr>\n",
              "  </tbody>\n",
              "</table>\n",
              "<p>6492 rows × 9 columns</p>\n",
              "</div>"
            ],
            "text/plain": [
              "            ID              STATE  AGE  ... LOYALTY_PROGRAM PAST_PURCHASE  PURCHASE\n",
              "3            4         Tamil Nadu   27  ...              No         14374       Yes\n",
              "32          33         Puducherry   39  ...              No          7051       Yes\n",
              "45          46         Tamil Nadu   42  ...              No          9192       Yes\n",
              "54          55          Karnataka   57  ...              No          7571       Yes\n",
              "77          78         Tamil Nadu   38  ...              No          8131       Yes\n",
              "...        ...                ...  ...  ...             ...           ...       ...\n",
              "149898  149899          Meghalaya   51  ...              No          8422       Yes\n",
              "149900  149901     Andhra Pradesh   43  ...              No          6385       Yes\n",
              "149938  149939  Arunachal Pradesh   27  ...              No          7194       Yes\n",
              "149982  149983        Maharashtra   41  ...              No         23510       Yes\n",
              "149984  149985        Maharashtra   57  ...              No         18585       Yes\n",
              "\n",
              "[6492 rows x 9 columns]"
            ]
          },
          "metadata": {
            "tags": []
          },
          "execution_count": 20
        }
      ]
    },
    {
      "cell_type": "code",
      "metadata": {
        "colab": {
          "base_uri": "https://localhost:8080/",
          "height": 424
        },
        "id": "dzwXA2EyrK4n",
        "outputId": "929b68a9-536e-4c60-ff12-9a2617fbb467"
      },
      "source": [
        "df.loc[(df[\"LOYALTY_PROGRAM\"]== \"No\") & (df[\"PURCHASE\"] == \"No\")]"
      ],
      "execution_count": 21,
      "outputs": [
        {
          "output_type": "execute_result",
          "data": {
            "text/html": [
              "<div>\n",
              "<style scoped>\n",
              "    .dataframe tbody tr th:only-of-type {\n",
              "        vertical-align: middle;\n",
              "    }\n",
              "\n",
              "    .dataframe tbody tr th {\n",
              "        vertical-align: top;\n",
              "    }\n",
              "\n",
              "    .dataframe thead th {\n",
              "        text-align: right;\n",
              "    }\n",
              "</style>\n",
              "<table border=\"1\" class=\"dataframe\">\n",
              "  <thead>\n",
              "    <tr style=\"text-align: right;\">\n",
              "      <th></th>\n",
              "      <th>ID</th>\n",
              "      <th>STATE</th>\n",
              "      <th>AGE</th>\n",
              "      <th>OCCUPATION</th>\n",
              "      <th>INCOME_GROUP</th>\n",
              "      <th>CUSTOMER_SINCE</th>\n",
              "      <th>LOYALTY_PROGRAM</th>\n",
              "      <th>PAST_PURCHASE</th>\n",
              "      <th>PURCHASE</th>\n",
              "    </tr>\n",
              "  </thead>\n",
              "  <tbody>\n",
              "    <tr>\n",
              "      <th>0</th>\n",
              "      <td>1</td>\n",
              "      <td>Uttar Pradesh</td>\n",
              "      <td>28</td>\n",
              "      <td></td>\n",
              "      <td>Low</td>\n",
              "      <td>2018</td>\n",
              "      <td>No</td>\n",
              "      <td>4937</td>\n",
              "      <td>No</td>\n",
              "    </tr>\n",
              "    <tr>\n",
              "      <th>1</th>\n",
              "      <td>2</td>\n",
              "      <td>Madhya Pradesh</td>\n",
              "      <td>27</td>\n",
              "      <td>Salaried</td>\n",
              "      <td>Low</td>\n",
              "      <td>2018</td>\n",
              "      <td>No</td>\n",
              "      <td>10834</td>\n",
              "      <td>No</td>\n",
              "    </tr>\n",
              "    <tr>\n",
              "      <th>4</th>\n",
              "      <td>5</td>\n",
              "      <td>Uttar Pradesh</td>\n",
              "      <td>40</td>\n",
              "      <td>Self employed</td>\n",
              "      <td>High</td>\n",
              "      <td>2015</td>\n",
              "      <td>No</td>\n",
              "      <td>13158</td>\n",
              "      <td>No</td>\n",
              "    </tr>\n",
              "    <tr>\n",
              "      <th>5</th>\n",
              "      <td>6</td>\n",
              "      <td>Maharashtra</td>\n",
              "      <td>28</td>\n",
              "      <td>Salaried</td>\n",
              "      <td>Low</td>\n",
              "      <td>2018</td>\n",
              "      <td>No</td>\n",
              "      <td>5159</td>\n",
              "      <td>No</td>\n",
              "    </tr>\n",
              "    <tr>\n",
              "      <th>7</th>\n",
              "      <td>8</td>\n",
              "      <td>Maharashtra</td>\n",
              "      <td>45</td>\n",
              "      <td>Self employed</td>\n",
              "      <td>Medium</td>\n",
              "      <td>2018</td>\n",
              "      <td>No</td>\n",
              "      <td>5018</td>\n",
              "      <td>No</td>\n",
              "    </tr>\n",
              "    <tr>\n",
              "      <th>...</th>\n",
              "      <td>...</td>\n",
              "      <td>...</td>\n",
              "      <td>...</td>\n",
              "      <td>...</td>\n",
              "      <td>...</td>\n",
              "      <td>...</td>\n",
              "      <td>...</td>\n",
              "      <td>...</td>\n",
              "      <td>...</td>\n",
              "    </tr>\n",
              "    <tr>\n",
              "      <th>149991</th>\n",
              "      <td>149992</td>\n",
              "      <td>Chhattisgarh</td>\n",
              "      <td>47</td>\n",
              "      <td></td>\n",
              "      <td>Medium</td>\n",
              "      <td>2012</td>\n",
              "      <td>No</td>\n",
              "      <td>2928</td>\n",
              "      <td>No</td>\n",
              "    </tr>\n",
              "    <tr>\n",
              "      <th>149993</th>\n",
              "      <td>149994</td>\n",
              "      <td>Karnataka</td>\n",
              "      <td>67</td>\n",
              "      <td></td>\n",
              "      <td>Low</td>\n",
              "      <td>2013</td>\n",
              "      <td>No</td>\n",
              "      <td>5360</td>\n",
              "      <td>No</td>\n",
              "    </tr>\n",
              "    <tr>\n",
              "      <th>149995</th>\n",
              "      <td>149996</td>\n",
              "      <td>Assam</td>\n",
              "      <td>29</td>\n",
              "      <td>Salaried</td>\n",
              "      <td>Low</td>\n",
              "      <td>2017</td>\n",
              "      <td>No</td>\n",
              "      <td>6241</td>\n",
              "      <td>No</td>\n",
              "    </tr>\n",
              "    <tr>\n",
              "      <th>149996</th>\n",
              "      <td>149997</td>\n",
              "      <td>Andhra Pradesh</td>\n",
              "      <td>53</td>\n",
              "      <td>Self employed</td>\n",
              "      <td>Medium</td>\n",
              "      <td>2010</td>\n",
              "      <td>No</td>\n",
              "      <td>29447</td>\n",
              "      <td>No</td>\n",
              "    </tr>\n",
              "    <tr>\n",
              "      <th>149997</th>\n",
              "      <td>149998</td>\n",
              "      <td>Odisha</td>\n",
              "      <td>31</td>\n",
              "      <td></td>\n",
              "      <td>Low</td>\n",
              "      <td>2018</td>\n",
              "      <td>No</td>\n",
              "      <td>4856</td>\n",
              "      <td>No</td>\n",
              "    </tr>\n",
              "  </tbody>\n",
              "</table>\n",
              "<p>81690 rows × 9 columns</p>\n",
              "</div>"
            ],
            "text/plain": [
              "            ID           STATE  AGE  ... LOYALTY_PROGRAM PAST_PURCHASE  PURCHASE\n",
              "0            1   Uttar Pradesh   28  ...              No          4937        No\n",
              "1            2  Madhya Pradesh   27  ...              No         10834        No\n",
              "4            5   Uttar Pradesh   40  ...              No         13158        No\n",
              "5            6     Maharashtra   28  ...              No          5159        No\n",
              "7            8     Maharashtra   45  ...              No          5018        No\n",
              "...        ...             ...  ...  ...             ...           ...       ...\n",
              "149991  149992    Chhattisgarh   47  ...              No          2928        No\n",
              "149993  149994       Karnataka   67  ...              No          5360        No\n",
              "149995  149996           Assam   29  ...              No          6241        No\n",
              "149996  149997  Andhra Pradesh   53  ...              No         29447        No\n",
              "149997  149998          Odisha   31  ...              No          4856        No\n",
              "\n",
              "[81690 rows x 9 columns]"
            ]
          },
          "metadata": {
            "tags": []
          },
          "execution_count": 21
        }
      ]
    },
    {
      "cell_type": "code",
      "metadata": {
        "colab": {
          "base_uri": "https://localhost:8080/"
        },
        "id": "1qF2jSjKEngu",
        "outputId": "05e6e88b-2f77-4090-976e-14f7803aeb38"
      },
      "source": [
        "df.shape"
      ],
      "execution_count": null,
      "outputs": [
        {
          "output_type": "execute_result",
          "data": {
            "text/plain": [
              "(150000, 9)"
            ]
          },
          "metadata": {
            "tags": []
          },
          "execution_count": 5
        }
      ]
    },
    {
      "cell_type": "code",
      "metadata": {
        "colab": {
          "base_uri": "https://localhost:8080/"
        },
        "id": "rdfk8SBxO8_J",
        "outputId": "eef4831a-6321-4019-e3fd-160242a196e5"
      },
      "source": [
        "df.info()"
      ],
      "execution_count": null,
      "outputs": [
        {
          "output_type": "stream",
          "text": [
            "<class 'pandas.core.frame.DataFrame'>\n",
            "RangeIndex: 150000 entries, 0 to 149999\n",
            "Data columns (total 9 columns):\n",
            " #   Column           Non-Null Count   Dtype \n",
            "---  ------           --------------   ----- \n",
            " 0   ID               150000 non-null  int64 \n",
            " 1   STATE            150000 non-null  object\n",
            " 2   AGE              150000 non-null  int64 \n",
            " 3   OCCUPATION       150000 non-null  object\n",
            " 4   INCOME_GROUP     150000 non-null  object\n",
            " 5   CUSTOMER_SINCE   150000 non-null  int64 \n",
            " 6   LOYALTY_PROGRAM  132176 non-null  object\n",
            " 7   PAST_PURCHASE    150000 non-null  int64 \n",
            " 8   PURCHASE         150000 non-null  object\n",
            "dtypes: int64(4), object(5)\n",
            "memory usage: 10.3+ MB\n"
          ],
          "name": "stdout"
        }
      ]
    },
    {
      "cell_type": "code",
      "metadata": {
        "id": "pPJ2vv_5PkzC"
      },
      "source": [
        "def get_(col):\n",
        "    return (df[col].values == ' ').sum()"
      ],
      "execution_count": null,
      "outputs": []
    },
    {
      "cell_type": "code",
      "metadata": {
        "colab": {
          "base_uri": "https://localhost:8080/"
        },
        "id": "zdtvFHFTP15Z",
        "outputId": "308d9351-0294-443f-9841-3a30c6ba11e0"
      },
      "source": [
        "for col in df.columns:\n",
        "  if df[col].dtype==\"object\":\n",
        "    print(col,get_(col))"
      ],
      "execution_count": null,
      "outputs": [
        {
          "output_type": "stream",
          "text": [
            "STATE 1842\n",
            "OCCUPATION 42777\n",
            "INCOME_GROUP 3437\n",
            "LOYALTY_PROGRAM 0\n",
            "PURCHASE 0\n"
          ],
          "name": "stdout"
        }
      ]
    },
    {
      "cell_type": "code",
      "metadata": {
        "id": "5HiG4UX_SKlK",
        "colab": {
          "base_uri": "https://localhost:8080/"
        },
        "outputId": "0ea27930-905a-4a67-e333-c20dbb902bfb"
      },
      "source": [
        "pip install --upgrade category_encoders"
      ],
      "execution_count": 23,
      "outputs": [
        {
          "output_type": "stream",
          "text": [
            "Collecting category_encoders\n",
            "\u001b[?25l  Downloading https://files.pythonhosted.org/packages/44/57/fcef41c248701ee62e8325026b90c432adea35555cbc870aff9cfba23727/category_encoders-2.2.2-py2.py3-none-any.whl (80kB)\n",
            "\r\u001b[K     |████                            | 10kB 15.2MB/s eta 0:00:01\r\u001b[K     |████████▏                       | 20kB 21.1MB/s eta 0:00:01\r\u001b[K     |████████████▏                   | 30kB 23.4MB/s eta 0:00:01\r\u001b[K     |████████████████▎               | 40kB 25.9MB/s eta 0:00:01\r\u001b[K     |████████████████████▎           | 51kB 26.5MB/s eta 0:00:01\r\u001b[K     |████████████████████████▍       | 61kB 28.7MB/s eta 0:00:01\r\u001b[K     |████████████████████████████▍   | 71kB 29.3MB/s eta 0:00:01\r\u001b[K     |████████████████████████████████| 81kB 8.8MB/s \n",
            "\u001b[?25hRequirement already satisfied, skipping upgrade: statsmodels>=0.9.0 in /usr/local/lib/python3.7/dist-packages (from category_encoders) (0.10.2)\n",
            "Requirement already satisfied, skipping upgrade: pandas>=0.21.1 in /usr/local/lib/python3.7/dist-packages (from category_encoders) (1.1.5)\n",
            "Requirement already satisfied, skipping upgrade: scikit-learn>=0.20.0 in /usr/local/lib/python3.7/dist-packages (from category_encoders) (0.22.2.post1)\n",
            "Requirement already satisfied, skipping upgrade: patsy>=0.5.1 in /usr/local/lib/python3.7/dist-packages (from category_encoders) (0.5.1)\n",
            "Requirement already satisfied, skipping upgrade: numpy>=1.14.0 in /usr/local/lib/python3.7/dist-packages (from category_encoders) (1.19.5)\n",
            "Requirement already satisfied, skipping upgrade: scipy>=1.0.0 in /usr/local/lib/python3.7/dist-packages (from category_encoders) (1.4.1)\n",
            "Requirement already satisfied, skipping upgrade: pytz>=2017.2 in /usr/local/lib/python3.7/dist-packages (from pandas>=0.21.1->category_encoders) (2018.9)\n",
            "Requirement already satisfied, skipping upgrade: python-dateutil>=2.7.3 in /usr/local/lib/python3.7/dist-packages (from pandas>=0.21.1->category_encoders) (2.8.1)\n",
            "Requirement already satisfied, skipping upgrade: joblib>=0.11 in /usr/local/lib/python3.7/dist-packages (from scikit-learn>=0.20.0->category_encoders) (1.0.1)\n",
            "Requirement already satisfied, skipping upgrade: six in /usr/local/lib/python3.7/dist-packages (from patsy>=0.5.1->category_encoders) (1.15.0)\n",
            "Installing collected packages: category-encoders\n",
            "Successfully installed category-encoders-2.2.2\n"
          ],
          "name": "stdout"
        }
      ]
    },
    {
      "cell_type": "code",
      "metadata": {
        "id": "KFT8CuzKSDBx",
        "colab": {
          "base_uri": "https://localhost:8080/"
        },
        "outputId": "d7aafedf-9367-405a-d076-ddc9853c11ac"
      },
      "source": [
        "import category_encoders as ce"
      ],
      "execution_count": 24,
      "outputs": [
        {
          "output_type": "stream",
          "text": [
            "/usr/local/lib/python3.7/dist-packages/statsmodels/tools/_testing.py:19: FutureWarning: pandas.util.testing is deprecated. Use the functions in the public API at pandas.testing instead.\n",
            "  import pandas.util.testing as tm\n"
          ],
          "name": "stderr"
        }
      ]
    },
    {
      "cell_type": "code",
      "metadata": {
        "id": "A5kpVAAFU9xn"
      },
      "source": [
        "encoder= ce.OrdinalEncoder(cols=['PURCHASE'],return_df=True,\n",
        "                           mapping=[{'col':'PURCHASE',\n",
        "'mapping':{'No':0,'Yes':1}}])"
      ],
      "execution_count": 25,
      "outputs": []
    },
    {
      "cell_type": "code",
      "metadata": {
        "colab": {
          "base_uri": "https://localhost:8080/"
        },
        "id": "gK4LrsarRWdB",
        "outputId": "c26b8d04-740d-4019-a0c8-9e401bd3abac"
      },
      "source": [
        "df[\"PURCHASE\"] = encoder.fit_transform(df[\"PURCHASE\"])"
      ],
      "execution_count": 26,
      "outputs": [
        {
          "output_type": "stream",
          "text": [
            "/usr/local/lib/python3.7/dist-packages/category_encoders/utils.py:21: FutureWarning: is_categorical is deprecated and will be removed in a future version.  Use is_categorical_dtype instead\n",
            "  elif pd.api.types.is_categorical(cols):\n"
          ],
          "name": "stderr"
        }
      ]
    },
    {
      "cell_type": "code",
      "metadata": {
        "colab": {
          "base_uri": "https://localhost:8080/",
          "height": 175
        },
        "id": "8DWnAixnSg5O",
        "outputId": "9c7ad4b2-c376-425c-e64a-c83a12ce71dd"
      },
      "source": [
        "df.head(4)"
      ],
      "execution_count": 27,
      "outputs": [
        {
          "output_type": "execute_result",
          "data": {
            "text/html": [
              "<div>\n",
              "<style scoped>\n",
              "    .dataframe tbody tr th:only-of-type {\n",
              "        vertical-align: middle;\n",
              "    }\n",
              "\n",
              "    .dataframe tbody tr th {\n",
              "        vertical-align: top;\n",
              "    }\n",
              "\n",
              "    .dataframe thead th {\n",
              "        text-align: right;\n",
              "    }\n",
              "</style>\n",
              "<table border=\"1\" class=\"dataframe\">\n",
              "  <thead>\n",
              "    <tr style=\"text-align: right;\">\n",
              "      <th></th>\n",
              "      <th>ID</th>\n",
              "      <th>STATE</th>\n",
              "      <th>AGE</th>\n",
              "      <th>OCCUPATION</th>\n",
              "      <th>INCOME_GROUP</th>\n",
              "      <th>CUSTOMER_SINCE</th>\n",
              "      <th>LOYALTY_PROGRAM</th>\n",
              "      <th>PAST_PURCHASE</th>\n",
              "      <th>PURCHASE</th>\n",
              "    </tr>\n",
              "  </thead>\n",
              "  <tbody>\n",
              "    <tr>\n",
              "      <th>0</th>\n",
              "      <td>1</td>\n",
              "      <td>Uttar Pradesh</td>\n",
              "      <td>28</td>\n",
              "      <td></td>\n",
              "      <td>Low</td>\n",
              "      <td>2018</td>\n",
              "      <td>No</td>\n",
              "      <td>4937</td>\n",
              "      <td>0</td>\n",
              "    </tr>\n",
              "    <tr>\n",
              "      <th>1</th>\n",
              "      <td>2</td>\n",
              "      <td>Madhya Pradesh</td>\n",
              "      <td>27</td>\n",
              "      <td>Salaried</td>\n",
              "      <td>Low</td>\n",
              "      <td>2018</td>\n",
              "      <td>No</td>\n",
              "      <td>10834</td>\n",
              "      <td>0</td>\n",
              "    </tr>\n",
              "    <tr>\n",
              "      <th>2</th>\n",
              "      <td>3</td>\n",
              "      <td>West Bengal</td>\n",
              "      <td>62</td>\n",
              "      <td></td>\n",
              "      <td>High</td>\n",
              "      <td>2013</td>\n",
              "      <td>NaN</td>\n",
              "      <td>8610</td>\n",
              "      <td>1</td>\n",
              "    </tr>\n",
              "    <tr>\n",
              "      <th>3</th>\n",
              "      <td>4</td>\n",
              "      <td>Tamil Nadu</td>\n",
              "      <td>27</td>\n",
              "      <td>Salaried</td>\n",
              "      <td>Low</td>\n",
              "      <td>2018</td>\n",
              "      <td>No</td>\n",
              "      <td>14374</td>\n",
              "      <td>1</td>\n",
              "    </tr>\n",
              "  </tbody>\n",
              "</table>\n",
              "</div>"
            ],
            "text/plain": [
              "   ID           STATE  AGE  ... LOYALTY_PROGRAM PAST_PURCHASE  PURCHASE\n",
              "0   1   Uttar Pradesh   28  ...              No          4937         0\n",
              "1   2  Madhya Pradesh   27  ...              No         10834         0\n",
              "2   3     West Bengal   62  ...             NaN          8610         1\n",
              "3   4      Tamil Nadu   27  ...              No         14374         1\n",
              "\n",
              "[4 rows x 9 columns]"
            ]
          },
          "metadata": {
            "tags": []
          },
          "execution_count": 27
        }
      ]
    },
    {
      "cell_type": "code",
      "metadata": {
        "colab": {
          "base_uri": "https://localhost:8080/",
          "height": 301
        },
        "id": "9ofdqY3JSjMm",
        "outputId": "81acf049-0f2d-4c0b-f794-9208280ebed5"
      },
      "source": [
        "sns.countplot(data = df, x = 'PURCHASE')"
      ],
      "execution_count": null,
      "outputs": [
        {
          "output_type": "execute_result",
          "data": {
            "text/plain": [
              "<matplotlib.axes._subplots.AxesSubplot at 0x7f208c033c50>"
            ]
          },
          "metadata": {
            "tags": []
          },
          "execution_count": 14
        },
        {
          "output_type": "display_data",
          "data": {
            "image/png": "[encoded data removed]",
            "text/plain": [
              "<Figure size 432x288 with 1 Axes>"
            ]
          },
          "metadata": {
            "tags": [],
            "needs_background": "light"
          }
        }
      ]
    },
    {
      "cell_type": "code",
      "metadata": {
        "colab": {
          "base_uri": "https://localhost:8080/"
        },
        "id": "3-4OJ1BTqF69",
        "outputId": "116e6ca7-1240-4266-ca3a-bfd36616a5fa"
      },
      "source": [
        "df['PURCHASE'].value_counts()"
      ],
      "execution_count": 28,
      "outputs": [
        {
          "output_type": "execute_result",
          "data": {
            "text/plain": [
              "0    114537\n",
              "1     35463\n",
              "Name: PURCHASE, dtype: int64"
            ]
          },
          "metadata": {
            "tags": []
          },
          "execution_count": 28
        }
      ]
    },
    {
      "cell_type": "code",
      "metadata": {
        "colab": {
          "base_uri": "https://localhost:8080/"
        },
        "id": "pxs6BdRRSudR",
        "outputId": "e4b08f6c-fb50-4609-d164-22e807479b0c"
      },
      "source": [
        "df['PURCHASE'].value_counts()/df.shape[0]"
      ],
      "execution_count": 29,
      "outputs": [
        {
          "output_type": "execute_result",
          "data": {
            "text/plain": [
              "0    0.76358\n",
              "1    0.23642\n",
              "Name: PURCHASE, dtype: float64"
            ]
          },
          "metadata": {
            "tags": []
          },
          "execution_count": 29
        }
      ]
    },
    {
      "cell_type": "code",
      "metadata": {
        "colab": {
          "base_uri": "https://localhost:8080/"
        },
        "id": "RiPDORn5UDTS",
        "outputId": "1eb7e376-c2b0-4808-89cd-9900489b36f2"
      },
      "source": [
        "df['CUSTOMER_SINCE'].max()"
      ],
      "execution_count": null,
      "outputs": [
        {
          "output_type": "execute_result",
          "data": {
            "text/plain": [
              "2019"
            ]
          },
          "metadata": {
            "tags": []
          },
          "execution_count": 16
        }
      ]
    },
    {
      "cell_type": "code",
      "metadata": {
        "colab": {
          "base_uri": "https://localhost:8080/"
        },
        "id": "tFp37grjRsVd",
        "outputId": "b27cfe94-ac51-43b1-af75-9bca6b463a71"
      },
      "source": [
        "df['CUSTOMER_SINCE'].min()"
      ],
      "execution_count": null,
      "outputs": [
        {
          "output_type": "execute_result",
          "data": {
            "text/plain": [
              "2008"
            ]
          },
          "metadata": {
            "tags": []
          },
          "execution_count": 17
        }
      ]
    },
    {
      "cell_type": "markdown",
      "metadata": {
        "id": "vdvHml--U_1y"
      },
      "source": [
        "Min=2008\n",
        "Max=2019"
      ]
    },
    {
      "cell_type": "code",
      "metadata": {
        "colab": {
          "base_uri": "https://localhost:8080/",
          "height": 206
        },
        "id": "9n3QPGtuUqFn",
        "outputId": "443ea094-6670-4f73-9d3a-0e31630f5951"
      },
      "source": [
        "df['CUSTOMER_SINCE'] = df['CUSTOMER_SINCE'] - df['CUSTOMER_SINCE'].min()\n",
        "df.head()"
      ],
      "execution_count": 30,
      "outputs": [
        {
          "output_type": "execute_result",
          "data": {
            "text/html": [
              "<div>\n",
              "<style scoped>\n",
              "    .dataframe tbody tr th:only-of-type {\n",
              "        vertical-align: middle;\n",
              "    }\n",
              "\n",
              "    .dataframe tbody tr th {\n",
              "        vertical-align: top;\n",
              "    }\n",
              "\n",
              "    .dataframe thead th {\n",
              "        text-align: right;\n",
              "    }\n",
              "</style>\n",
              "<table border=\"1\" class=\"dataframe\">\n",
              "  <thead>\n",
              "    <tr style=\"text-align: right;\">\n",
              "      <th></th>\n",
              "      <th>ID</th>\n",
              "      <th>STATE</th>\n",
              "      <th>AGE</th>\n",
              "      <th>OCCUPATION</th>\n",
              "      <th>INCOME_GROUP</th>\n",
              "      <th>CUSTOMER_SINCE</th>\n",
              "      <th>LOYALTY_PROGRAM</th>\n",
              "      <th>PAST_PURCHASE</th>\n",
              "      <th>PURCHASE</th>\n",
              "    </tr>\n",
              "  </thead>\n",
              "  <tbody>\n",
              "    <tr>\n",
              "      <th>0</th>\n",
              "      <td>1</td>\n",
              "      <td>Uttar Pradesh</td>\n",
              "      <td>28</td>\n",
              "      <td></td>\n",
              "      <td>Low</td>\n",
              "      <td>10</td>\n",
              "      <td>No</td>\n",
              "      <td>4937</td>\n",
              "      <td>0</td>\n",
              "    </tr>\n",
              "    <tr>\n",
              "      <th>1</th>\n",
              "      <td>2</td>\n",
              "      <td>Madhya Pradesh</td>\n",
              "      <td>27</td>\n",
              "      <td>Salaried</td>\n",
              "      <td>Low</td>\n",
              "      <td>10</td>\n",
              "      <td>No</td>\n",
              "      <td>10834</td>\n",
              "      <td>0</td>\n",
              "    </tr>\n",
              "    <tr>\n",
              "      <th>2</th>\n",
              "      <td>3</td>\n",
              "      <td>West Bengal</td>\n",
              "      <td>62</td>\n",
              "      <td></td>\n",
              "      <td>High</td>\n",
              "      <td>5</td>\n",
              "      <td>NaN</td>\n",
              "      <td>8610</td>\n",
              "      <td>1</td>\n",
              "    </tr>\n",
              "    <tr>\n",
              "      <th>3</th>\n",
              "      <td>4</td>\n",
              "      <td>Tamil Nadu</td>\n",
              "      <td>27</td>\n",
              "      <td>Salaried</td>\n",
              "      <td>Low</td>\n",
              "      <td>10</td>\n",
              "      <td>No</td>\n",
              "      <td>14374</td>\n",
              "      <td>1</td>\n",
              "    </tr>\n",
              "    <tr>\n",
              "      <th>4</th>\n",
              "      <td>5</td>\n",
              "      <td>Uttar Pradesh</td>\n",
              "      <td>40</td>\n",
              "      <td>Self employed</td>\n",
              "      <td>High</td>\n",
              "      <td>7</td>\n",
              "      <td>No</td>\n",
              "      <td>13158</td>\n",
              "      <td>0</td>\n",
              "    </tr>\n",
              "  </tbody>\n",
              "</table>\n",
              "</div>"
            ],
            "text/plain": [
              "   ID           STATE  AGE  ... LOYALTY_PROGRAM PAST_PURCHASE  PURCHASE\n",
              "0   1   Uttar Pradesh   28  ...              No          4937         0\n",
              "1   2  Madhya Pradesh   27  ...              No         10834         0\n",
              "2   3     West Bengal   62  ...             NaN          8610         1\n",
              "3   4      Tamil Nadu   27  ...              No         14374         1\n",
              "4   5   Uttar Pradesh   40  ...              No         13158         0\n",
              "\n",
              "[5 rows x 9 columns]"
            ]
          },
          "metadata": {
            "tags": []
          },
          "execution_count": 30
        }
      ]
    },
    {
      "cell_type": "code",
      "metadata": {
        "colab": {
          "base_uri": "https://localhost:8080/",
          "height": 206
        },
        "id": "8n0GeizSxh8E",
        "outputId": "5bb90ee4-e31b-4ea6-b01a-67432d8663e0"
      },
      "source": [
        "df.fillna(\"NA\",inplace=True)\n",
        "df.head()"
      ],
      "execution_count": 31,
      "outputs": [
        {
          "output_type": "execute_result",
          "data": {
            "text/html": [
              "<div>\n",
              "<style scoped>\n",
              "    .dataframe tbody tr th:only-of-type {\n",
              "        vertical-align: middle;\n",
              "    }\n",
              "\n",
              "    .dataframe tbody tr th {\n",
              "        vertical-align: top;\n",
              "    }\n",
              "\n",
              "    .dataframe thead th {\n",
              "        text-align: right;\n",
              "    }\n",
              "</style>\n",
              "<table border=\"1\" class=\"dataframe\">\n",
              "  <thead>\n",
              "    <tr style=\"text-align: right;\">\n",
              "      <th></th>\n",
              "      <th>ID</th>\n",
              "      <th>STATE</th>\n",
              "      <th>AGE</th>\n",
              "      <th>OCCUPATION</th>\n",
              "      <th>INCOME_GROUP</th>\n",
              "      <th>CUSTOMER_SINCE</th>\n",
              "      <th>LOYALTY_PROGRAM</th>\n",
              "      <th>PAST_PURCHASE</th>\n",
              "      <th>PURCHASE</th>\n",
              "    </tr>\n",
              "  </thead>\n",
              "  <tbody>\n",
              "    <tr>\n",
              "      <th>0</th>\n",
              "      <td>1</td>\n",
              "      <td>Uttar Pradesh</td>\n",
              "      <td>28</td>\n",
              "      <td></td>\n",
              "      <td>Low</td>\n",
              "      <td>10</td>\n",
              "      <td>No</td>\n",
              "      <td>4937</td>\n",
              "      <td>0</td>\n",
              "    </tr>\n",
              "    <tr>\n",
              "      <th>1</th>\n",
              "      <td>2</td>\n",
              "      <td>Madhya Pradesh</td>\n",
              "      <td>27</td>\n",
              "      <td>Salaried</td>\n",
              "      <td>Low</td>\n",
              "      <td>10</td>\n",
              "      <td>No</td>\n",
              "      <td>10834</td>\n",
              "      <td>0</td>\n",
              "    </tr>\n",
              "    <tr>\n",
              "      <th>2</th>\n",
              "      <td>3</td>\n",
              "      <td>West Bengal</td>\n",
              "      <td>62</td>\n",
              "      <td></td>\n",
              "      <td>High</td>\n",
              "      <td>5</td>\n",
              "      <td>NA</td>\n",
              "      <td>8610</td>\n",
              "      <td>1</td>\n",
              "    </tr>\n",
              "    <tr>\n",
              "      <th>3</th>\n",
              "      <td>4</td>\n",
              "      <td>Tamil Nadu</td>\n",
              "      <td>27</td>\n",
              "      <td>Salaried</td>\n",
              "      <td>Low</td>\n",
              "      <td>10</td>\n",
              "      <td>No</td>\n",
              "      <td>14374</td>\n",
              "      <td>1</td>\n",
              "    </tr>\n",
              "    <tr>\n",
              "      <th>4</th>\n",
              "      <td>5</td>\n",
              "      <td>Uttar Pradesh</td>\n",
              "      <td>40</td>\n",
              "      <td>Self employed</td>\n",
              "      <td>High</td>\n",
              "      <td>7</td>\n",
              "      <td>No</td>\n",
              "      <td>13158</td>\n",
              "      <td>0</td>\n",
              "    </tr>\n",
              "  </tbody>\n",
              "</table>\n",
              "</div>"
            ],
            "text/plain": [
              "   ID           STATE  AGE  ... LOYALTY_PROGRAM PAST_PURCHASE  PURCHASE\n",
              "0   1   Uttar Pradesh   28  ...              No          4937         0\n",
              "1   2  Madhya Pradesh   27  ...              No         10834         0\n",
              "2   3     West Bengal   62  ...              NA          8610         1\n",
              "3   4      Tamil Nadu   27  ...              No         14374         1\n",
              "4   5   Uttar Pradesh   40  ...              No         13158         0\n",
              "\n",
              "[5 rows x 9 columns]"
            ]
          },
          "metadata": {
            "tags": []
          },
          "execution_count": 31
        }
      ]
    },
    {
      "cell_type": "code",
      "metadata": {
        "colab": {
          "base_uri": "https://localhost:8080/",
          "height": 206
        },
        "id": "t0IydA3Ry2Xf",
        "outputId": "bfb58fc2-e2b0-4a2c-81f3-8fabafa52d98"
      },
      "source": [
        "df['OCCUPATION'] = df['OCCUPATION'].apply(lambda x: x.replace(\" \",\"NA\") if x==\" \" else x)\n",
        "df.head()"
      ],
      "execution_count": 34,
      "outputs": [
        {
          "output_type": "execute_result",
          "data": {
            "text/html": [
              "<div>\n",
              "<style scoped>\n",
              "    .dataframe tbody tr th:only-of-type {\n",
              "        vertical-align: middle;\n",
              "    }\n",
              "\n",
              "    .dataframe tbody tr th {\n",
              "        vertical-align: top;\n",
              "    }\n",
              "\n",
              "    .dataframe thead th {\n",
              "        text-align: right;\n",
              "    }\n",
              "</style>\n",
              "<table border=\"1\" class=\"dataframe\">\n",
              "  <thead>\n",
              "    <tr style=\"text-align: right;\">\n",
              "      <th></th>\n",
              "      <th>ID</th>\n",
              "      <th>STATE</th>\n",
              "      <th>AGE</th>\n",
              "      <th>OCCUPATION</th>\n",
              "      <th>INCOME_GROUP</th>\n",
              "      <th>CUSTOMER_SINCE</th>\n",
              "      <th>LOYALTY_PROGRAM</th>\n",
              "      <th>PAST_PURCHASE</th>\n",
              "      <th>PURCHASE</th>\n",
              "    </tr>\n",
              "  </thead>\n",
              "  <tbody>\n",
              "    <tr>\n",
              "      <th>0</th>\n",
              "      <td>1</td>\n",
              "      <td>Uttar Pradesh</td>\n",
              "      <td>28</td>\n",
              "      <td>NA</td>\n",
              "      <td>Low</td>\n",
              "      <td>10</td>\n",
              "      <td>No</td>\n",
              "      <td>4937</td>\n",
              "      <td>0</td>\n",
              "    </tr>\n",
              "    <tr>\n",
              "      <th>1</th>\n",
              "      <td>2</td>\n",
              "      <td>Madhya Pradesh</td>\n",
              "      <td>27</td>\n",
              "      <td>Salaried</td>\n",
              "      <td>Low</td>\n",
              "      <td>10</td>\n",
              "      <td>No</td>\n",
              "      <td>10834</td>\n",
              "      <td>0</td>\n",
              "    </tr>\n",
              "    <tr>\n",
              "      <th>2</th>\n",
              "      <td>3</td>\n",
              "      <td>West Bengal</td>\n",
              "      <td>62</td>\n",
              "      <td>NA</td>\n",
              "      <td>High</td>\n",
              "      <td>5</td>\n",
              "      <td>NA</td>\n",
              "      <td>8610</td>\n",
              "      <td>1</td>\n",
              "    </tr>\n",
              "    <tr>\n",
              "      <th>3</th>\n",
              "      <td>4</td>\n",
              "      <td>Tamil Nadu</td>\n",
              "      <td>27</td>\n",
              "      <td>Salaried</td>\n",
              "      <td>Low</td>\n",
              "      <td>10</td>\n",
              "      <td>No</td>\n",
              "      <td>14374</td>\n",
              "      <td>1</td>\n",
              "    </tr>\n",
              "    <tr>\n",
              "      <th>4</th>\n",
              "      <td>5</td>\n",
              "      <td>Uttar Pradesh</td>\n",
              "      <td>40</td>\n",
              "      <td>Self employed</td>\n",
              "      <td>High</td>\n",
              "      <td>7</td>\n",
              "      <td>No</td>\n",
              "      <td>13158</td>\n",
              "      <td>0</td>\n",
              "    </tr>\n",
              "  </tbody>\n",
              "</table>\n",
              "</div>"
            ],
            "text/plain": [
              "   ID           STATE  AGE  ... LOYALTY_PROGRAM PAST_PURCHASE  PURCHASE\n",
              "0   1   Uttar Pradesh   28  ...              No          4937         0\n",
              "1   2  Madhya Pradesh   27  ...              No         10834         0\n",
              "2   3     West Bengal   62  ...              NA          8610         1\n",
              "3   4      Tamil Nadu   27  ...              No         14374         1\n",
              "4   5   Uttar Pradesh   40  ...              No         13158         0\n",
              "\n",
              "[5 rows x 9 columns]"
            ]
          },
          "metadata": {
            "tags": []
          },
          "execution_count": 34
        }
      ]
    },
    {
      "cell_type": "code",
      "metadata": {
        "colab": {
          "base_uri": "https://localhost:8080/"
        },
        "id": "3gNziI2PzUvs",
        "outputId": "20985a48-e0ff-4adc-89d1-533f408ea0fc"
      },
      "source": [
        "df[\"INCOME_GROUP\"].value_counts()"
      ],
      "execution_count": 35,
      "outputs": [
        {
          "output_type": "execute_result",
          "data": {
            "text/plain": [
              "Low       63523\n",
              "High      41808\n",
              "Medium    41232\n",
              "           3437\n",
              "Name: INCOME_GROUP, dtype: int64"
            ]
          },
          "metadata": {
            "tags": []
          },
          "execution_count": 35
        }
      ]
    },
    {
      "cell_type": "code",
      "metadata": {
        "colab": {
          "base_uri": "https://localhost:8080/",
          "height": 206
        },
        "id": "at0ZNuZ2zaoU",
        "outputId": "4e52b8de-a8a2-4566-d028-afbf3d86621f"
      },
      "source": [
        "df['INCOME_GROUP'] = df['INCOME_GROUP'].apply(lambda x: x.replace(\" \",\"NA\") if x==\" \" else x)\n",
        "df.head()"
      ],
      "execution_count": 36,
      "outputs": [
        {
          "output_type": "execute_result",
          "data": {
            "text/html": [
              "<div>\n",
              "<style scoped>\n",
              "    .dataframe tbody tr th:only-of-type {\n",
              "        vertical-align: middle;\n",
              "    }\n",
              "\n",
              "    .dataframe tbody tr th {\n",
              "        vertical-align: top;\n",
              "    }\n",
              "\n",
              "    .dataframe thead th {\n",
              "        text-align: right;\n",
              "    }\n",
              "</style>\n",
              "<table border=\"1\" class=\"dataframe\">\n",
              "  <thead>\n",
              "    <tr style=\"text-align: right;\">\n",
              "      <th></th>\n",
              "      <th>ID</th>\n",
              "      <th>STATE</th>\n",
              "      <th>AGE</th>\n",
              "      <th>OCCUPATION</th>\n",
              "      <th>INCOME_GROUP</th>\n",
              "      <th>CUSTOMER_SINCE</th>\n",
              "      <th>LOYALTY_PROGRAM</th>\n",
              "      <th>PAST_PURCHASE</th>\n",
              "      <th>PURCHASE</th>\n",
              "    </tr>\n",
              "  </thead>\n",
              "  <tbody>\n",
              "    <tr>\n",
              "      <th>0</th>\n",
              "      <td>1</td>\n",
              "      <td>Uttar Pradesh</td>\n",
              "      <td>28</td>\n",
              "      <td>NA</td>\n",
              "      <td>Low</td>\n",
              "      <td>10</td>\n",
              "      <td>No</td>\n",
              "      <td>4937</td>\n",
              "      <td>0</td>\n",
              "    </tr>\n",
              "    <tr>\n",
              "      <th>1</th>\n",
              "      <td>2</td>\n",
              "      <td>Madhya Pradesh</td>\n",
              "      <td>27</td>\n",
              "      <td>Salaried</td>\n",
              "      <td>Low</td>\n",
              "      <td>10</td>\n",
              "      <td>No</td>\n",
              "      <td>10834</td>\n",
              "      <td>0</td>\n",
              "    </tr>\n",
              "    <tr>\n",
              "      <th>2</th>\n",
              "      <td>3</td>\n",
              "      <td>West Bengal</td>\n",
              "      <td>62</td>\n",
              "      <td>NA</td>\n",
              "      <td>High</td>\n",
              "      <td>5</td>\n",
              "      <td>NA</td>\n",
              "      <td>8610</td>\n",
              "      <td>1</td>\n",
              "    </tr>\n",
              "    <tr>\n",
              "      <th>3</th>\n",
              "      <td>4</td>\n",
              "      <td>Tamil Nadu</td>\n",
              "      <td>27</td>\n",
              "      <td>Salaried</td>\n",
              "      <td>Low</td>\n",
              "      <td>10</td>\n",
              "      <td>No</td>\n",
              "      <td>14374</td>\n",
              "      <td>1</td>\n",
              "    </tr>\n",
              "    <tr>\n",
              "      <th>4</th>\n",
              "      <td>5</td>\n",
              "      <td>Uttar Pradesh</td>\n",
              "      <td>40</td>\n",
              "      <td>Self employed</td>\n",
              "      <td>High</td>\n",
              "      <td>7</td>\n",
              "      <td>No</td>\n",
              "      <td>13158</td>\n",
              "      <td>0</td>\n",
              "    </tr>\n",
              "  </tbody>\n",
              "</table>\n",
              "</div>"
            ],
            "text/plain": [
              "   ID           STATE  AGE  ... LOYALTY_PROGRAM PAST_PURCHASE  PURCHASE\n",
              "0   1   Uttar Pradesh   28  ...              No          4937         0\n",
              "1   2  Madhya Pradesh   27  ...              No         10834         0\n",
              "2   3     West Bengal   62  ...              NA          8610         1\n",
              "3   4      Tamil Nadu   27  ...              No         14374         1\n",
              "4   5   Uttar Pradesh   40  ...              No         13158         0\n",
              "\n",
              "[5 rows x 9 columns]"
            ]
          },
          "metadata": {
            "tags": []
          },
          "execution_count": 36
        }
      ]
    },
    {
      "cell_type": "code",
      "metadata": {
        "colab": {
          "base_uri": "https://localhost:8080/",
          "height": 206
        },
        "id": "oOH_5VIBzxI1",
        "outputId": "79b4032e-5048-4515-9dec-45ab0c017fb2"
      },
      "source": [
        "df['STATE'] = df['STATE'].apply(lambda x: x.replace(\" \",\"NA\") if x==\" \" else x)\n",
        "df.head()"
      ],
      "execution_count": 37,
      "outputs": [
        {
          "output_type": "execute_result",
          "data": {
            "text/html": [
              "<div>\n",
              "<style scoped>\n",
              "    .dataframe tbody tr th:only-of-type {\n",
              "        vertical-align: middle;\n",
              "    }\n",
              "\n",
              "    .dataframe tbody tr th {\n",
              "        vertical-align: top;\n",
              "    }\n",
              "\n",
              "    .dataframe thead th {\n",
              "        text-align: right;\n",
              "    }\n",
              "</style>\n",
              "<table border=\"1\" class=\"dataframe\">\n",
              "  <thead>\n",
              "    <tr style=\"text-align: right;\">\n",
              "      <th></th>\n",
              "      <th>ID</th>\n",
              "      <th>STATE</th>\n",
              "      <th>AGE</th>\n",
              "      <th>OCCUPATION</th>\n",
              "      <th>INCOME_GROUP</th>\n",
              "      <th>CUSTOMER_SINCE</th>\n",
              "      <th>LOYALTY_PROGRAM</th>\n",
              "      <th>PAST_PURCHASE</th>\n",
              "      <th>PURCHASE</th>\n",
              "    </tr>\n",
              "  </thead>\n",
              "  <tbody>\n",
              "    <tr>\n",
              "      <th>0</th>\n",
              "      <td>1</td>\n",
              "      <td>Uttar Pradesh</td>\n",
              "      <td>28</td>\n",
              "      <td>NA</td>\n",
              "      <td>Low</td>\n",
              "      <td>10</td>\n",
              "      <td>No</td>\n",
              "      <td>4937</td>\n",
              "      <td>0</td>\n",
              "    </tr>\n",
              "    <tr>\n",
              "      <th>1</th>\n",
              "      <td>2</td>\n",
              "      <td>Madhya Pradesh</td>\n",
              "      <td>27</td>\n",
              "      <td>Salaried</td>\n",
              "      <td>Low</td>\n",
              "      <td>10</td>\n",
              "      <td>No</td>\n",
              "      <td>10834</td>\n",
              "      <td>0</td>\n",
              "    </tr>\n",
              "    <tr>\n",
              "      <th>2</th>\n",
              "      <td>3</td>\n",
              "      <td>West Bengal</td>\n",
              "      <td>62</td>\n",
              "      <td>NA</td>\n",
              "      <td>High</td>\n",
              "      <td>5</td>\n",
              "      <td>NA</td>\n",
              "      <td>8610</td>\n",
              "      <td>1</td>\n",
              "    </tr>\n",
              "    <tr>\n",
              "      <th>3</th>\n",
              "      <td>4</td>\n",
              "      <td>Tamil Nadu</td>\n",
              "      <td>27</td>\n",
              "      <td>Salaried</td>\n",
              "      <td>Low</td>\n",
              "      <td>10</td>\n",
              "      <td>No</td>\n",
              "      <td>14374</td>\n",
              "      <td>1</td>\n",
              "    </tr>\n",
              "    <tr>\n",
              "      <th>4</th>\n",
              "      <td>5</td>\n",
              "      <td>Uttar Pradesh</td>\n",
              "      <td>40</td>\n",
              "      <td>Self employed</td>\n",
              "      <td>High</td>\n",
              "      <td>7</td>\n",
              "      <td>No</td>\n",
              "      <td>13158</td>\n",
              "      <td>0</td>\n",
              "    </tr>\n",
              "  </tbody>\n",
              "</table>\n",
              "</div>"
            ],
            "text/plain": [
              "   ID           STATE  AGE  ... LOYALTY_PROGRAM PAST_PURCHASE  PURCHASE\n",
              "0   1   Uttar Pradesh   28  ...              No          4937         0\n",
              "1   2  Madhya Pradesh   27  ...              No         10834         0\n",
              "2   3     West Bengal   62  ...              NA          8610         1\n",
              "3   4      Tamil Nadu   27  ...              No         14374         1\n",
              "4   5   Uttar Pradesh   40  ...              No         13158         0\n",
              "\n",
              "[5 rows x 9 columns]"
            ]
          },
          "metadata": {
            "tags": []
          },
          "execution_count": 37
        }
      ]
    },
    {
      "cell_type": "code",
      "metadata": {
        "colab": {
          "base_uri": "https://localhost:8080/",
          "height": 330
        },
        "id": "7UzE9thNxtfu",
        "outputId": "7f7053e0-d79c-4ac8-c835-107feb449c73"
      },
      "source": [
        "df = pd.get_dummies(df, columns=[\"LOYALTY_PROGRAM\"], prefix=\"LOYALTY_PROGRAM\")\n",
        "df = pd.get_dummies(df, columns=[\"OCCUPATION\"], prefix=\"OCCUPATION\")\n",
        "df = pd.get_dummies(df, columns=[\"INCOME_GROUP\"], prefix=\"INCOME_GROUP\")\n",
        "df.head()"
      ],
      "execution_count": 38,
      "outputs": [
        {
          "output_type": "execute_result",
          "data": {
            "text/html": [
              "<div>\n",
              "<style scoped>\n",
              "    .dataframe tbody tr th:only-of-type {\n",
              "        vertical-align: middle;\n",
              "    }\n",
              "\n",
              "    .dataframe tbody tr th {\n",
              "        vertical-align: top;\n",
              "    }\n",
              "\n",
              "    .dataframe thead th {\n",
              "        text-align: right;\n",
              "    }\n",
              "</style>\n",
              "<table border=\"1\" class=\"dataframe\">\n",
              "  <thead>\n",
              "    <tr style=\"text-align: right;\">\n",
              "      <th></th>\n",
              "      <th>ID</th>\n",
              "      <th>STATE</th>\n",
              "      <th>AGE</th>\n",
              "      <th>CUSTOMER_SINCE</th>\n",
              "      <th>PAST_PURCHASE</th>\n",
              "      <th>PURCHASE</th>\n",
              "      <th>LOYALTY_PROGRAM_NA</th>\n",
              "      <th>LOYALTY_PROGRAM_No</th>\n",
              "      <th>LOYALTY_PROGRAM_Yes</th>\n",
              "      <th>OCCUPATION_Business</th>\n",
              "      <th>OCCUPATION_NA</th>\n",
              "      <th>OCCUPATION_Salaried</th>\n",
              "      <th>OCCUPATION_Self employed</th>\n",
              "      <th>INCOME_GROUP_High</th>\n",
              "      <th>INCOME_GROUP_Low</th>\n",
              "      <th>INCOME_GROUP_Medium</th>\n",
              "      <th>INCOME_GROUP_NA</th>\n",
              "    </tr>\n",
              "  </thead>\n",
              "  <tbody>\n",
              "    <tr>\n",
              "      <th>0</th>\n",
              "      <td>1</td>\n",
              "      <td>Uttar Pradesh</td>\n",
              "      <td>28</td>\n",
              "      <td>10</td>\n",
              "      <td>4937</td>\n",
              "      <td>0</td>\n",
              "      <td>0</td>\n",
              "      <td>1</td>\n",
              "      <td>0</td>\n",
              "      <td>0</td>\n",
              "      <td>1</td>\n",
              "      <td>0</td>\n",
              "      <td>0</td>\n",
              "      <td>0</td>\n",
              "      <td>1</td>\n",
              "      <td>0</td>\n",
              "      <td>0</td>\n",
              "    </tr>\n",
              "    <tr>\n",
              "      <th>1</th>\n",
              "      <td>2</td>\n",
              "      <td>Madhya Pradesh</td>\n",
              "      <td>27</td>\n",
              "      <td>10</td>\n",
              "      <td>10834</td>\n",
              "      <td>0</td>\n",
              "      <td>0</td>\n",
              "      <td>1</td>\n",
              "      <td>0</td>\n",
              "      <td>0</td>\n",
              "      <td>0</td>\n",
              "      <td>1</td>\n",
              "      <td>0</td>\n",
              "      <td>0</td>\n",
              "      <td>1</td>\n",
              "      <td>0</td>\n",
              "      <td>0</td>\n",
              "    </tr>\n",
              "    <tr>\n",
              "      <th>2</th>\n",
              "      <td>3</td>\n",
              "      <td>West Bengal</td>\n",
              "      <td>62</td>\n",
              "      <td>5</td>\n",
              "      <td>8610</td>\n",
              "      <td>1</td>\n",
              "      <td>1</td>\n",
              "      <td>0</td>\n",
              "      <td>0</td>\n",
              "      <td>0</td>\n",
              "      <td>1</td>\n",
              "      <td>0</td>\n",
              "      <td>0</td>\n",
              "      <td>1</td>\n",
              "      <td>0</td>\n",
              "      <td>0</td>\n",
              "      <td>0</td>\n",
              "    </tr>\n",
              "    <tr>\n",
              "      <th>3</th>\n",
              "      <td>4</td>\n",
              "      <td>Tamil Nadu</td>\n",
              "      <td>27</td>\n",
              "      <td>10</td>\n",
              "      <td>14374</td>\n",
              "      <td>1</td>\n",
              "      <td>0</td>\n",
              "      <td>1</td>\n",
              "      <td>0</td>\n",
              "      <td>0</td>\n",
              "      <td>0</td>\n",
              "      <td>1</td>\n",
              "      <td>0</td>\n",
              "      <td>0</td>\n",
              "      <td>1</td>\n",
              "      <td>0</td>\n",
              "      <td>0</td>\n",
              "    </tr>\n",
              "    <tr>\n",
              "      <th>4</th>\n",
              "      <td>5</td>\n",
              "      <td>Uttar Pradesh</td>\n",
              "      <td>40</td>\n",
              "      <td>7</td>\n",
              "      <td>13158</td>\n",
              "      <td>0</td>\n",
              "      <td>0</td>\n",
              "      <td>1</td>\n",
              "      <td>0</td>\n",
              "      <td>0</td>\n",
              "      <td>0</td>\n",
              "      <td>0</td>\n",
              "      <td>1</td>\n",
              "      <td>1</td>\n",
              "      <td>0</td>\n",
              "      <td>0</td>\n",
              "      <td>0</td>\n",
              "    </tr>\n",
              "  </tbody>\n",
              "</table>\n",
              "</div>"
            ],
            "text/plain": [
              "   ID           STATE  ...  INCOME_GROUP_Medium  INCOME_GROUP_NA\n",
              "0   1   Uttar Pradesh  ...                    0                0\n",
              "1   2  Madhya Pradesh  ...                    0                0\n",
              "2   3     West Bengal  ...                    0                0\n",
              "3   4      Tamil Nadu  ...                    0                0\n",
              "4   5   Uttar Pradesh  ...                    0                0\n",
              "\n",
              "[5 rows x 17 columns]"
            ]
          },
          "metadata": {
            "tags": []
          },
          "execution_count": 38
        }
      ]
    },
    {
      "cell_type": "code",
      "metadata": {
        "colab": {
          "base_uri": "https://localhost:8080/"
        },
        "id": "jKXeSvfx0Fmf",
        "outputId": "411f7cba-6865-4cca-d05f-29cb5e819437"
      },
      "source": [
        "df.shape"
      ],
      "execution_count": 39,
      "outputs": [
        {
          "output_type": "execute_result",
          "data": {
            "text/plain": [
              "(150000, 17)"
            ]
          },
          "metadata": {
            "tags": []
          },
          "execution_count": 39
        }
      ]
    },
    {
      "cell_type": "code",
      "metadata": {
        "id": "45TRz2xQ2yVl"
      },
      "source": [
        "from sklearn.preprocessing import RobustScaler\n",
        "trans = RobustScaler()\n",
        "df[['PAST_PURCHASE', 'AGE']] = trans.fit_transform(df[['PAST_PURCHASE', 'AGE']])"
      ],
      "execution_count": 46,
      "outputs": []
    },
    {
      "cell_type": "code",
      "metadata": {
        "id": "EmgI3_4t3K5M"
      },
      "source": [
        "df.drop([\"ID\"],axis=1,inplace=True)"
      ],
      "execution_count": 48,
      "outputs": []
    },
    {
      "cell_type": "code",
      "metadata": {
        "id": "_oks_HbG3lNy"
      },
      "source": [
        "from sklearn.preprocessing import RobustScaler\n",
        "trans = RobustScaler()\n",
        "df[['CUSTOMER_SINCE']] = trans.fit_transform(df[['CUSTOMER_SINCE']])"
      ],
      "execution_count": 50,
      "outputs": []
    },
    {
      "cell_type": "code",
      "metadata": {
        "id": "sb0SnbpM30F_"
      },
      "source": [
        "df = pd.get_dummies(df, columns=[\"STATE\"], prefix=\"STATE\")"
      ],
      "execution_count": 52,
      "outputs": []
    },
    {
      "cell_type": "code",
      "metadata": {
        "colab": {
          "base_uri": "https://localhost:8080/",
          "height": 261
        },
        "id": "dneo2NT-24ML",
        "outputId": "8c2ff59b-a8f4-464e-8ce6-1e0c4e4f16ab"
      },
      "source": [
        "df.head()"
      ],
      "execution_count": 53,
      "outputs": [
        {
          "output_type": "execute_result",
          "data": {
            "text/html": [
              "<div>\n",
              "<style scoped>\n",
              "    .dataframe tbody tr th:only-of-type {\n",
              "        vertical-align: middle;\n",
              "    }\n",
              "\n",
              "    .dataframe tbody tr th {\n",
              "        vertical-align: top;\n",
              "    }\n",
              "\n",
              "    .dataframe thead th {\n",
              "        text-align: right;\n",
              "    }\n",
              "</style>\n",
              "<table border=\"1\" class=\"dataframe\">\n",
              "  <thead>\n",
              "    <tr style=\"text-align: right;\">\n",
              "      <th></th>\n",
              "      <th>AGE</th>\n",
              "      <th>CUSTOMER_SINCE</th>\n",
              "      <th>PAST_PURCHASE</th>\n",
              "      <th>PURCHASE</th>\n",
              "      <th>LOYALTY_PROGRAM_NA</th>\n",
              "      <th>LOYALTY_PROGRAM_No</th>\n",
              "      <th>LOYALTY_PROGRAM_Yes</th>\n",
              "      <th>OCCUPATION_Business</th>\n",
              "      <th>OCCUPATION_NA</th>\n",
              "      <th>OCCUPATION_Salaried</th>\n",
              "      <th>OCCUPATION_Self employed</th>\n",
              "      <th>INCOME_GROUP_High</th>\n",
              "      <th>INCOME_GROUP_Low</th>\n",
              "      <th>INCOME_GROUP_Medium</th>\n",
              "      <th>INCOME_GROUP_NA</th>\n",
              "      <th>STATE_Andaman and Nicobar Islands</th>\n",
              "      <th>STATE_Andhra Pradesh</th>\n",
              "      <th>STATE_Arunachal Pradesh</th>\n",
              "      <th>STATE_Assam</th>\n",
              "      <th>STATE_Bihar</th>\n",
              "      <th>STATE_Chandigarh</th>\n",
              "      <th>STATE_Chhattisgarh</th>\n",
              "      <th>STATE_Delhi</th>\n",
              "      <th>STATE_Goa</th>\n",
              "      <th>STATE_Gujarat</th>\n",
              "      <th>STATE_Haryana</th>\n",
              "      <th>STATE_Himachal Pradesh</th>\n",
              "      <th>STATE_Jammu and Kashmir</th>\n",
              "      <th>STATE_Jharkhand</th>\n",
              "      <th>STATE_Karnataka</th>\n",
              "      <th>STATE_Kerala</th>\n",
              "      <th>STATE_Madhya Pradesh</th>\n",
              "      <th>STATE_Maharashtra</th>\n",
              "      <th>STATE_Manipur</th>\n",
              "      <th>STATE_Meghalaya</th>\n",
              "      <th>STATE_Mizoram</th>\n",
              "      <th>STATE_NA</th>\n",
              "      <th>STATE_Nagaland</th>\n",
              "      <th>STATE_Odisha</th>\n",
              "      <th>STATE_Puducherry</th>\n",
              "      <th>STATE_Punjab</th>\n",
              "      <th>STATE_Rajasthan</th>\n",
              "      <th>STATE_Sikkim</th>\n",
              "      <th>STATE_Tamil Nadu</th>\n",
              "      <th>STATE_Telangana</th>\n",
              "      <th>STATE_Tripura</th>\n",
              "      <th>STATE_Uttar Pradesh</th>\n",
              "      <th>STATE_Uttarakhand</th>\n",
              "      <th>STATE_West Bengal</th>\n",
              "    </tr>\n",
              "  </thead>\n",
              "  <tbody>\n",
              "    <tr>\n",
              "      <th>0</th>\n",
              "      <td>-0.625000</td>\n",
              "      <td>0.2</td>\n",
              "      <td>-0.524782</td>\n",
              "      <td>0</td>\n",
              "      <td>0</td>\n",
              "      <td>1</td>\n",
              "      <td>0</td>\n",
              "      <td>0</td>\n",
              "      <td>1</td>\n",
              "      <td>0</td>\n",
              "      <td>0</td>\n",
              "      <td>0</td>\n",
              "      <td>1</td>\n",
              "      <td>0</td>\n",
              "      <td>0</td>\n",
              "      <td>0</td>\n",
              "      <td>0</td>\n",
              "      <td>0</td>\n",
              "      <td>0</td>\n",
              "      <td>0</td>\n",
              "      <td>0</td>\n",
              "      <td>0</td>\n",
              "      <td>0</td>\n",
              "      <td>0</td>\n",
              "      <td>0</td>\n",
              "      <td>0</td>\n",
              "      <td>0</td>\n",
              "      <td>0</td>\n",
              "      <td>0</td>\n",
              "      <td>0</td>\n",
              "      <td>0</td>\n",
              "      <td>0</td>\n",
              "      <td>0</td>\n",
              "      <td>0</td>\n",
              "      <td>0</td>\n",
              "      <td>0</td>\n",
              "      <td>0</td>\n",
              "      <td>0</td>\n",
              "      <td>0</td>\n",
              "      <td>0</td>\n",
              "      <td>0</td>\n",
              "      <td>0</td>\n",
              "      <td>0</td>\n",
              "      <td>0</td>\n",
              "      <td>0</td>\n",
              "      <td>0</td>\n",
              "      <td>1</td>\n",
              "      <td>0</td>\n",
              "      <td>0</td>\n",
              "    </tr>\n",
              "    <tr>\n",
              "      <th>1</th>\n",
              "      <td>-0.666667</td>\n",
              "      <td>0.2</td>\n",
              "      <td>0.251011</td>\n",
              "      <td>0</td>\n",
              "      <td>0</td>\n",
              "      <td>1</td>\n",
              "      <td>0</td>\n",
              "      <td>0</td>\n",
              "      <td>0</td>\n",
              "      <td>1</td>\n",
              "      <td>0</td>\n",
              "      <td>0</td>\n",
              "      <td>1</td>\n",
              "      <td>0</td>\n",
              "      <td>0</td>\n",
              "      <td>0</td>\n",
              "      <td>0</td>\n",
              "      <td>0</td>\n",
              "      <td>0</td>\n",
              "      <td>0</td>\n",
              "      <td>0</td>\n",
              "      <td>0</td>\n",
              "      <td>0</td>\n",
              "      <td>0</td>\n",
              "      <td>0</td>\n",
              "      <td>0</td>\n",
              "      <td>0</td>\n",
              "      <td>0</td>\n",
              "      <td>0</td>\n",
              "      <td>0</td>\n",
              "      <td>0</td>\n",
              "      <td>1</td>\n",
              "      <td>0</td>\n",
              "      <td>0</td>\n",
              "      <td>0</td>\n",
              "      <td>0</td>\n",
              "      <td>0</td>\n",
              "      <td>0</td>\n",
              "      <td>0</td>\n",
              "      <td>0</td>\n",
              "      <td>0</td>\n",
              "      <td>0</td>\n",
              "      <td>0</td>\n",
              "      <td>0</td>\n",
              "      <td>0</td>\n",
              "      <td>0</td>\n",
              "      <td>0</td>\n",
              "      <td>0</td>\n",
              "      <td>0</td>\n",
              "    </tr>\n",
              "    <tr>\n",
              "      <th>2</th>\n",
              "      <td>0.791667</td>\n",
              "      <td>-0.8</td>\n",
              "      <td>-0.041572</td>\n",
              "      <td>1</td>\n",
              "      <td>1</td>\n",
              "      <td>0</td>\n",
              "      <td>0</td>\n",
              "      <td>0</td>\n",
              "      <td>1</td>\n",
              "      <td>0</td>\n",
              "      <td>0</td>\n",
              "      <td>1</td>\n",
              "      <td>0</td>\n",
              "      <td>0</td>\n",
              "      <td>0</td>\n",
              "      <td>0</td>\n",
              "      <td>0</td>\n",
              "      <td>0</td>\n",
              "      <td>0</td>\n",
              "      <td>0</td>\n",
              "      <td>0</td>\n",
              "      <td>0</td>\n",
              "      <td>0</td>\n",
              "      <td>0</td>\n",
              "      <td>0</td>\n",
              "      <td>0</td>\n",
              "      <td>0</td>\n",
              "      <td>0</td>\n",
              "      <td>0</td>\n",
              "      <td>0</td>\n",
              "      <td>0</td>\n",
              "      <td>0</td>\n",
              "      <td>0</td>\n",
              "      <td>0</td>\n",
              "      <td>0</td>\n",
              "      <td>0</td>\n",
              "      <td>0</td>\n",
              "      <td>0</td>\n",
              "      <td>0</td>\n",
              "      <td>0</td>\n",
              "      <td>0</td>\n",
              "      <td>0</td>\n",
              "      <td>0</td>\n",
              "      <td>0</td>\n",
              "      <td>0</td>\n",
              "      <td>0</td>\n",
              "      <td>0</td>\n",
              "      <td>0</td>\n",
              "      <td>1</td>\n",
              "    </tr>\n",
              "    <tr>\n",
              "      <th>3</th>\n",
              "      <td>-0.666667</td>\n",
              "      <td>0.2</td>\n",
              "      <td>0.716724</td>\n",
              "      <td>1</td>\n",
              "      <td>0</td>\n",
              "      <td>1</td>\n",
              "      <td>0</td>\n",
              "      <td>0</td>\n",
              "      <td>0</td>\n",
              "      <td>1</td>\n",
              "      <td>0</td>\n",
              "      <td>0</td>\n",
              "      <td>1</td>\n",
              "      <td>0</td>\n",
              "      <td>0</td>\n",
              "      <td>0</td>\n",
              "      <td>0</td>\n",
              "      <td>0</td>\n",
              "      <td>0</td>\n",
              "      <td>0</td>\n",
              "      <td>0</td>\n",
              "      <td>0</td>\n",
              "      <td>0</td>\n",
              "      <td>0</td>\n",
              "      <td>0</td>\n",
              "      <td>0</td>\n",
              "      <td>0</td>\n",
              "      <td>0</td>\n",
              "      <td>0</td>\n",
              "      <td>0</td>\n",
              "      <td>0</td>\n",
              "      <td>0</td>\n",
              "      <td>0</td>\n",
              "      <td>0</td>\n",
              "      <td>0</td>\n",
              "      <td>0</td>\n",
              "      <td>0</td>\n",
              "      <td>0</td>\n",
              "      <td>0</td>\n",
              "      <td>0</td>\n",
              "      <td>0</td>\n",
              "      <td>0</td>\n",
              "      <td>0</td>\n",
              "      <td>1</td>\n",
              "      <td>0</td>\n",
              "      <td>0</td>\n",
              "      <td>0</td>\n",
              "      <td>0</td>\n",
              "      <td>0</td>\n",
              "    </tr>\n",
              "    <tr>\n",
              "      <th>4</th>\n",
              "      <td>-0.125000</td>\n",
              "      <td>-0.4</td>\n",
              "      <td>0.556751</td>\n",
              "      <td>0</td>\n",
              "      <td>0</td>\n",
              "      <td>1</td>\n",
              "      <td>0</td>\n",
              "      <td>0</td>\n",
              "      <td>0</td>\n",
              "      <td>0</td>\n",
              "      <td>1</td>\n",
              "      <td>1</td>\n",
              "      <td>0</td>\n",
              "      <td>0</td>\n",
              "      <td>0</td>\n",
              "      <td>0</td>\n",
              "      <td>0</td>\n",
              "      <td>0</td>\n",
              "      <td>0</td>\n",
              "      <td>0</td>\n",
              "      <td>0</td>\n",
              "      <td>0</td>\n",
              "      <td>0</td>\n",
              "      <td>0</td>\n",
              "      <td>0</td>\n",
              "      <td>0</td>\n",
              "      <td>0</td>\n",
              "      <td>0</td>\n",
              "      <td>0</td>\n",
              "      <td>0</td>\n",
              "      <td>0</td>\n",
              "      <td>0</td>\n",
              "      <td>0</td>\n",
              "      <td>0</td>\n",
              "      <td>0</td>\n",
              "      <td>0</td>\n",
              "      <td>0</td>\n",
              "      <td>0</td>\n",
              "      <td>0</td>\n",
              "      <td>0</td>\n",
              "      <td>0</td>\n",
              "      <td>0</td>\n",
              "      <td>0</td>\n",
              "      <td>0</td>\n",
              "      <td>0</td>\n",
              "      <td>0</td>\n",
              "      <td>1</td>\n",
              "      <td>0</td>\n",
              "      <td>0</td>\n",
              "    </tr>\n",
              "  </tbody>\n",
              "</table>\n",
              "</div>"
            ],
            "text/plain": [
              "        AGE  CUSTOMER_SINCE  ...  STATE_Uttarakhand  STATE_West Bengal\n",
              "0 -0.625000             0.2  ...                  0                  0\n",
              "1 -0.666667             0.2  ...                  0                  0\n",
              "2  0.791667            -0.8  ...                  0                  1\n",
              "3 -0.666667             0.2  ...                  0                  0\n",
              "4 -0.125000            -0.4  ...                  0                  0\n",
              "\n",
              "[5 rows x 49 columns]"
            ]
          },
          "metadata": {
            "tags": []
          },
          "execution_count": 53
        }
      ]
    },
    {
      "cell_type": "code",
      "metadata": {
        "colab": {
          "base_uri": "https://localhost:8080/"
        },
        "id": "pXLL6dCi4Egp",
        "outputId": "878ae149-383b-4ed9-fae7-09d4d34bdc42"
      },
      "source": [
        "df.shape"
      ],
      "execution_count": 54,
      "outputs": [
        {
          "output_type": "execute_result",
          "data": {
            "text/plain": [
              "(150000, 49)"
            ]
          },
          "metadata": {
            "tags": []
          },
          "execution_count": 54
        }
      ]
    },
    {
      "cell_type": "code",
      "metadata": {
        "colab": {
          "base_uri": "https://localhost:8080/",
          "height": 327
        },
        "id": "IikAeUB9VEfe",
        "outputId": "e71c9fd2-5e0b-47ba-8e7d-876174bc2ee4"
      },
      "source": [
        "fig, ax = plt.subplots()\n",
        "\n",
        "ax.hist(df[df[\"PURCHASE\"]==1][\"CUSTOMER_SINCE\"], bins=15, alpha=0.5, color=\"blue\", label=\"Purchased\")\n",
        "ax.hist(df[df[\"PURCHASE\"]==0][\"CUSTOMER_SINCE\"], bins=15, alpha=0.5, color=\"green\", label=\"Not Purchased\")\n",
        "\n",
        "ax.set_xlabel(\"CUSTOMER_SINCE\")\n",
        "ax.set_ylabel(\"Count of Customers\")\n",
        "\n",
        "fig.suptitle(\"CUSTOMER SINCE vs. PURCHASE for Dataset\")\n",
        "\n",
        "ax.legend()"
      ],
      "execution_count": null,
      "outputs": [
        {
          "output_type": "execute_result",
          "data": {
            "text/plain": [
              "<matplotlib.legend.Legend at 0x7f207ec0b650>"
            ]
          },
          "metadata": {
            "tags": []
          },
          "execution_count": 19
        },
        {
          "output_type": "display_data",
          "data": {
            "image/png": "[encoded data removed]",
            "text/plain": [
              "<Figure size 432x288 with 1 Axes>"
            ]
          },
          "metadata": {
            "tags": [],
            "needs_background": "light"
          }
        }
      ]
    },
    {
      "cell_type": "code",
      "metadata": {
        "colab": {
          "base_uri": "https://localhost:8080/",
          "height": 308
        },
        "id": "UuQNcKglVz99",
        "outputId": "9f4e3cd6-0534-4af9-f1b5-d7388c70935d"
      },
      "source": [
        "fig, ax = plt.subplots()\n",
        "\n",
        "sns.kdeplot(df[df[\"PURCHASE\"]==1][\"CUSTOMER_SINCE\"], shade=True, color=\"blue\", label=\"PURCHASED\", ax=ax)\n",
        "sns.kdeplot(df[df[\"PURCHASE\"]==0][\"CUSTOMER_SINCE\"], shade=True, color=\"green\", label=\"Not PURCHASED\", ax=ax)\n",
        "\n",
        "ax.set_xlabel(\"CUSTOMER SINCE\")\n",
        "ax.set_ylabel(\"Density\")\n",
        "\n",
        "fig.suptitle(\"CUSTOMER SINCE vs. PURCHASE\");"
      ],
      "execution_count": null,
      "outputs": [
        {
          "output_type": "display_data",
          "data": {
            "image/png": "[encoded data removed]",
            "text/plain": [
              "<Figure size 432x288 with 1 Axes>"
            ]
          },
          "metadata": {
            "tags": [],
            "needs_background": "light"
          }
        }
      ]
    },
    {
      "cell_type": "code",
      "metadata": {
        "colab": {
          "base_uri": "https://localhost:8080/",
          "height": 326
        },
        "id": "k_87D8J3WVtk",
        "outputId": "69b9afbe-f244-4f6f-f286-03c00a6a8d43"
      },
      "source": [
        "fig, ax = plt.subplots()\n",
        "\n",
        "sns.kdeplot(df[df[\"PURCHASE\"]==1][\"PAST_PURCHASE\"], shade=True, color=\"blue\", label=\"PURCHASED\", ax=ax)\n",
        "sns.kdeplot(df[df[\"PURCHASE\"]==0][\"PAST_PURCHASE\"], shade=True, color=\"green\", label=\"Not PURCHASED\", ax=ax)\n",
        "\n",
        "ax.set_xlabel(\"PAST PURCHASE\")\n",
        "ax.set_ylabel(\"Density\")\n",
        "\n",
        "fig.suptitle(\"PAST PURCHASE vs. PURCHASE\")"
      ],
      "execution_count": null,
      "outputs": [
        {
          "output_type": "execute_result",
          "data": {
            "text/plain": [
              "Text(0.5, 0.98, 'PAST PURCHASE vs. PURCHASE')"
            ]
          },
          "metadata": {
            "tags": []
          },
          "execution_count": 21
        },
        {
          "output_type": "display_data",
          "data": {
            "image/png": "[encoded data removed]",
            "text/plain": [
              "<Figure size 432x288 with 1 Axes>"
            ]
          },
          "metadata": {
            "tags": [],
            "needs_background": "light"
          }
        }
      ]
    },
    {
      "cell_type": "code",
      "metadata": {
        "colab": {
          "base_uri": "https://localhost:8080/",
          "height": 327
        },
        "id": "H7BrhGWGcfmF",
        "outputId": "60f8a52a-509d-469d-bd50-29869cf4afad"
      },
      "source": [
        "fig, ax = plt.subplots()\n",
        "\n",
        "ax.hist(df[df[\"PURCHASE\"]==1][\"PAST_PURCHASE\"], bins=15, alpha=0.5, color=\"blue\", label=\"Purchased\")\n",
        "ax.hist(df[df[\"PURCHASE\"]==0][\"PAST_PURCHASE\"], bins=15, alpha=0.5, color=\"green\", label=\"Not Purchased\")\n",
        "\n",
        "ax.set_xlabel(\"PAST_PURCHASE\")\n",
        "ax.set_ylabel(\"Count of Customers\")\n",
        "\n",
        "fig.suptitle(\"PAST_PURCHASE vs. PURCHASE for Dataset\")\n",
        "\n",
        "ax.legend()"
      ],
      "execution_count": null,
      "outputs": [
        {
          "output_type": "execute_result",
          "data": {
            "text/plain": [
              "<matplotlib.legend.Legend at 0x7f20762d0a50>"
            ]
          },
          "metadata": {
            "tags": []
          },
          "execution_count": 22
        },
        {
          "output_type": "display_data",
          "data": {
            "image/png": "[encoded data removed]",
            "text/plain": [
              "<Figure size 432x288 with 1 Axes>"
            ]
          },
          "metadata": {
            "tags": [],
            "needs_background": "light"
          }
        }
      ]
    },
    {
      "cell_type": "code",
      "metadata": {
        "colab": {
          "base_uri": "https://localhost:8080/",
          "height": 308
        },
        "id": "xX60I8-KZqJG",
        "outputId": "1f3e45a8-52ff-42d8-e65f-f744159e65af"
      },
      "source": [
        "fig, ax = plt.subplots()\n",
        "\n",
        "sns.kdeplot(df[df[\"PURCHASE\"]==1][\"AGE\"], shade=True, color=\"blue\", label=\"PURCHASED\", ax=ax)\n",
        "sns.kdeplot(df[df[\"PURCHASE\"]==0][\"AGE\"], shade=True, color=\"green\", label=\"NOT PURCHASED\", ax=ax)\n",
        "\n",
        "ax.set_xlabel(\"AGE\")\n",
        "ax.set_ylabel(\"Density\")\n",
        "\n",
        "fig.suptitle(\"AGE vs. PURCHASE\");"
      ],
      "execution_count": null,
      "outputs": [
        {
          "output_type": "display_data",
          "data": {
            "image/png": "[encoded data removed]",
            "text/plain": [
              "<Figure size 432x288 with 1 Axes>"
            ]
          },
          "metadata": {
            "tags": [],
            "needs_background": "light"
          }
        }
      ]
    },
    {
      "cell_type": "code",
      "metadata": {
        "colab": {
          "base_uri": "https://localhost:8080/",
          "height": 326
        },
        "id": "2WcrYtDTbVVk",
        "outputId": "07d53352-430f-499f-e060-d426005c8b89"
      },
      "source": [
        "fig, ax = plt.subplots()\n",
        "\n",
        "ax.hist(df[df[\"PURCHASE\"]==1][\"AGE\"], bins=15, alpha=0.5, color=\"blue\", label=\"Purchased\")\n",
        "ax.hist(df[df[\"PURCHASE\"]==0][\"AGE\"], bins=15, alpha=0.5, color=\"green\", label=\"Not Purchased\")\n",
        "\n",
        "ax.set_xlabel(\"AGE\")\n",
        "ax.set_ylabel(\"Count of Customers\")\n",
        "\n",
        "fig.suptitle(\"AGE vs. PURCHASE for Dataset\")\n",
        "\n",
        "ax.legend()"
      ],
      "execution_count": null,
      "outputs": [
        {
          "output_type": "execute_result",
          "data": {
            "text/plain": [
              "<matplotlib.legend.Legend at 0x7f20760147d0>"
            ]
          },
          "metadata": {
            "tags": []
          },
          "execution_count": 25
        },
        {
          "output_type": "display_data",
          "data": {
            "image/png": "[encoded data removed]",
            "text/plain": [
              "<Figure size 432x288 with 1 Axes>"
            ]
          },
          "metadata": {
            "tags": [],
            "needs_background": "light"
          }
        }
      ]
    },
    {
      "cell_type": "code",
      "metadata": {
        "id": "OerZglsJTRAy"
      },
      "source": [
        ""
      ],
      "execution_count": null,
      "outputs": []
    },
    {
      "cell_type": "code",
      "metadata": {
        "colab": {
          "base_uri": "https://localhost:8080/",
          "height": 308
        },
        "id": "7-v_yttH4RdF",
        "outputId": "63f32d6b-5109-4e74-edc4-9053aa536dd9"
      },
      "source": [
        "fig, ax = plt.subplots()\n",
        "\n",
        "sns.kdeplot(df[df[\"PURCHASE\"]==1][\"income\"], shade=True, color=\"blue\", label=\"PURCHASED\", ax=ax)\n",
        "sns.kdeplot(df[df[\"PURCHASE\"]==0][\"income\"], shade=True, color=\"green\", label=\"NOT PURCHASED\", ax=ax)\n",
        "\n",
        "ax.set_xlabel(\"income\")\n",
        "ax.set_ylabel(\"Density\")\n",
        "\n",
        "fig.suptitle(\"income vs. PURCHASE\");"
      ],
      "execution_count": null,
      "outputs": [
        {
          "output_type": "display_data",
          "data": {
            "image/png": "[encoded data removed]",
            "text/plain": [
              "<Figure size 432x288 with 1 Axes>"
            ]
          },
          "metadata": {
            "tags": [],
            "needs_background": "light"
          }
        }
      ]
    },
    {
      "cell_type": "code",
      "metadata": {
        "colab": {
          "base_uri": "https://localhost:8080/"
        },
        "id": "DQL-pWng73Rf",
        "outputId": "63a0e0ad-b089-437d-d6fe-96fdc2103c36"
      },
      "source": [
        "df[\"STATE\"].value_counts()"
      ],
      "execution_count": null,
      "outputs": [
        {
          "output_type": "execute_result",
          "data": {
            "text/plain": [
              "Maharashtra                    21968\n",
              "Tamil Nadu                     17836\n",
              "Uttar Pradesh                  16400\n",
              "Karnataka                      11689\n",
              "Gujarat                         7864\n",
              "West Bengal                     7751\n",
              "Telangana                       4783\n",
              "Andhra Pradesh                  4781\n",
              "Rajasthan                       4621\n",
              "Kerala                          3718\n",
              "Madhya Pradesh                  3680\n",
              "Delhi                           3572\n",
              "Bihar                           3225\n",
              "Haryana                         3197\n",
              "Punjab                          3113\n",
              "Odisha                          2773\n",
              "Assam                           2638\n",
              "Chhattisgarh                    2366\n",
              "Jharkhand                       2242\n",
              "Uttarakhand                     1984\n",
              "Jammu and Kashmir               1962\n",
              "                                1842\n",
              "Himachal Pradesh                1763\n",
              "Tripura                         1735\n",
              "Goa                             1735\n",
              "Chandigarh                      1583\n",
              "Puducherry                      1503\n",
              "Meghalaya                       1231\n",
              "Sikkim                          1200\n",
              "Nagaland                        1133\n",
              "Manipur                         1108\n",
              "Arunachal Pradesh               1065\n",
              "Mizoram                          984\n",
              "Andaman and Nicobar Islands      955\n",
              "Name: STATE, dtype: int64"
            ]
          },
          "metadata": {
            "tags": []
          },
          "execution_count": 33
        }
      ]
    },
    {
      "cell_type": "code",
      "metadata": {
        "colab": {
          "base_uri": "https://localhost:8080/",
          "height": 368
        },
        "id": "TSjgffox-uzh",
        "outputId": "85bfa3e6-5777-455b-f860-d710e0eed447"
      },
      "source": [
        "sns.heatmap(df.corr(),annot=True)"
      ],
      "execution_count": null,
      "outputs": [
        {
          "output_type": "execute_result",
          "data": {
            "text/plain": [
              "<matplotlib.axes._subplots.AxesSubplot at 0x7f20717cb6d0>"
            ]
          },
          "metadata": {
            "tags": []
          },
          "execution_count": 34
        },
        {
          "output_type": "display_data",
          "data": {
            "image/png": "[encoded data removed]",
            "text/plain": [
              "<Figure size 432x288 with 2 Axes>"
            ]
          },
          "metadata": {
            "tags": [],
            "needs_background": "light"
          }
        }
      ]
    },
    {
      "cell_type": "code",
      "metadata": {
        "colab": {
          "base_uri": "https://localhost:8080/"
        },
        "id": "KicZMbpuA40a",
        "outputId": "8af11779-01fe-4a25-e774-0fbbf86bfc14"
      },
      "source": [
        "df_state.shape"
      ],
      "execution_count": null,
      "outputs": [
        {
          "output_type": "execute_result",
          "data": {
            "text/plain": [
              "(150000, 34)"
            ]
          },
          "metadata": {
            "tags": []
          },
          "execution_count": 38
        }
      ]
    },
    {
      "cell_type": "code",
      "metadata": {
        "id": "okgVo9IvBHFS"
      },
      "source": [
        "df_state[\"Purchase\"] = df[\"PURCHASE\"]"
      ],
      "execution_count": null,
      "outputs": []
    },
    {
      "cell_type": "code",
      "metadata": {
        "colab": {
          "base_uri": "https://localhost:8080/",
          "height": 933
        },
        "id": "rK8YNEtdBXcd",
        "outputId": "b1d50cbf-01fc-4b0a-e586-5dcd6df62b8d"
      },
      "source": [
        "plt.figure(figsize=(30,16))\n",
        "sns.heatmap(df_state.corr(),annot=True)"
      ],
      "execution_count": null,
      "outputs": [
        {
          "output_type": "execute_result",
          "data": {
            "text/plain": [
              "<matplotlib.axes._subplots.AxesSubplot at 0x7f2071841590>"
            ]
          },
          "metadata": {
            "tags": []
          },
          "execution_count": 40
        },
        {
          "output_type": "display_data",
          "data": {
            "image/png": "[encoded data removed]",
            "text/plain": [
              "<Figure size 2160x1152 with 2 Axes>"
            ]
          },
          "metadata": {
            "tags": [],
            "needs_background": "light"
          }
        }
      ]
    },
    {
      "cell_type": "code",
      "metadata": {
        "colab": {
          "base_uri": "https://localhost:8080/",
          "height": 173
        },
        "id": "oiUH_fOeBkou",
        "outputId": "d4dbcbc9-1cfc-4855-8905-ecfdecf0bef9"
      },
      "source": [
        "df['occupation'] = df['OCCUPATION'].apply(lambda x: x.replace(\" \",\"NA\") if x==\" \" else x)\n",
        "df.head(4)"
      ],
      "execution_count": null,
      "outputs": [
        {
          "output_type": "execute_result",
          "data": {
            "text/html": [
              "<div>\n",
              "<style scoped>\n",
              "    .dataframe tbody tr th:only-of-type {\n",
              "        vertical-align: middle;\n",
              "    }\n",
              "\n",
              "    .dataframe tbody tr th {\n",
              "        vertical-align: top;\n",
              "    }\n",
              "\n",
              "    .dataframe thead th {\n",
              "        text-align: right;\n",
              "    }\n",
              "</style>\n",
              "<table border=\"1\" class=\"dataframe\">\n",
              "  <thead>\n",
              "    <tr style=\"text-align: right;\">\n",
              "      <th></th>\n",
              "      <th>ID</th>\n",
              "      <th>STATE</th>\n",
              "      <th>AGE</th>\n",
              "      <th>OCCUPATION</th>\n",
              "      <th>INCOME_GROUP</th>\n",
              "      <th>CUSTOMER_SINCE</th>\n",
              "      <th>LOYALTY_PROGRAM</th>\n",
              "      <th>PAST_PURCHASE</th>\n",
              "      <th>PURCHASE</th>\n",
              "      <th>income</th>\n",
              "      <th>occupation</th>\n",
              "    </tr>\n",
              "  </thead>\n",
              "  <tbody>\n",
              "    <tr>\n",
              "      <th>0</th>\n",
              "      <td>1</td>\n",
              "      <td>Uttar Pradesh</td>\n",
              "      <td>28</td>\n",
              "      <td></td>\n",
              "      <td>Low</td>\n",
              "      <td>10</td>\n",
              "      <td>1</td>\n",
              "      <td>4937</td>\n",
              "      <td>0</td>\n",
              "      <td>1</td>\n",
              "      <td>NA</td>\n",
              "    </tr>\n",
              "    <tr>\n",
              "      <th>1</th>\n",
              "      <td>2</td>\n",
              "      <td>Madhya Pradesh</td>\n",
              "      <td>27</td>\n",
              "      <td>Salaried</td>\n",
              "      <td>Low</td>\n",
              "      <td>10</td>\n",
              "      <td>1</td>\n",
              "      <td>10834</td>\n",
              "      <td>0</td>\n",
              "      <td>1</td>\n",
              "      <td>Salaried</td>\n",
              "    </tr>\n",
              "    <tr>\n",
              "      <th>2</th>\n",
              "      <td>3</td>\n",
              "      <td>West Bengal</td>\n",
              "      <td>62</td>\n",
              "      <td></td>\n",
              "      <td>High</td>\n",
              "      <td>5</td>\n",
              "      <td>3</td>\n",
              "      <td>8610</td>\n",
              "      <td>1</td>\n",
              "      <td>4</td>\n",
              "      <td>NA</td>\n",
              "    </tr>\n",
              "    <tr>\n",
              "      <th>3</th>\n",
              "      <td>4</td>\n",
              "      <td>Tamil Nadu</td>\n",
              "      <td>27</td>\n",
              "      <td>Salaried</td>\n",
              "      <td>Low</td>\n",
              "      <td>10</td>\n",
              "      <td>1</td>\n",
              "      <td>14374</td>\n",
              "      <td>1</td>\n",
              "      <td>1</td>\n",
              "      <td>Salaried</td>\n",
              "    </tr>\n",
              "  </tbody>\n",
              "</table>\n",
              "</div>"
            ],
            "text/plain": [
              "   ID           STATE  AGE  ... PURCHASE income  occupation\n",
              "0   1   Uttar Pradesh   28  ...        0      1          NA\n",
              "1   2  Madhya Pradesh   27  ...        0      1    Salaried\n",
              "2   3     West Bengal   62  ...        1      4          NA\n",
              "3   4      Tamil Nadu   27  ...        1      1    Salaried\n",
              "\n",
              "[4 rows x 11 columns]"
            ]
          },
          "metadata": {
            "tags": []
          },
          "execution_count": 71
        }
      ]
    },
    {
      "cell_type": "code",
      "metadata": {
        "colab": {
          "base_uri": "https://localhost:8080/"
        },
        "id": "s6lXWBJ2C_DK",
        "outputId": "86082026-2190-4984-9fa8-d71aec505be9"
      },
      "source": [
        "df[\"OCCUPATION\"].value_counts()"
      ],
      "execution_count": null,
      "outputs": [
        {
          "output_type": "execute_result",
          "data": {
            "text/plain": [
              "Self employed    61375\n",
              "Salaried         44214\n",
              "                 42777\n",
              "Business          1634\n",
              "Name: OCCUPATION, dtype: int64"
            ]
          },
          "metadata": {
            "tags": []
          },
          "execution_count": 42
        }
      ]
    },
    {
      "cell_type": "code",
      "metadata": {
        "colab": {
          "base_uri": "https://localhost:8080/",
          "height": 308
        },
        "id": "5j2wcs9uDYR_",
        "outputId": "14783abc-f01b-47e1-b7cd-58ff06844d8b"
      },
      "source": [
        "fig, ax = plt.subplots()\n",
        "\n",
        "sns.kdeplot(df[df[\"PURCHASE\"]==1][\"occupation\"], shade=True, color=\"blue\", label=\"PURCHASED\", ax=ax)\n",
        "sns.kdeplot(df[df[\"PURCHASE\"]==0][\"occupation\"], shade=True, color=\"green\", label=\"NOT PURCHASED\", ax=ax)\n",
        "\n",
        "ax.set_xlabel(\"occupation\")\n",
        "ax.set_ylabel(\"Density\")\n",
        "\n",
        "fig.suptitle(\"occupation vs. PURCHASE\");"
      ],
      "execution_count": null,
      "outputs": [
        {
          "output_type": "display_data",
          "data": {
            "image/png": "[encoded data removed]",
            "text/plain": [
              "<Figure size 432x288 with 1 Axes>"
            ]
          },
          "metadata": {
            "tags": [],
            "needs_background": "light"
          }
        }
      ]
    },
    {
      "cell_type": "code",
      "metadata": {
        "colab": {
          "base_uri": "https://localhost:8080/",
          "height": 418
        },
        "id": "bIkMbzACEHBG",
        "outputId": "f6d81adb-f6a8-47ea-b38c-5d8538fa5dcd"
      },
      "source": [
        "sns.heatmap(df_occ.corr(),annot=True)"
      ],
      "execution_count": null,
      "outputs": [
        {
          "output_type": "execute_result",
          "data": {
            "text/plain": [
              "<matplotlib.axes._subplots.AxesSubplot at 0x7f20709323d0>"
            ]
          },
          "metadata": {
            "tags": []
          },
          "execution_count": 45
        },
        {
          "output_type": "display_data",
          "data": {
            "image/png": "[encoded data removed]",
            "text/plain": [
              "<Figure size 432x288 with 2 Axes>"
            ]
          },
          "metadata": {
            "tags": [],
            "needs_background": "light"
          }
        }
      ]
    },
    {
      "cell_type": "code",
      "metadata": {
        "id": "exjn7Q5SUTg_"
      },
      "source": [
        "mfor i in df[\"PAST_PURCHASE\"] :\n",
        "  if i<0 :\n",
        "    print(\"neg\")\n",
        "  elif i==0:\n",
        "    print(\"zero\")"
      ],
      "execution_count": null,
      "outputs": []
    },
    {
      "cell_type": "code",
      "metadata": {
        "colab": {
          "base_uri": "https://localhost:8080/"
        },
        "id": "RiiE8sPdYdT8",
        "outputId": "5784054b-6760-4d59-d9a9-b1a8f3de6928"
      },
      "source": [
        "df[\"PURCHASE\"].isnull().sum()"
      ],
      "execution_count": null,
      "outputs": [
        {
          "output_type": "execute_result",
          "data": {
            "text/plain": [
              "0"
            ]
          },
          "metadata": {
            "tags": []
          },
          "execution_count": 64
        }
      ]
    },
    {
      "cell_type": "code",
      "metadata": {
        "colab": {
          "base_uri": "https://localhost:8080/",
          "height": 206
        },
        "id": "LJrMCMbjbs5_",
        "outputId": "e14e05fa-05ab-46b9-9f73-db83b0c4c47e"
      },
      "source": [
        "df.head()"
      ],
      "execution_count": null,
      "outputs": [
        {
          "output_type": "execute_result",
          "data": {
            "text/html": [
              "<div>\n",
              "<style scoped>\n",
              "    .dataframe tbody tr th:only-of-type {\n",
              "        vertical-align: middle;\n",
              "    }\n",
              "\n",
              "    .dataframe tbody tr th {\n",
              "        vertical-align: top;\n",
              "    }\n",
              "\n",
              "    .dataframe thead th {\n",
              "        text-align: right;\n",
              "    }\n",
              "</style>\n",
              "<table border=\"1\" class=\"dataframe\">\n",
              "  <thead>\n",
              "    <tr style=\"text-align: right;\">\n",
              "      <th></th>\n",
              "      <th>ID</th>\n",
              "      <th>STATE</th>\n",
              "      <th>AGE</th>\n",
              "      <th>OCCUPATION</th>\n",
              "      <th>INCOME_GROUP</th>\n",
              "      <th>CUSTOMER_SINCE</th>\n",
              "      <th>LOYALTY_PROGRAM</th>\n",
              "      <th>PAST_PURCHASE</th>\n",
              "      <th>PURCHASE</th>\n",
              "    </tr>\n",
              "  </thead>\n",
              "  <tbody>\n",
              "    <tr>\n",
              "      <th>0</th>\n",
              "      <td>1</td>\n",
              "      <td>Uttar Pradesh</td>\n",
              "      <td>28</td>\n",
              "      <td></td>\n",
              "      <td>Low</td>\n",
              "      <td>10</td>\n",
              "      <td>No</td>\n",
              "      <td>4937</td>\n",
              "      <td>0</td>\n",
              "    </tr>\n",
              "    <tr>\n",
              "      <th>1</th>\n",
              "      <td>2</td>\n",
              "      <td>Madhya Pradesh</td>\n",
              "      <td>27</td>\n",
              "      <td>Salaried</td>\n",
              "      <td>Low</td>\n",
              "      <td>10</td>\n",
              "      <td>No</td>\n",
              "      <td>10834</td>\n",
              "      <td>0</td>\n",
              "    </tr>\n",
              "    <tr>\n",
              "      <th>2</th>\n",
              "      <td>3</td>\n",
              "      <td>West Bengal</td>\n",
              "      <td>62</td>\n",
              "      <td></td>\n",
              "      <td>High</td>\n",
              "      <td>5</td>\n",
              "      <td>NaN</td>\n",
              "      <td>8610</td>\n",
              "      <td>1</td>\n",
              "    </tr>\n",
              "    <tr>\n",
              "      <th>3</th>\n",
              "      <td>4</td>\n",
              "      <td>Tamil Nadu</td>\n",
              "      <td>27</td>\n",
              "      <td>Salaried</td>\n",
              "      <td>Low</td>\n",
              "      <td>10</td>\n",
              "      <td>No</td>\n",
              "      <td>14374</td>\n",
              "      <td>1</td>\n",
              "    </tr>\n",
              "    <tr>\n",
              "      <th>4</th>\n",
              "      <td>5</td>\n",
              "      <td>Uttar Pradesh</td>\n",
              "      <td>40</td>\n",
              "      <td>Self employed</td>\n",
              "      <td>High</td>\n",
              "      <td>7</td>\n",
              "      <td>No</td>\n",
              "      <td>13158</td>\n",
              "      <td>0</td>\n",
              "    </tr>\n",
              "  </tbody>\n",
              "</table>\n",
              "</div>"
            ],
            "text/plain": [
              "   ID           STATE  AGE  ... LOYALTY_PROGRAM PAST_PURCHASE  PURCHASE\n",
              "0   1   Uttar Pradesh   28  ...              No          4937         0\n",
              "1   2  Madhya Pradesh   27  ...              No         10834         0\n",
              "2   3     West Bengal   62  ...             NaN          8610         1\n",
              "3   4      Tamil Nadu   27  ...              No         14374         1\n",
              "4   5   Uttar Pradesh   40  ...              No         13158         0\n",
              "\n",
              "[5 rows x 9 columns]"
            ]
          },
          "metadata": {
            "tags": []
          },
          "execution_count": 89
        }
      ]
    },
    {
      "cell_type": "code",
      "metadata": {
        "colab": {
          "base_uri": "https://localhost:8080/"
        },
        "id": "44ppGxjRdvjt",
        "outputId": "7941b9c3-8df7-49e4-ec26-b6b2a353873c"
      },
      "source": [
        "df[\"AGE\"].describe()"
      ],
      "execution_count": null,
      "outputs": [
        {
          "output_type": "execute_result",
          "data": {
            "text/plain": [
              "count    150000.000000\n",
              "mean         43.805660\n",
              "std          14.828219\n",
              "min          23.000000\n",
              "25%          30.000000\n",
              "50%          43.000000\n",
              "75%          54.000000\n",
              "max          85.000000\n",
              "Name: AGE, dtype: float64"
            ]
          },
          "metadata": {
            "tags": []
          },
          "execution_count": 90
        }
      ]
    },
    {
      "cell_type": "code",
      "metadata": {
        "colab": {
          "base_uri": "https://localhost:8080/",
          "height": 455
        },
        "id": "jRxXqy4Edu5y",
        "outputId": "c12a1154-1090-41ef-c246-1747b399e03f"
      },
      "source": [
        "df_ratio = df.groupby([\"AGE\"])[\"PURCHASE\"].value_counts()\n",
        "df_ratio = df_ratio.to_frame()\n",
        "display(df_ratio)"
      ],
      "execution_count": null,
      "outputs": [
        {
          "output_type": "display_data",
          "data": {
            "text/html": [
              "<div>\n",
              "<style scoped>\n",
              "    .dataframe tbody tr th:only-of-type {\n",
              "        vertical-align: middle;\n",
              "    }\n",
              "\n",
              "    .dataframe tbody tr th {\n",
              "        vertical-align: top;\n",
              "    }\n",
              "\n",
              "    .dataframe thead th {\n",
              "        text-align: right;\n",
              "    }\n",
              "</style>\n",
              "<table border=\"1\" class=\"dataframe\">\n",
              "  <thead>\n",
              "    <tr style=\"text-align: right;\">\n",
              "      <th></th>\n",
              "      <th></th>\n",
              "      <th>PURCHASE</th>\n",
              "    </tr>\n",
              "    <tr>\n",
              "      <th>AGE</th>\n",
              "      <th>PURCHASE</th>\n",
              "      <th></th>\n",
              "    </tr>\n",
              "  </thead>\n",
              "  <tbody>\n",
              "    <tr>\n",
              "      <th>23</th>\n",
              "      <th>0</th>\n",
              "      <td>1</td>\n",
              "    </tr>\n",
              "    <tr>\n",
              "      <th rowspan=\"2\" valign=\"top\">24</th>\n",
              "      <th>0</th>\n",
              "      <td>1105</td>\n",
              "    </tr>\n",
              "    <tr>\n",
              "      <th>1</th>\n",
              "      <td>76</td>\n",
              "    </tr>\n",
              "    <tr>\n",
              "      <th rowspan=\"2\" valign=\"top\">25</th>\n",
              "      <th>0</th>\n",
              "      <td>3044</td>\n",
              "    </tr>\n",
              "    <tr>\n",
              "      <th>1</th>\n",
              "      <td>226</td>\n",
              "    </tr>\n",
              "    <tr>\n",
              "      <th>...</th>\n",
              "      <th>...</th>\n",
              "      <td>...</td>\n",
              "    </tr>\n",
              "    <tr>\n",
              "      <th>83</th>\n",
              "      <th>1</th>\n",
              "      <td>127</td>\n",
              "    </tr>\n",
              "    <tr>\n",
              "      <th rowspan=\"2\" valign=\"top\">84</th>\n",
              "      <th>0</th>\n",
              "      <td>254</td>\n",
              "    </tr>\n",
              "    <tr>\n",
              "      <th>1</th>\n",
              "      <td>143</td>\n",
              "    </tr>\n",
              "    <tr>\n",
              "      <th rowspan=\"2\" valign=\"top\">85</th>\n",
              "      <th>0</th>\n",
              "      <td>249</td>\n",
              "    </tr>\n",
              "    <tr>\n",
              "      <th>1</th>\n",
              "      <td>119</td>\n",
              "    </tr>\n",
              "  </tbody>\n",
              "</table>\n",
              "<p>125 rows × 1 columns</p>\n",
              "</div>"
            ],
            "text/plain": [
              "              PURCHASE\n",
              "AGE PURCHASE          \n",
              "23  0                1\n",
              "24  0             1105\n",
              "    1               76\n",
              "25  0             3044\n",
              "    1              226\n",
              "...                ...\n",
              "83  1              127\n",
              "84  0              254\n",
              "    1              143\n",
              "85  0              249\n",
              "    1              119\n",
              "\n",
              "[125 rows x 1 columns]"
            ]
          },
          "metadata": {
            "tags": []
          }
        }
      ]
    },
    {
      "cell_type": "code",
      "metadata": {
        "id": "uqIiNDSWiAsG"
      },
      "source": [
        "df_ratio.to_csv(\"/content/drive/MyDrive/Tanweer Internships & Jobs/Pidilite/age_ratio.csv\")"
      ],
      "execution_count": null,
      "outputs": []
    },
    {
      "cell_type": "code",
      "metadata": {
        "colab": {
          "base_uri": "https://localhost:8080/",
          "height": 424
        },
        "id": "C3jvkNQ5i40L",
        "outputId": "bd697e85-647f-46a5-828e-02398e9cd62c"
      },
      "source": [
        "df_age_ratio = pd.read_csv(\"/content/drive/MyDrive/Tanweer Internships & Jobs/Pidilite/age_ratio.csv\")\n",
        "df_age_ratio"
      ],
      "execution_count": null,
      "outputs": [
        {
          "output_type": "execute_result",
          "data": {
            "text/html": [
              "<div>\n",
              "<style scoped>\n",
              "    .dataframe tbody tr th:only-of-type {\n",
              "        vertical-align: middle;\n",
              "    }\n",
              "\n",
              "    .dataframe tbody tr th {\n",
              "        vertical-align: top;\n",
              "    }\n",
              "\n",
              "    .dataframe thead th {\n",
              "        text-align: right;\n",
              "    }\n",
              "</style>\n",
              "<table border=\"1\" class=\"dataframe\">\n",
              "  <thead>\n",
              "    <tr style=\"text-align: right;\">\n",
              "      <th></th>\n",
              "      <th>AGE</th>\n",
              "      <th>PURCHASE</th>\n",
              "      <th>PURCHASE.1</th>\n",
              "    </tr>\n",
              "  </thead>\n",
              "  <tbody>\n",
              "    <tr>\n",
              "      <th>0</th>\n",
              "      <td>23</td>\n",
              "      <td>0</td>\n",
              "      <td>1</td>\n",
              "    </tr>\n",
              "    <tr>\n",
              "      <th>1</th>\n",
              "      <td>24</td>\n",
              "      <td>0</td>\n",
              "      <td>1105</td>\n",
              "    </tr>\n",
              "    <tr>\n",
              "      <th>2</th>\n",
              "      <td>24</td>\n",
              "      <td>1</td>\n",
              "      <td>76</td>\n",
              "    </tr>\n",
              "    <tr>\n",
              "      <th>3</th>\n",
              "      <td>25</td>\n",
              "      <td>0</td>\n",
              "      <td>3044</td>\n",
              "    </tr>\n",
              "    <tr>\n",
              "      <th>4</th>\n",
              "      <td>25</td>\n",
              "      <td>1</td>\n",
              "      <td>226</td>\n",
              "    </tr>\n",
              "    <tr>\n",
              "      <th>...</th>\n",
              "      <td>...</td>\n",
              "      <td>...</td>\n",
              "      <td>...</td>\n",
              "    </tr>\n",
              "    <tr>\n",
              "      <th>120</th>\n",
              "      <td>83</td>\n",
              "      <td>1</td>\n",
              "      <td>127</td>\n",
              "    </tr>\n",
              "    <tr>\n",
              "      <th>121</th>\n",
              "      <td>84</td>\n",
              "      <td>0</td>\n",
              "      <td>254</td>\n",
              "    </tr>\n",
              "    <tr>\n",
              "      <th>122</th>\n",
              "      <td>84</td>\n",
              "      <td>1</td>\n",
              "      <td>143</td>\n",
              "    </tr>\n",
              "    <tr>\n",
              "      <th>123</th>\n",
              "      <td>85</td>\n",
              "      <td>0</td>\n",
              "      <td>249</td>\n",
              "    </tr>\n",
              "    <tr>\n",
              "      <th>124</th>\n",
              "      <td>85</td>\n",
              "      <td>1</td>\n",
              "      <td>119</td>\n",
              "    </tr>\n",
              "  </tbody>\n",
              "</table>\n",
              "<p>125 rows × 3 columns</p>\n",
              "</div>"
            ],
            "text/plain": [
              "     AGE  PURCHASE  PURCHASE.1\n",
              "0     23         0           1\n",
              "1     24         0        1105\n",
              "2     24         1          76\n",
              "3     25         0        3044\n",
              "4     25         1         226\n",
              "..   ...       ...         ...\n",
              "120   83         1         127\n",
              "121   84         0         254\n",
              "122   84         1         143\n",
              "123   85         0         249\n",
              "124   85         1         119\n",
              "\n",
              "[125 rows x 3 columns]"
            ]
          },
          "metadata": {
            "tags": []
          },
          "execution_count": 108
        }
      ]
    },
    {
      "cell_type": "code",
      "metadata": {
        "colab": {
          "base_uri": "https://localhost:8080/"
        },
        "id": "3bxuxRW5V9bE",
        "outputId": "5b9a8c4b-9e00-466b-c6b8-87bd0f63eda5"
      },
      "source": [
        "df_ratio = df.groupby([\"STATE\"])[\"PURCHASE\"].value_counts()\n",
        "df_ratio.sort_index()"
      ],
      "execution_count": 40,
      "outputs": [
        {
          "output_type": "execute_result",
          "data": {
            "text/plain": [
              "STATE                        PURCHASE\n",
              "Andaman and Nicobar Islands  0            705\n",
              "                             1            250\n",
              "Andhra Pradesh               0           4107\n",
              "                             1            674\n",
              "Arunachal Pradesh            0            876\n",
              "                                         ... \n",
              "Uttar Pradesh                1           3471\n",
              "Uttarakhand                  0           1649\n",
              "                             1            335\n",
              "West Bengal                  0           5933\n",
              "                             1           1818\n",
              "Name: PURCHASE, Length: 68, dtype: int64"
            ]
          },
          "metadata": {
            "tags": []
          },
          "execution_count": 40
        }
      ]
    },
    {
      "cell_type": "code",
      "metadata": {
        "colab": {
          "base_uri": "https://localhost:8080/"
        },
        "id": "hT16_pocW6g0",
        "outputId": "dac2779a-0953-4b5a-c834-7fc1baf2ef7f"
      },
      "source": [
        "rationp = []\n",
        "ratiop = []\n",
        "for i in range(df_ratio.shape[0]):\n",
        "  if i%2 == 0:\n",
        "    rationp.append(df_ratio[i]/(df_ratio[i]+df_ratio[i+1]))\n",
        "  else:\n",
        "    ratiop.append(df_ratio[i]/(df_ratio[i]+df_ratio[i-1]))\n",
        "print(pd.Series(rationp))\n",
        "print(pd.Series(ratiop))"
      ],
      "execution_count": 41,
      "outputs": [
        {
          "output_type": "stream",
          "text": [
            "0     0.738220\n",
            "1     0.859025\n",
            "2     0.822535\n",
            "3     0.863154\n",
            "4     0.787597\n",
            "5     0.801011\n",
            "6     0.772189\n",
            "7     0.811310\n",
            "8     0.864553\n",
            "9     0.767421\n",
            "10    0.836722\n",
            "11    0.866704\n",
            "12    0.814475\n",
            "13    0.783229\n",
            "14    0.698777\n",
            "15    0.769231\n",
            "16    0.806793\n",
            "17    0.699153\n",
            "18    0.781588\n",
            "19    0.770106\n",
            "20    0.855691\n",
            "21    0.834419\n",
            "22    0.751103\n",
            "23    0.765957\n",
            "24    0.836327\n",
            "25    0.789592\n",
            "26    0.837481\n",
            "27    0.790833\n",
            "28    0.695616\n",
            "29    0.780473\n",
            "30    0.713545\n",
            "31    0.788354\n",
            "32    0.831149\n",
            "33    0.765450\n",
            "dtype: float64\n",
            "0     0.261780\n",
            "1     0.140975\n",
            "2     0.177465\n",
            "3     0.136846\n",
            "4     0.212403\n",
            "5     0.198989\n",
            "6     0.227811\n",
            "7     0.188690\n",
            "8     0.135447\n",
            "9     0.232579\n",
            "10    0.163278\n",
            "11    0.133296\n",
            "12    0.185525\n",
            "13    0.216771\n",
            "14    0.301223\n",
            "15    0.230769\n",
            "16    0.193207\n",
            "17    0.300847\n",
            "18    0.218412\n",
            "19    0.229894\n",
            "20    0.144309\n",
            "21    0.165581\n",
            "22    0.248897\n",
            "23    0.234043\n",
            "24    0.163673\n",
            "25    0.210408\n",
            "26    0.162519\n",
            "27    0.209167\n",
            "28    0.304384\n",
            "29    0.219527\n",
            "30    0.286455\n",
            "31    0.211646\n",
            "32    0.168851\n",
            "33    0.234550\n",
            "dtype: float64\n"
          ],
          "name": "stdout"
        }
      ]
    },
    {
      "cell_type": "code",
      "metadata": {
        "colab": {
          "base_uri": "https://localhost:8080/",
          "height": 455
        },
        "id": "fmNmlJgDcUfy",
        "outputId": "96604927-b0a9-4382-e45d-7b1e16e7ad24"
      },
      "source": [
        "df_ratio = df_ratio.to_frame()\n",
        "display(df_ratio)"
      ],
      "execution_count": 42,
      "outputs": [
        {
          "output_type": "display_data",
          "data": {
            "text/html": [
              "<div>\n",
              "<style scoped>\n",
              "    .dataframe tbody tr th:only-of-type {\n",
              "        vertical-align: middle;\n",
              "    }\n",
              "\n",
              "    .dataframe tbody tr th {\n",
              "        vertical-align: top;\n",
              "    }\n",
              "\n",
              "    .dataframe thead th {\n",
              "        text-align: right;\n",
              "    }\n",
              "</style>\n",
              "<table border=\"1\" class=\"dataframe\">\n",
              "  <thead>\n",
              "    <tr style=\"text-align: right;\">\n",
              "      <th></th>\n",
              "      <th></th>\n",
              "      <th>PURCHASE</th>\n",
              "    </tr>\n",
              "    <tr>\n",
              "      <th>STATE</th>\n",
              "      <th>PURCHASE</th>\n",
              "      <th></th>\n",
              "    </tr>\n",
              "  </thead>\n",
              "  <tbody>\n",
              "    <tr>\n",
              "      <th rowspan=\"2\" valign=\"top\">Andaman and Nicobar Islands</th>\n",
              "      <th>0</th>\n",
              "      <td>705</td>\n",
              "    </tr>\n",
              "    <tr>\n",
              "      <th>1</th>\n",
              "      <td>250</td>\n",
              "    </tr>\n",
              "    <tr>\n",
              "      <th rowspan=\"2\" valign=\"top\">Andhra Pradesh</th>\n",
              "      <th>0</th>\n",
              "      <td>4107</td>\n",
              "    </tr>\n",
              "    <tr>\n",
              "      <th>1</th>\n",
              "      <td>674</td>\n",
              "    </tr>\n",
              "    <tr>\n",
              "      <th>Arunachal Pradesh</th>\n",
              "      <th>0</th>\n",
              "      <td>876</td>\n",
              "    </tr>\n",
              "    <tr>\n",
              "      <th>...</th>\n",
              "      <th>...</th>\n",
              "      <td>...</td>\n",
              "    </tr>\n",
              "    <tr>\n",
              "      <th>Uttar Pradesh</th>\n",
              "      <th>1</th>\n",
              "      <td>3471</td>\n",
              "    </tr>\n",
              "    <tr>\n",
              "      <th rowspan=\"2\" valign=\"top\">Uttarakhand</th>\n",
              "      <th>0</th>\n",
              "      <td>1649</td>\n",
              "    </tr>\n",
              "    <tr>\n",
              "      <th>1</th>\n",
              "      <td>335</td>\n",
              "    </tr>\n",
              "    <tr>\n",
              "      <th rowspan=\"2\" valign=\"top\">West Bengal</th>\n",
              "      <th>0</th>\n",
              "      <td>5933</td>\n",
              "    </tr>\n",
              "    <tr>\n",
              "      <th>1</th>\n",
              "      <td>1818</td>\n",
              "    </tr>\n",
              "  </tbody>\n",
              "</table>\n",
              "<p>68 rows × 1 columns</p>\n",
              "</div>"
            ],
            "text/plain": [
              "                                      PURCHASE\n",
              "STATE                       PURCHASE          \n",
              "Andaman and Nicobar Islands 0              705\n",
              "                            1              250\n",
              "Andhra Pradesh              0             4107\n",
              "                            1              674\n",
              "Arunachal Pradesh           0              876\n",
              "...                                        ...\n",
              "Uttar Pradesh               1             3471\n",
              "Uttarakhand                 0             1649\n",
              "                            1              335\n",
              "West Bengal                 0             5933\n",
              "                            1             1818\n",
              "\n",
              "[68 rows x 1 columns]"
            ]
          },
          "metadata": {
            "tags": []
          }
        }
      ]
    },
    {
      "cell_type": "code",
      "metadata": {
        "colab": {
          "base_uri": "https://localhost:8080/",
          "height": 455
        },
        "id": "Ak7eYB0UcCvZ",
        "outputId": "1ab552e2-d718-4852-a4ce-90e84c67cd98"
      },
      "source": [
        "df_ratio[\"PURCHASE\"+\"_ratios\"] = ratio\n",
        "display(df_ratio)"
      ],
      "execution_count": null,
      "outputs": [
        {
          "output_type": "display_data",
          "data": {
            "text/html": [
              "<div>\n",
              "<style scoped>\n",
              "    .dataframe tbody tr th:only-of-type {\n",
              "        vertical-align: middle;\n",
              "    }\n",
              "\n",
              "    .dataframe tbody tr th {\n",
              "        vertical-align: top;\n",
              "    }\n",
              "\n",
              "    .dataframe thead th {\n",
              "        text-align: right;\n",
              "    }\n",
              "</style>\n",
              "<table border=\"1\" class=\"dataframe\">\n",
              "  <thead>\n",
              "    <tr style=\"text-align: right;\">\n",
              "      <th></th>\n",
              "      <th></th>\n",
              "      <th>PURCHASE</th>\n",
              "      <th>PURCHASE_ratios</th>\n",
              "    </tr>\n",
              "    <tr>\n",
              "      <th>STATE</th>\n",
              "      <th>PURCHASE</th>\n",
              "      <th></th>\n",
              "      <th></th>\n",
              "    </tr>\n",
              "  </thead>\n",
              "  <tbody>\n",
              "    <tr>\n",
              "      <th rowspan=\"2\" valign=\"top\"></th>\n",
              "      <th>0</th>\n",
              "      <td>1537</td>\n",
              "      <td>0.834419</td>\n",
              "    </tr>\n",
              "    <tr>\n",
              "      <th>1</th>\n",
              "      <td>305</td>\n",
              "      <td>0.165581</td>\n",
              "    </tr>\n",
              "    <tr>\n",
              "      <th rowspan=\"2\" valign=\"top\">Andaman and Nicobar Islands</th>\n",
              "      <th>0</th>\n",
              "      <td>705</td>\n",
              "      <td>0.738220</td>\n",
              "    </tr>\n",
              "    <tr>\n",
              "      <th>1</th>\n",
              "      <td>250</td>\n",
              "      <td>0.261780</td>\n",
              "    </tr>\n",
              "    <tr>\n",
              "      <th>Andhra Pradesh</th>\n",
              "      <th>0</th>\n",
              "      <td>4107</td>\n",
              "      <td>0.859025</td>\n",
              "    </tr>\n",
              "    <tr>\n",
              "      <th>...</th>\n",
              "      <th>...</th>\n",
              "      <td>...</td>\n",
              "      <td>...</td>\n",
              "    </tr>\n",
              "    <tr>\n",
              "      <th>Uttar Pradesh</th>\n",
              "      <th>1</th>\n",
              "      <td>3471</td>\n",
              "      <td>0.211646</td>\n",
              "    </tr>\n",
              "    <tr>\n",
              "      <th rowspan=\"2\" valign=\"top\">Uttarakhand</th>\n",
              "      <th>0</th>\n",
              "      <td>1649</td>\n",
              "      <td>0.831149</td>\n",
              "    </tr>\n",
              "    <tr>\n",
              "      <th>1</th>\n",
              "      <td>335</td>\n",
              "      <td>0.168851</td>\n",
              "    </tr>\n",
              "    <tr>\n",
              "      <th rowspan=\"2\" valign=\"top\">West Bengal</th>\n",
              "      <th>0</th>\n",
              "      <td>5933</td>\n",
              "      <td>0.765450</td>\n",
              "    </tr>\n",
              "    <tr>\n",
              "      <th>1</th>\n",
              "      <td>1818</td>\n",
              "      <td>0.234550</td>\n",
              "    </tr>\n",
              "  </tbody>\n",
              "</table>\n",
              "<p>68 rows × 2 columns</p>\n",
              "</div>"
            ],
            "text/plain": [
              "                                      PURCHASE  PURCHASE_ratios\n",
              "STATE                       PURCHASE                           \n",
              "                            0             1537         0.834419\n",
              "                            1              305         0.165581\n",
              "Andaman and Nicobar Islands 0              705         0.738220\n",
              "                            1              250         0.261780\n",
              "Andhra Pradesh              0             4107         0.859025\n",
              "...                                        ...              ...\n",
              "Uttar Pradesh               1             3471         0.211646\n",
              "Uttarakhand                 0             1649         0.831149\n",
              "                            1              335         0.168851\n",
              "West Bengal                 0             5933         0.765450\n",
              "                            1             1818         0.234550\n",
              "\n",
              "[68 rows x 2 columns]"
            ]
          },
          "metadata": {
            "tags": []
          }
        }
      ]
    },
    {
      "cell_type": "code",
      "metadata": {
        "colab": {
          "base_uri": "https://localhost:8080/"
        },
        "id": "yRwTLyDrdCGu",
        "outputId": "663e4e46-f678-4a58-d2d6-48dcc10f7b80"
      },
      "source": [
        "df_ratio[\"PURCHASE_ratios\"].describe()"
      ],
      "execution_count": null,
      "outputs": [
        {
          "output_type": "execute_result",
          "data": {
            "text/plain": [
              "count    68.000000\n",
              "mean      0.500000\n",
              "std       0.298688\n",
              "min       0.133296\n",
              "25%       0.211337\n",
              "50%       0.500000\n",
              "75%       0.788663\n",
              "max       0.866704\n",
              "Name: PURCHASE_ratios, dtype: float64"
            ]
          },
          "metadata": {
            "tags": []
          },
          "execution_count": 129
        }
      ]
    },
    {
      "cell_type": "code",
      "metadata": {
        "id": "NoFvbNXBdT1e",
        "colab": {
          "base_uri": "https://localhost:8080/",
          "height": 206
        },
        "outputId": "1f772ac0-d084-4ff9-a839-67f63110a176"
      },
      "source": [
        "df_ratio= pd.read_csv(\"/content/drive/MyDrive/Tanweer Internships & Jobs/Pidilite/purchase_ratio.csv\")\n",
        "df_ratio.head()"
      ],
      "execution_count": 44,
      "outputs": [
        {
          "output_type": "execute_result",
          "data": {
            "text/html": [
              "<div>\n",
              "<style scoped>\n",
              "    .dataframe tbody tr th:only-of-type {\n",
              "        vertical-align: middle;\n",
              "    }\n",
              "\n",
              "    .dataframe tbody tr th {\n",
              "        vertical-align: top;\n",
              "    }\n",
              "\n",
              "    .dataframe thead th {\n",
              "        text-align: right;\n",
              "    }\n",
              "</style>\n",
              "<table border=\"1\" class=\"dataframe\">\n",
              "  <thead>\n",
              "    <tr style=\"text-align: right;\">\n",
              "      <th></th>\n",
              "      <th>STATE</th>\n",
              "      <th>PURCHASE</th>\n",
              "      <th>PURCHASE.1</th>\n",
              "      <th>PURCHASE_ratios</th>\n",
              "    </tr>\n",
              "  </thead>\n",
              "  <tbody>\n",
              "    <tr>\n",
              "      <th>0</th>\n",
              "      <td></td>\n",
              "      <td>0</td>\n",
              "      <td>1537</td>\n",
              "      <td>0.834419</td>\n",
              "    </tr>\n",
              "    <tr>\n",
              "      <th>1</th>\n",
              "      <td></td>\n",
              "      <td>1</td>\n",
              "      <td>305</td>\n",
              "      <td>0.165581</td>\n",
              "    </tr>\n",
              "    <tr>\n",
              "      <th>2</th>\n",
              "      <td>Andaman and Nicobar Islands</td>\n",
              "      <td>0</td>\n",
              "      <td>705</td>\n",
              "      <td>0.738220</td>\n",
              "    </tr>\n",
              "    <tr>\n",
              "      <th>3</th>\n",
              "      <td>Andaman and Nicobar Islands</td>\n",
              "      <td>1</td>\n",
              "      <td>250</td>\n",
              "      <td>0.261780</td>\n",
              "    </tr>\n",
              "    <tr>\n",
              "      <th>4</th>\n",
              "      <td>Andhra Pradesh</td>\n",
              "      <td>0</td>\n",
              "      <td>4107</td>\n",
              "      <td>0.859025</td>\n",
              "    </tr>\n",
              "  </tbody>\n",
              "</table>\n",
              "</div>"
            ],
            "text/plain": [
              "                         STATE  PURCHASE  PURCHASE.1  PURCHASE_ratios\n",
              "0                                      0        1537         0.834419\n",
              "1                                      1         305         0.165581\n",
              "2  Andaman and Nicobar Islands         0         705         0.738220\n",
              "3  Andaman and Nicobar Islands         1         250         0.261780\n",
              "4               Andhra Pradesh         0        4107         0.859025"
            ]
          },
          "metadata": {
            "tags": []
          },
          "execution_count": 44
        }
      ]
    },
    {
      "cell_type": "code",
      "metadata": {
        "id": "s5CFI7kT1hp-"
      },
      "source": [
        ""
      ],
      "execution_count": null,
      "outputs": []
    },
    {
      "cell_type": "code",
      "metadata": {
        "colab": {
          "base_uri": "https://localhost:8080/",
          "height": 331
        },
        "id": "DpfX2T3ceTY4",
        "outputId": "7ec30a2e-0b3b-43a0-f7ba-de16239b9691"
      },
      "source": [
        "df_ratio = df.groupby([\"OCCUPATION\"])[\"PURCHASE\"].value_counts()\n",
        "df_ratio = df_ratio.sort_index()\n",
        "ratio = []\n",
        "for i in range(df_ratio.shape[0]):\n",
        "  if i%2 == 0:\n",
        "    ratio.append(df_ratio[i]/(df_ratio[i]+df_ratio[i+1]))\n",
        "  else:\n",
        "    ratio.append(df_ratio[i]/(df_ratio[i]+df_ratio[i-1]))\n",
        "pd.Series(ratio)\n",
        "df_ratio = df_ratio.to_frame()\n",
        "df_ratio[\"OCCUPATION\"+\"_ratios\"] = ratio\n",
        "display(df_ratio)"
      ],
      "execution_count": null,
      "outputs": [
        {
          "output_type": "display_data",
          "data": {
            "text/html": [
              "<div>\n",
              "<style scoped>\n",
              "    .dataframe tbody tr th:only-of-type {\n",
              "        vertical-align: middle;\n",
              "    }\n",
              "\n",
              "    .dataframe tbody tr th {\n",
              "        vertical-align: top;\n",
              "    }\n",
              "\n",
              "    .dataframe thead th {\n",
              "        text-align: right;\n",
              "    }\n",
              "</style>\n",
              "<table border=\"1\" class=\"dataframe\">\n",
              "  <thead>\n",
              "    <tr style=\"text-align: right;\">\n",
              "      <th></th>\n",
              "      <th></th>\n",
              "      <th>PURCHASE</th>\n",
              "      <th>OCCUPATION_ratios</th>\n",
              "    </tr>\n",
              "    <tr>\n",
              "      <th>OCCUPATION</th>\n",
              "      <th>PURCHASE</th>\n",
              "      <th></th>\n",
              "      <th></th>\n",
              "    </tr>\n",
              "  </thead>\n",
              "  <tbody>\n",
              "    <tr>\n",
              "      <th rowspan=\"2\" valign=\"top\"></th>\n",
              "      <th>0</th>\n",
              "      <td>32290</td>\n",
              "      <td>0.754845</td>\n",
              "    </tr>\n",
              "    <tr>\n",
              "      <th>1</th>\n",
              "      <td>10487</td>\n",
              "      <td>0.245155</td>\n",
              "    </tr>\n",
              "    <tr>\n",
              "      <th rowspan=\"2\" valign=\"top\">Business</th>\n",
              "      <th>0</th>\n",
              "      <td>550</td>\n",
              "      <td>0.336597</td>\n",
              "    </tr>\n",
              "    <tr>\n",
              "      <th>1</th>\n",
              "      <td>1084</td>\n",
              "      <td>0.663403</td>\n",
              "    </tr>\n",
              "    <tr>\n",
              "      <th rowspan=\"2\" valign=\"top\">Salaried</th>\n",
              "      <th>0</th>\n",
              "      <td>37210</td>\n",
              "      <td>0.841589</td>\n",
              "    </tr>\n",
              "    <tr>\n",
              "      <th>1</th>\n",
              "      <td>7004</td>\n",
              "      <td>0.158411</td>\n",
              "    </tr>\n",
              "    <tr>\n",
              "      <th rowspan=\"2\" valign=\"top\">Self employed</th>\n",
              "      <th>0</th>\n",
              "      <td>44487</td>\n",
              "      <td>0.724839</td>\n",
              "    </tr>\n",
              "    <tr>\n",
              "      <th>1</th>\n",
              "      <td>16888</td>\n",
              "      <td>0.275161</td>\n",
              "    </tr>\n",
              "  </tbody>\n",
              "</table>\n",
              "</div>"
            ],
            "text/plain": [
              "                        PURCHASE  OCCUPATION_ratios\n",
              "OCCUPATION    PURCHASE                             \n",
              "              0            32290           0.754845\n",
              "              1            10487           0.245155\n",
              "Business      0              550           0.336597\n",
              "              1             1084           0.663403\n",
              "Salaried      0            37210           0.841589\n",
              "              1             7004           0.158411\n",
              "Self employed 0            44487           0.724839\n",
              "              1            16888           0.275161"
            ]
          },
          "metadata": {
            "tags": []
          }
        }
      ]
    },
    {
      "cell_type": "code",
      "metadata": {
        "colab": {
          "base_uri": "https://localhost:8080/"
        },
        "id": "tsuwwljnlcNm",
        "outputId": "b9c5cdde-b07c-4deb-ecc8-c59a35b9a526"
      },
      "source": [
        "df_ratio[\"OCCUPATION_ratios\"].describe()"
      ],
      "execution_count": null,
      "outputs": [
        {
          "output_type": "execute_result",
          "data": {
            "text/plain": [
              "count    8.000000\n",
              "mean     0.500000\n",
              "std      0.271967\n",
              "min      0.158411\n",
              "25%      0.267659\n",
              "50%      0.500000\n",
              "75%      0.732341\n",
              "max      0.841589\n",
              "Name: OCCUPATION_ratios, dtype: float64"
            ]
          },
          "metadata": {
            "tags": []
          },
          "execution_count": 132
        }
      ]
    },
    {
      "cell_type": "code",
      "metadata": {
        "colab": {
          "base_uri": "https://localhost:8080/"
        },
        "id": "-vXtBfziv8gA",
        "outputId": "090bd5a0-ffc7-4604-a24d-a04211544b6d"
      },
      "source": [
        "df[\"PAST_PURCHASE\"].describe()"
      ],
      "execution_count": null,
      "outputs": [
        {
          "output_type": "execute_result",
          "data": {
            "text/plain": [
              "count    150000.000000\n",
              "mean      11244.207287\n",
              "std        8458.166886\n",
              "min         208.000000\n",
              "25%        6034.750000\n",
              "50%        8926.000000\n",
              "75%       13636.000000\n",
              "max      103520.000000\n",
              "Name: PAST_PURCHASE, dtype: float64"
            ]
          },
          "metadata": {
            "tags": []
          },
          "execution_count": 136
        }
      ]
    },
    {
      "cell_type": "code",
      "metadata": {
        "colab": {
          "base_uri": "https://localhost:8080/",
          "height": 491
        },
        "id": "5utnmJqzv8aa",
        "outputId": "88818cb7-c340-4ecf-ce1a-875fba3028b0"
      },
      "source": [
        "plt.figure(figsize=(30,10))\n",
        "plt.scatter(df[\"PAST_PURCHASE\"],df[\"PURCHASE\"])\n",
        "plt.show()"
      ],
      "execution_count": null,
      "outputs": [
        {
          "output_type": "display_data",
          "data": {
            "image/png": "[encoded data removed]",
            "text/plain": [
              "<Figure size 2160x720 with 1 Axes>"
            ]
          },
          "metadata": {
            "tags": [],
            "needs_background": "light"
          }
        }
      ]
    },
    {
      "cell_type": "code",
      "metadata": {
        "colab": {
          "base_uri": "https://localhost:8080/"
        },
        "id": "2PYm2udC-Zy9",
        "outputId": "e3e571cd-591b-4477-ee05-b7ec3f01a98b"
      },
      "source": [
        "X = df[\"PAST_PURCHASE\"].values.reshape(-1,1)\n",
        "y = df[\"PURCHASE\"].values.reshape(-1,1)\n",
        "from sklearn.model_selection import train_test_split\n",
        "X_train, X_test, y_train, y_test = train_test_split(X, y, test_size = 0.10, stratify = y)\n",
        "from sklearn.preprocessing import StandardScaler\n",
        "scaler = StandardScaler()\n",
        "X_train = scaler.fit_transform(X_train)\n",
        "X_test = scaler.transform(X_test)\n",
        "from sklearn.neighbors import KNeighborsClassifier\n",
        "for i in [40,80,60,6,7,9,11,12,15,17,18,22,65,42,50,54,40,36] :\n",
        "  classifier = KNeighborsClassifier(n_neighbors = i , weights=\"distance\" )\n",
        "  classifier.fit(X_train, y_train)\n",
        "  y_pred = classifier.predict(X_test)\n",
        "  from sklearn.metrics import classification_report, confusion_matrix, accuracy_score\n",
        "  result = confusion_matrix(y_test, y_pred)\n",
        "  print(\"Confusion Matrix:\")\n",
        "  print(result)\n",
        "  result1 = classification_report(y_test, y_pred)\n",
        "  print(\"Classification Report:\",)\n",
        "  print (result1)\n",
        "  result2 = accuracy_score(y_test,y_pred)\n",
        "  print(\"Accuracy:\",result2)"
      ],
      "execution_count": null,
      "outputs": [
        {
          "output_type": "stream",
          "text": [
            "/usr/local/lib/python3.7/dist-packages/ipykernel_launcher.py:12: DataConversionWarning: A column-vector y was passed when a 1d array was expected. Please change the shape of y to (n_samples, ), for example using ravel().\n",
            "  if sys.path[0] == '':\n"
          ],
          "name": "stderr"
        },
        {
          "output_type": "stream",
          "text": [
            "Confusion Matrix:\n",
            "[[10832   622]\n",
            " [ 3337   209]]\n",
            "Classification Report:\n",
            "              precision    recall  f1-score   support\n",
            "\n",
            "           0       0.76      0.95      0.85     11454\n",
            "           1       0.25      0.06      0.10      3546\n",
            "\n",
            "    accuracy                           0.74     15000\n",
            "   macro avg       0.51      0.50      0.47     15000\n",
            "weighted avg       0.64      0.74      0.67     15000\n",
            "\n",
            "Accuracy: 0.7360666666666666\n"
          ],
          "name": "stdout"
        },
        {
          "output_type": "stream",
          "text": [
            "/usr/local/lib/python3.7/dist-packages/ipykernel_launcher.py:12: DataConversionWarning: A column-vector y was passed when a 1d array was expected. Please change the shape of y to (n_samples, ), for example using ravel().\n",
            "  if sys.path[0] == '':\n"
          ],
          "name": "stderr"
        },
        {
          "output_type": "stream",
          "text": [
            "Confusion Matrix:\n",
            "[[10846   608]\n",
            " [ 3341   205]]\n",
            "Classification Report:\n",
            "              precision    recall  f1-score   support\n",
            "\n",
            "           0       0.76      0.95      0.85     11454\n",
            "           1       0.25      0.06      0.09      3546\n",
            "\n",
            "    accuracy                           0.74     15000\n",
            "   macro avg       0.51      0.50      0.47     15000\n",
            "weighted avg       0.64      0.74      0.67     15000\n",
            "\n",
            "Accuracy: 0.7367333333333334\n"
          ],
          "name": "stdout"
        },
        {
          "output_type": "stream",
          "text": [
            "/usr/local/lib/python3.7/dist-packages/ipykernel_launcher.py:12: DataConversionWarning: A column-vector y was passed when a 1d array was expected. Please change the shape of y to (n_samples, ), for example using ravel().\n",
            "  if sys.path[0] == '':\n"
          ],
          "name": "stderr"
        },
        {
          "output_type": "stream",
          "text": [
            "Confusion Matrix:\n",
            "[[10846   608]\n",
            " [ 3339   207]]\n",
            "Classification Report:\n",
            "              precision    recall  f1-score   support\n",
            "\n",
            "           0       0.76      0.95      0.85     11454\n",
            "           1       0.25      0.06      0.09      3546\n",
            "\n",
            "    accuracy                           0.74     15000\n",
            "   macro avg       0.51      0.50      0.47     15000\n",
            "weighted avg       0.64      0.74      0.67     15000\n",
            "\n",
            "Accuracy: 0.7368666666666667\n",
            "Confusion Matrix:\n",
            "[[10749   705]\n",
            " [ 3313   233]]\n"
          ],
          "name": "stdout"
        },
        {
          "output_type": "stream",
          "text": [
            "/usr/local/lib/python3.7/dist-packages/ipykernel_launcher.py:12: DataConversionWarning: A column-vector y was passed when a 1d array was expected. Please change the shape of y to (n_samples, ), for example using ravel().\n",
            "  if sys.path[0] == '':\n",
            "/usr/local/lib/python3.7/dist-packages/ipykernel_launcher.py:12: DataConversionWarning: A column-vector y was passed when a 1d array was expected. Please change the shape of y to (n_samples, ), for example using ravel().\n",
            "  if sys.path[0] == '':\n"
          ],
          "name": "stderr"
        },
        {
          "output_type": "stream",
          "text": [
            "Classification Report:\n",
            "              precision    recall  f1-score   support\n",
            "\n",
            "           0       0.76      0.94      0.84     11454\n",
            "           1       0.25      0.07      0.10      3546\n",
            "\n",
            "    accuracy                           0.73     15000\n",
            "   macro avg       0.51      0.50      0.47     15000\n",
            "weighted avg       0.64      0.73      0.67     15000\n",
            "\n",
            "Accuracy: 0.7321333333333333\n",
            "Confusion Matrix:\n",
            "[[10589   865]\n",
            " [ 3260   286]]\n",
            "Classification Report:\n",
            "              precision    recall  f1-score   support\n",
            "\n",
            "           0       0.76      0.92      0.84     11454\n",
            "           1       0.25      0.08      0.12      3546\n",
            "\n",
            "    accuracy                           0.73     15000\n",
            "   macro avg       0.51      0.50      0.48     15000\n",
            "weighted avg       0.64      0.72      0.67     15000\n",
            "\n",
            "Accuracy: 0.725\n"
          ],
          "name": "stdout"
        },
        {
          "output_type": "stream",
          "text": [
            "/usr/local/lib/python3.7/dist-packages/ipykernel_launcher.py:12: DataConversionWarning: A column-vector y was passed when a 1d array was expected. Please change the shape of y to (n_samples, ), for example using ravel().\n",
            "  if sys.path[0] == '':\n",
            "/usr/local/lib/python3.7/dist-packages/ipykernel_launcher.py:12: DataConversionWarning: A column-vector y was passed when a 1d array was expected. Please change the shape of y to (n_samples, ), for example using ravel().\n",
            "  if sys.path[0] == '':\n"
          ],
          "name": "stderr"
        },
        {
          "output_type": "stream",
          "text": [
            "Confusion Matrix:\n",
            "[[10714   740]\n",
            " [ 3296   250]]\n",
            "Classification Report:\n",
            "              precision    recall  f1-score   support\n",
            "\n",
            "           0       0.76      0.94      0.84     11454\n",
            "           1       0.25      0.07      0.11      3546\n",
            "\n",
            "    accuracy                           0.73     15000\n",
            "   macro avg       0.51      0.50      0.48     15000\n",
            "weighted avg       0.64      0.73      0.67     15000\n",
            "\n",
            "Accuracy: 0.7309333333333333\n",
            "Confusion Matrix:\n",
            "[[10765   689]\n",
            " [ 3304   242]]\n",
            "Classification Report:\n",
            "              precision    recall  f1-score   support\n",
            "\n",
            "           0       0.77      0.94      0.84     11454\n",
            "           1       0.26      0.07      0.11      3546\n",
            "\n",
            "    accuracy                           0.73     15000\n",
            "   macro avg       0.51      0.50      0.48     15000\n",
            "weighted avg       0.65      0.73      0.67     15000\n",
            "\n",
            "Accuracy: 0.7338\n",
            "Confusion Matrix:\n",
            "[[10795   659]\n",
            " [ 3320   226]]\n",
            "Classification Report:\n",
            "              precision    recall  f1-score   support\n",
            "\n",
            "           0       0.76      0.94      0.84     11454\n",
            "           1       0.26      0.06      0.10      3546\n",
            "\n",
            "    accuracy                           0.73     15000\n",
            "   macro avg       0.51      0.50      0.47     15000\n",
            "weighted avg       0.64      0.73      0.67     15000\n",
            "\n"
          ],
          "name": "stdout"
        },
        {
          "output_type": "stream",
          "text": [
            "/usr/local/lib/python3.7/dist-packages/ipykernel_launcher.py:12: DataConversionWarning: A column-vector y was passed when a 1d array was expected. Please change the shape of y to (n_samples, ), for example using ravel().\n",
            "  if sys.path[0] == '':\n",
            "/usr/local/lib/python3.7/dist-packages/ipykernel_launcher.py:12: DataConversionWarning: A column-vector y was passed when a 1d array was expected. Please change the shape of y to (n_samples, ), for example using ravel().\n",
            "  if sys.path[0] == '':\n"
          ],
          "name": "stderr"
        },
        {
          "output_type": "stream",
          "text": [
            "Accuracy: 0.7347333333333333\n",
            "Confusion Matrix:\n",
            "[[10804   650]\n",
            " [ 3323   223]]\n",
            "Classification Report:\n",
            "              precision    recall  f1-score   support\n",
            "\n",
            "           0       0.76      0.94      0.84     11454\n",
            "           1       0.26      0.06      0.10      3546\n",
            "\n",
            "    accuracy                           0.74     15000\n",
            "   macro avg       0.51      0.50      0.47     15000\n",
            "weighted avg       0.64      0.74      0.67     15000\n",
            "\n",
            "Accuracy: 0.7351333333333333\n"
          ],
          "name": "stdout"
        },
        {
          "output_type": "stream",
          "text": [
            "/usr/local/lib/python3.7/dist-packages/ipykernel_launcher.py:12: DataConversionWarning: A column-vector y was passed when a 1d array was expected. Please change the shape of y to (n_samples, ), for example using ravel().\n",
            "  if sys.path[0] == '':\n"
          ],
          "name": "stderr"
        },
        {
          "output_type": "stream",
          "text": [
            "Confusion Matrix:\n",
            "[[10811   643]\n",
            " [ 3328   218]]\n",
            "Classification Report:\n",
            "              precision    recall  f1-score   support\n",
            "\n",
            "           0       0.76      0.94      0.84     11454\n",
            "           1       0.25      0.06      0.10      3546\n",
            "\n",
            "    accuracy                           0.74     15000\n",
            "   macro avg       0.51      0.50      0.47     15000\n",
            "weighted avg       0.64      0.74      0.67     15000\n",
            "\n",
            "Accuracy: 0.7352666666666666\n"
          ],
          "name": "stdout"
        },
        {
          "output_type": "stream",
          "text": [
            "/usr/local/lib/python3.7/dist-packages/ipykernel_launcher.py:12: DataConversionWarning: A column-vector y was passed when a 1d array was expected. Please change the shape of y to (n_samples, ), for example using ravel().\n",
            "  if sys.path[0] == '':\n"
          ],
          "name": "stderr"
        },
        {
          "output_type": "stream",
          "text": [
            "Confusion Matrix:\n",
            "[[10811   643]\n",
            " [ 3329   217]]\n",
            "Classification Report:\n",
            "              precision    recall  f1-score   support\n",
            "\n",
            "           0       0.76      0.94      0.84     11454\n",
            "           1       0.25      0.06      0.10      3546\n",
            "\n",
            "    accuracy                           0.74     15000\n",
            "   macro avg       0.51      0.50      0.47     15000\n",
            "weighted avg       0.64      0.74      0.67     15000\n",
            "\n",
            "Accuracy: 0.7352\n"
          ],
          "name": "stdout"
        },
        {
          "output_type": "stream",
          "text": [
            "/usr/local/lib/python3.7/dist-packages/ipykernel_launcher.py:12: DataConversionWarning: A column-vector y was passed when a 1d array was expected. Please change the shape of y to (n_samples, ), for example using ravel().\n",
            "  if sys.path[0] == '':\n"
          ],
          "name": "stderr"
        },
        {
          "output_type": "stream",
          "text": [
            "Confusion Matrix:\n",
            "[[10821   633]\n",
            " [ 3331   215]]\n",
            "Classification Report:\n",
            "              precision    recall  f1-score   support\n",
            "\n",
            "           0       0.76      0.94      0.85     11454\n",
            "           1       0.25      0.06      0.10      3546\n",
            "\n",
            "    accuracy                           0.74     15000\n",
            "   macro avg       0.51      0.50      0.47     15000\n",
            "weighted avg       0.64      0.74      0.67     15000\n",
            "\n",
            "Accuracy: 0.7357333333333334\n"
          ],
          "name": "stdout"
        },
        {
          "output_type": "stream",
          "text": [
            "/usr/local/lib/python3.7/dist-packages/ipykernel_launcher.py:12: DataConversionWarning: A column-vector y was passed when a 1d array was expected. Please change the shape of y to (n_samples, ), for example using ravel().\n",
            "  if sys.path[0] == '':\n"
          ],
          "name": "stderr"
        },
        {
          "output_type": "stream",
          "text": [
            "Confusion Matrix:\n",
            "[[10846   608]\n",
            " [ 3340   206]]\n",
            "Classification Report:\n",
            "              precision    recall  f1-score   support\n",
            "\n",
            "           0       0.76      0.95      0.85     11454\n",
            "           1       0.25      0.06      0.09      3546\n",
            "\n",
            "    accuracy                           0.74     15000\n",
            "   macro avg       0.51      0.50      0.47     15000\n",
            "weighted avg       0.64      0.74      0.67     15000\n",
            "\n",
            "Accuracy: 0.7368\n"
          ],
          "name": "stdout"
        },
        {
          "output_type": "stream",
          "text": [
            "/usr/local/lib/python3.7/dist-packages/ipykernel_launcher.py:12: DataConversionWarning: A column-vector y was passed when a 1d array was expected. Please change the shape of y to (n_samples, ), for example using ravel().\n",
            "  if sys.path[0] == '':\n"
          ],
          "name": "stderr"
        },
        {
          "output_type": "stream",
          "text": [
            "Confusion Matrix:\n",
            "[[10836   618]\n",
            " [ 3337   209]]\n",
            "Classification Report:\n",
            "              precision    recall  f1-score   support\n",
            "\n",
            "           0       0.76      0.95      0.85     11454\n",
            "           1       0.25      0.06      0.10      3546\n",
            "\n",
            "    accuracy                           0.74     15000\n",
            "   macro avg       0.51      0.50      0.47     15000\n",
            "weighted avg       0.64      0.74      0.67     15000\n",
            "\n",
            "Accuracy: 0.7363333333333333\n"
          ],
          "name": "stdout"
        },
        {
          "output_type": "stream",
          "text": [
            "/usr/local/lib/python3.7/dist-packages/ipykernel_launcher.py:12: DataConversionWarning: A column-vector y was passed when a 1d array was expected. Please change the shape of y to (n_samples, ), for example using ravel().\n",
            "  if sys.path[0] == '':\n"
          ],
          "name": "stderr"
        },
        {
          "output_type": "stream",
          "text": [
            "Confusion Matrix:\n",
            "[[10838   616]\n",
            " [ 3338   208]]\n",
            "Classification Report:\n",
            "              precision    recall  f1-score   support\n",
            "\n",
            "           0       0.76      0.95      0.85     11454\n",
            "           1       0.25      0.06      0.10      3546\n",
            "\n",
            "    accuracy                           0.74     15000\n",
            "   macro avg       0.51      0.50      0.47     15000\n",
            "weighted avg       0.64      0.74      0.67     15000\n",
            "\n",
            "Accuracy: 0.7364\n"
          ],
          "name": "stdout"
        },
        {
          "output_type": "stream",
          "text": [
            "/usr/local/lib/python3.7/dist-packages/ipykernel_launcher.py:12: DataConversionWarning: A column-vector y was passed when a 1d array was expected. Please change the shape of y to (n_samples, ), for example using ravel().\n",
            "  if sys.path[0] == '':\n"
          ],
          "name": "stderr"
        },
        {
          "output_type": "stream",
          "text": [
            "Confusion Matrix:\n",
            "[[10840   614]\n",
            " [ 3339   207]]\n",
            "Classification Report:\n",
            "              precision    recall  f1-score   support\n",
            "\n",
            "           0       0.76      0.95      0.85     11454\n",
            "           1       0.25      0.06      0.09      3546\n",
            "\n",
            "    accuracy                           0.74     15000\n",
            "   macro avg       0.51      0.50      0.47     15000\n",
            "weighted avg       0.64      0.74      0.67     15000\n",
            "\n",
            "Accuracy: 0.7364666666666667\n"
          ],
          "name": "stdout"
        },
        {
          "output_type": "stream",
          "text": [
            "/usr/local/lib/python3.7/dist-packages/ipykernel_launcher.py:12: DataConversionWarning: A column-vector y was passed when a 1d array was expected. Please change the shape of y to (n_samples, ), for example using ravel().\n",
            "  if sys.path[0] == '':\n"
          ],
          "name": "stderr"
        },
        {
          "output_type": "stream",
          "text": [
            "Confusion Matrix:\n",
            "[[10832   622]\n",
            " [ 3337   209]]\n",
            "Classification Report:\n",
            "              precision    recall  f1-score   support\n",
            "\n",
            "           0       0.76      0.95      0.85     11454\n",
            "           1       0.25      0.06      0.10      3546\n",
            "\n",
            "    accuracy                           0.74     15000\n",
            "   macro avg       0.51      0.50      0.47     15000\n",
            "weighted avg       0.64      0.74      0.67     15000\n",
            "\n",
            "Accuracy: 0.7360666666666666\n"
          ],
          "name": "stdout"
        },
        {
          "output_type": "stream",
          "text": [
            "/usr/local/lib/python3.7/dist-packages/ipykernel_launcher.py:12: DataConversionWarning: A column-vector y was passed when a 1d array was expected. Please change the shape of y to (n_samples, ), for example using ravel().\n",
            "  if sys.path[0] == '':\n"
          ],
          "name": "stderr"
        },
        {
          "output_type": "stream",
          "text": [
            "Confusion Matrix:\n",
            "[[10832   622]\n",
            " [ 3336   210]]\n",
            "Classification Report:\n",
            "              precision    recall  f1-score   support\n",
            "\n",
            "           0       0.76      0.95      0.85     11454\n",
            "           1       0.25      0.06      0.10      3546\n",
            "\n",
            "    accuracy                           0.74     15000\n",
            "   macro avg       0.51      0.50      0.47     15000\n",
            "weighted avg       0.64      0.74      0.67     15000\n",
            "\n",
            "Accuracy: 0.7361333333333333\n"
          ],
          "name": "stdout"
        }
      ]
    },
    {
      "cell_type": "code",
      "metadata": {
        "colab": {
          "base_uri": "https://localhost:8080/"
        },
        "id": "A_Y5Ey0ZR9VX",
        "outputId": "2c441ff1-3ec1-4c87-c1a1-ec61cda070e9"
      },
      "source": [
        "X = df[\"AGE\"].values.reshape(-1,1)\n",
        "y = df[\"PURCHASE\"].values.reshape(-1,1)\n",
        "from sklearn.model_selection import train_test_split\n",
        "X_train, X_test, y_train, y_test = train_test_split(X, y, test_size = 0.10, stratify = y)\n",
        "from sklearn.preprocessing import StandardScaler\n",
        "scaler = StandardScaler()\n",
        "X_train = scaler.fit_transform(X_train)\n",
        "X_test = scaler.transform(X_test)\n",
        "from sklearn.neighbors import KNeighborsClassifier\n",
        "for i in [5,8,10,15,20,30,40,80,60,6,7,9,11,12,15,17,18,22,65,42,50,54,80,100] :\n",
        "  classifier = KNeighborsClassifier(n_neighbors = i , weights=\"distance\" )\n",
        "  classifier.fit(X_train, y_train)\n",
        "  y_pred = classifier.predict(X_test)\n",
        "  from sklearn.metrics import classification_report, confusion_matrix, accuracy_score\n",
        "  result = confusion_matrix(y_test, y_pred)\n",
        "  print(\"Confusion Matrix:\")\n",
        "  print(result)\n",
        "  result1 = classification_report(y_test, y_pred)\n",
        "  print(\"Classification Report:\",)\n",
        "  print (result1)\n",
        "  result2 = accuracy_score(y_test,y_pred)\n",
        "  print(\"Accuracy:\",result2)"
      ],
      "execution_count": null,
      "outputs": [
        {
          "output_type": "stream",
          "text": [
            "/usr/local/lib/python3.7/dist-packages/ipykernel_launcher.py:12: DataConversionWarning: A column-vector y was passed when a 1d array was expected. Please change the shape of y to (n_samples, ), for example using ravel().\n",
            "  if sys.path[0] == '':\n"
          ],
          "name": "stderr"
        },
        {
          "output_type": "stream",
          "text": [
            "Confusion Matrix:\n",
            "[[10061  1393]\n",
            " [ 2864   682]]\n",
            "Classification Report:\n",
            "              precision    recall  f1-score   support\n",
            "\n",
            "           0       0.78      0.88      0.83     11454\n",
            "           1       0.33      0.19      0.24      3546\n",
            "\n",
            "    accuracy                           0.72     15000\n",
            "   macro avg       0.55      0.54      0.53     15000\n",
            "weighted avg       0.67      0.72      0.69     15000\n",
            "\n",
            "Accuracy: 0.7162\n"
          ],
          "name": "stdout"
        },
        {
          "output_type": "stream",
          "text": [
            "/usr/local/lib/python3.7/dist-packages/ipykernel_launcher.py:12: DataConversionWarning: A column-vector y was passed when a 1d array was expected. Please change the shape of y to (n_samples, ), for example using ravel().\n",
            "  if sys.path[0] == '':\n"
          ],
          "name": "stderr"
        },
        {
          "output_type": "stream",
          "text": [
            "Confusion Matrix:\n",
            "[[11127   327]\n",
            " [ 3356   190]]\n",
            "Classification Report:\n",
            "              precision    recall  f1-score   support\n",
            "\n",
            "           0       0.77      0.97      0.86     11454\n",
            "           1       0.37      0.05      0.09      3546\n",
            "\n",
            "    accuracy                           0.75     15000\n",
            "   macro avg       0.57      0.51      0.48     15000\n",
            "weighted avg       0.67      0.75      0.68     15000\n",
            "\n",
            "Accuracy: 0.7544666666666666\n"
          ],
          "name": "stdout"
        },
        {
          "output_type": "stream",
          "text": [
            "/usr/local/lib/python3.7/dist-packages/ipykernel_launcher.py:12: DataConversionWarning: A column-vector y was passed when a 1d array was expected. Please change the shape of y to (n_samples, ), for example using ravel().\n",
            "  if sys.path[0] == '':\n"
          ],
          "name": "stderr"
        },
        {
          "output_type": "stream",
          "text": [
            "Confusion Matrix:\n",
            "[[10884   570]\n",
            " [ 3249   297]]\n",
            "Classification Report:\n",
            "              precision    recall  f1-score   support\n",
            "\n",
            "           0       0.77      0.95      0.85     11454\n",
            "           1       0.34      0.08      0.13      3546\n",
            "\n",
            "    accuracy                           0.75     15000\n",
            "   macro avg       0.56      0.52      0.49     15000\n",
            "weighted avg       0.67      0.75      0.68     15000\n",
            "\n",
            "Accuracy: 0.7454\n"
          ],
          "name": "stdout"
        },
        {
          "output_type": "stream",
          "text": [
            "/usr/local/lib/python3.7/dist-packages/ipykernel_launcher.py:12: DataConversionWarning: A column-vector y was passed when a 1d array was expected. Please change the shape of y to (n_samples, ), for example using ravel().\n",
            "  if sys.path[0] == '':\n"
          ],
          "name": "stderr"
        },
        {
          "output_type": "stream",
          "text": [
            "Confusion Matrix:\n",
            "[[10794   660]\n",
            " [ 3203   343]]\n",
            "Classification Report:\n",
            "              precision    recall  f1-score   support\n",
            "\n",
            "           0       0.77      0.94      0.85     11454\n",
            "           1       0.34      0.10      0.15      3546\n",
            "\n",
            "    accuracy                           0.74     15000\n",
            "   macro avg       0.56      0.52      0.50     15000\n",
            "weighted avg       0.67      0.74      0.68     15000\n",
            "\n",
            "Accuracy: 0.7424666666666667\n"
          ],
          "name": "stdout"
        },
        {
          "output_type": "stream",
          "text": [
            "/usr/local/lib/python3.7/dist-packages/ipykernel_launcher.py:12: DataConversionWarning: A column-vector y was passed when a 1d array was expected. Please change the shape of y to (n_samples, ), for example using ravel().\n",
            "  if sys.path[0] == '':\n"
          ],
          "name": "stderr"
        },
        {
          "output_type": "stream",
          "text": [
            "Confusion Matrix:\n",
            "[[11288   166]\n",
            " [ 3448    98]]\n",
            "Classification Report:\n",
            "              precision    recall  f1-score   support\n",
            "\n",
            "           0       0.77      0.99      0.86     11454\n",
            "           1       0.37      0.03      0.05      3546\n",
            "\n",
            "    accuracy                           0.76     15000\n",
            "   macro avg       0.57      0.51      0.46     15000\n",
            "weighted avg       0.67      0.76      0.67     15000\n",
            "\n",
            "Accuracy: 0.7590666666666667\n"
          ],
          "name": "stdout"
        },
        {
          "output_type": "stream",
          "text": [
            "/usr/local/lib/python3.7/dist-packages/ipykernel_launcher.py:12: DataConversionWarning: A column-vector y was passed when a 1d array was expected. Please change the shape of y to (n_samples, ), for example using ravel().\n",
            "  if sys.path[0] == '':\n"
          ],
          "name": "stderr"
        },
        {
          "output_type": "stream",
          "text": [
            "Confusion Matrix:\n",
            "[[11378    76]\n",
            " [ 3522    24]]\n",
            "Classification Report:\n",
            "              precision    recall  f1-score   support\n",
            "\n",
            "           0       0.76      0.99      0.86     11454\n",
            "           1       0.24      0.01      0.01      3546\n",
            "\n",
            "    accuracy                           0.76     15000\n",
            "   macro avg       0.50      0.50      0.44     15000\n",
            "weighted avg       0.64      0.76      0.66     15000\n",
            "\n",
            "Accuracy: 0.7601333333333333\n"
          ],
          "name": "stdout"
        },
        {
          "output_type": "stream",
          "text": [
            "/usr/local/lib/python3.7/dist-packages/ipykernel_launcher.py:12: DataConversionWarning: A column-vector y was passed when a 1d array was expected. Please change the shape of y to (n_samples, ), for example using ravel().\n",
            "  if sys.path[0] == '':\n"
          ],
          "name": "stderr"
        },
        {
          "output_type": "stream",
          "text": [
            "Confusion Matrix:\n",
            "[[11454     0]\n",
            " [ 3546     0]]\n",
            "Classification Report:\n",
            "              precision    recall  f1-score   support\n",
            "\n",
            "           0       0.76      1.00      0.87     11454\n",
            "           1       0.00      0.00      0.00      3546\n",
            "\n",
            "    accuracy                           0.76     15000\n",
            "   macro avg       0.38      0.50      0.43     15000\n",
            "weighted avg       0.58      0.76      0.66     15000\n",
            "\n",
            "Accuracy: 0.7636\n"
          ],
          "name": "stdout"
        },
        {
          "output_type": "stream",
          "text": [
            "/usr/local/lib/python3.7/dist-packages/sklearn/metrics/_classification.py:1272: UndefinedMetricWarning: Precision and F-score are ill-defined and being set to 0.0 in labels with no predicted samples. Use `zero_division` parameter to control this behavior.\n",
            "  _warn_prf(average, modifier, msg_start, len(result))\n",
            "/usr/local/lib/python3.7/dist-packages/ipykernel_launcher.py:12: DataConversionWarning: A column-vector y was passed when a 1d array was expected. Please change the shape of y to (n_samples, ), for example using ravel().\n",
            "  if sys.path[0] == '':\n"
          ],
          "name": "stderr"
        },
        {
          "output_type": "stream",
          "text": [
            "Confusion Matrix:\n",
            "[[11454     0]\n",
            " [ 3546     0]]\n",
            "Classification Report:\n",
            "              precision    recall  f1-score   support\n",
            "\n",
            "           0       0.76      1.00      0.87     11454\n",
            "           1       0.00      0.00      0.00      3546\n",
            "\n",
            "    accuracy                           0.76     15000\n",
            "   macro avg       0.38      0.50      0.43     15000\n",
            "weighted avg       0.58      0.76      0.66     15000\n",
            "\n",
            "Accuracy: 0.7636\n"
          ],
          "name": "stdout"
        },
        {
          "output_type": "stream",
          "text": [
            "/usr/local/lib/python3.7/dist-packages/sklearn/metrics/_classification.py:1272: UndefinedMetricWarning: Precision and F-score are ill-defined and being set to 0.0 in labels with no predicted samples. Use `zero_division` parameter to control this behavior.\n",
            "  _warn_prf(average, modifier, msg_start, len(result))\n",
            "/usr/local/lib/python3.7/dist-packages/ipykernel_launcher.py:12: DataConversionWarning: A column-vector y was passed when a 1d array was expected. Please change the shape of y to (n_samples, ), for example using ravel().\n",
            "  if sys.path[0] == '':\n"
          ],
          "name": "stderr"
        },
        {
          "output_type": "stream",
          "text": [
            "Confusion Matrix:\n",
            "[[11454     0]\n",
            " [ 3546     0]]\n",
            "Classification Report:\n",
            "              precision    recall  f1-score   support\n",
            "\n",
            "           0       0.76      1.00      0.87     11454\n",
            "           1       0.00      0.00      0.00      3546\n",
            "\n",
            "    accuracy                           0.76     15000\n",
            "   macro avg       0.38      0.50      0.43     15000\n",
            "weighted avg       0.58      0.76      0.66     15000\n",
            "\n",
            "Accuracy: 0.7636\n"
          ],
          "name": "stdout"
        },
        {
          "output_type": "stream",
          "text": [
            "/usr/local/lib/python3.7/dist-packages/sklearn/metrics/_classification.py:1272: UndefinedMetricWarning: Precision and F-score are ill-defined and being set to 0.0 in labels with no predicted samples. Use `zero_division` parameter to control this behavior.\n",
            "  _warn_prf(average, modifier, msg_start, len(result))\n",
            "/usr/local/lib/python3.7/dist-packages/ipykernel_launcher.py:12: DataConversionWarning: A column-vector y was passed when a 1d array was expected. Please change the shape of y to (n_samples, ), for example using ravel().\n",
            "  if sys.path[0] == '':\n"
          ],
          "name": "stderr"
        },
        {
          "output_type": "stream",
          "text": [
            "Confusion Matrix:\n",
            "[[10537   917]\n",
            " [ 3084   462]]\n",
            "Classification Report:\n",
            "              precision    recall  f1-score   support\n",
            "\n",
            "           0       0.77      0.92      0.84     11454\n",
            "           1       0.34      0.13      0.19      3546\n",
            "\n",
            "    accuracy                           0.73     15000\n",
            "   macro avg       0.55      0.53      0.51     15000\n",
            "weighted avg       0.67      0.73      0.69     15000\n",
            "\n",
            "Accuracy: 0.7332666666666666\n"
          ],
          "name": "stdout"
        },
        {
          "output_type": "stream",
          "text": [
            "/usr/local/lib/python3.7/dist-packages/ipykernel_launcher.py:12: DataConversionWarning: A column-vector y was passed when a 1d array was expected. Please change the shape of y to (n_samples, ), for example using ravel().\n",
            "  if sys.path[0] == '':\n"
          ],
          "name": "stderr"
        },
        {
          "output_type": "stream",
          "text": [
            "Confusion Matrix:\n",
            "[[10081  1373]\n",
            " [ 2894   652]]\n",
            "Classification Report:\n",
            "              precision    recall  f1-score   support\n",
            "\n",
            "           0       0.78      0.88      0.83     11454\n",
            "           1       0.32      0.18      0.23      3546\n",
            "\n",
            "    accuracy                           0.72     15000\n",
            "   macro avg       0.55      0.53      0.53     15000\n",
            "weighted avg       0.67      0.72      0.69     15000\n",
            "\n",
            "Accuracy: 0.7155333333333334\n"
          ],
          "name": "stdout"
        },
        {
          "output_type": "stream",
          "text": [
            "/usr/local/lib/python3.7/dist-packages/ipykernel_launcher.py:12: DataConversionWarning: A column-vector y was passed when a 1d array was expected. Please change the shape of y to (n_samples, ), for example using ravel().\n",
            "  if sys.path[0] == '':\n"
          ],
          "name": "stderr"
        },
        {
          "output_type": "stream",
          "text": [
            "Confusion Matrix:\n",
            "[[10651   803]\n",
            " [ 3177   369]]\n",
            "Classification Report:\n",
            "              precision    recall  f1-score   support\n",
            "\n",
            "           0       0.77      0.93      0.84     11454\n",
            "           1       0.31      0.10      0.16      3546\n",
            "\n",
            "    accuracy                           0.73     15000\n",
            "   macro avg       0.54      0.52      0.50     15000\n",
            "weighted avg       0.66      0.73      0.68     15000\n",
            "\n",
            "Accuracy: 0.7346666666666667\n"
          ],
          "name": "stdout"
        },
        {
          "output_type": "stream",
          "text": [
            "/usr/local/lib/python3.7/dist-packages/ipykernel_launcher.py:12: DataConversionWarning: A column-vector y was passed when a 1d array was expected. Please change the shape of y to (n_samples, ), for example using ravel().\n",
            "  if sys.path[0] == '':\n"
          ],
          "name": "stderr"
        },
        {
          "output_type": "stream",
          "text": [
            "Confusion Matrix:\n",
            "[[10761   693]\n",
            " [ 3211   335]]\n",
            "Classification Report:\n",
            "              precision    recall  f1-score   support\n",
            "\n",
            "           0       0.77      0.94      0.85     11454\n",
            "           1       0.33      0.09      0.15      3546\n",
            "\n",
            "    accuracy                           0.74     15000\n",
            "   macro avg       0.55      0.52      0.50     15000\n",
            "weighted avg       0.67      0.74      0.68     15000\n",
            "\n",
            "Accuracy: 0.7397333333333334\n"
          ],
          "name": "stdout"
        },
        {
          "output_type": "stream",
          "text": [
            "/usr/local/lib/python3.7/dist-packages/ipykernel_launcher.py:12: DataConversionWarning: A column-vector y was passed when a 1d array was expected. Please change the shape of y to (n_samples, ), for example using ravel().\n",
            "  if sys.path[0] == '':\n"
          ],
          "name": "stderr"
        },
        {
          "output_type": "stream",
          "text": [
            "Confusion Matrix:\n",
            "[[10987   467]\n",
            " [ 3314   232]]\n",
            "Classification Report:\n",
            "              precision    recall  f1-score   support\n",
            "\n",
            "           0       0.77      0.96      0.85     11454\n",
            "           1       0.33      0.07      0.11      3546\n",
            "\n",
            "    accuracy                           0.75     15000\n",
            "   macro avg       0.55      0.51      0.48     15000\n",
            "weighted avg       0.67      0.75      0.68     15000\n",
            "\n",
            "Accuracy: 0.7479333333333333\n"
          ],
          "name": "stdout"
        },
        {
          "output_type": "stream",
          "text": [
            "/usr/local/lib/python3.7/dist-packages/ipykernel_launcher.py:12: DataConversionWarning: A column-vector y was passed when a 1d array was expected. Please change the shape of y to (n_samples, ), for example using ravel().\n",
            "  if sys.path[0] == '':\n"
          ],
          "name": "stderr"
        },
        {
          "output_type": "stream",
          "text": [
            "Confusion Matrix:\n",
            "[[10794   660]\n",
            " [ 3203   343]]\n",
            "Classification Report:\n",
            "              precision    recall  f1-score   support\n",
            "\n",
            "           0       0.77      0.94      0.85     11454\n",
            "           1       0.34      0.10      0.15      3546\n",
            "\n",
            "    accuracy                           0.74     15000\n",
            "   macro avg       0.56      0.52      0.50     15000\n",
            "weighted avg       0.67      0.74      0.68     15000\n",
            "\n",
            "Accuracy: 0.7424666666666667\n"
          ],
          "name": "stdout"
        },
        {
          "output_type": "stream",
          "text": [
            "/usr/local/lib/python3.7/dist-packages/ipykernel_launcher.py:12: DataConversionWarning: A column-vector y was passed when a 1d array was expected. Please change the shape of y to (n_samples, ), for example using ravel().\n",
            "  if sys.path[0] == '':\n"
          ],
          "name": "stderr"
        },
        {
          "output_type": "stream",
          "text": [
            "Confusion Matrix:\n",
            "[[10852   602]\n",
            " [ 3231   315]]\n",
            "Classification Report:\n",
            "              precision    recall  f1-score   support\n",
            "\n",
            "           0       0.77      0.95      0.85     11454\n",
            "           1       0.34      0.09      0.14      3546\n",
            "\n",
            "    accuracy                           0.74     15000\n",
            "   macro avg       0.56      0.52      0.50     15000\n",
            "weighted avg       0.67      0.74      0.68     15000\n",
            "\n",
            "Accuracy: 0.7444666666666667\n"
          ],
          "name": "stdout"
        },
        {
          "output_type": "stream",
          "text": [
            "/usr/local/lib/python3.7/dist-packages/ipykernel_launcher.py:12: DataConversionWarning: A column-vector y was passed when a 1d array was expected. Please change the shape of y to (n_samples, ), for example using ravel().\n",
            "  if sys.path[0] == '':\n"
          ],
          "name": "stderr"
        },
        {
          "output_type": "stream",
          "text": [
            "Confusion Matrix:\n",
            "[[10852   602]\n",
            " [ 3231   315]]\n",
            "Classification Report:\n",
            "              precision    recall  f1-score   support\n",
            "\n",
            "           0       0.77      0.95      0.85     11454\n",
            "           1       0.34      0.09      0.14      3546\n",
            "\n",
            "    accuracy                           0.74     15000\n",
            "   macro avg       0.56      0.52      0.50     15000\n",
            "weighted avg       0.67      0.74      0.68     15000\n",
            "\n",
            "Accuracy: 0.7444666666666667\n"
          ],
          "name": "stdout"
        },
        {
          "output_type": "stream",
          "text": [
            "/usr/local/lib/python3.7/dist-packages/ipykernel_launcher.py:12: DataConversionWarning: A column-vector y was passed when a 1d array was expected. Please change the shape of y to (n_samples, ), for example using ravel().\n",
            "  if sys.path[0] == '':\n"
          ],
          "name": "stderr"
        },
        {
          "output_type": "stream",
          "text": [
            "Confusion Matrix:\n",
            "[[11454     0]\n",
            " [ 3546     0]]\n",
            "Classification Report:\n",
            "              precision    recall  f1-score   support\n",
            "\n",
            "           0       0.76      1.00      0.87     11454\n",
            "           1       0.00      0.00      0.00      3546\n",
            "\n",
            "    accuracy                           0.76     15000\n",
            "   macro avg       0.38      0.50      0.43     15000\n",
            "weighted avg       0.58      0.76      0.66     15000\n",
            "\n",
            "Accuracy: 0.7636\n"
          ],
          "name": "stdout"
        },
        {
          "output_type": "stream",
          "text": [
            "/usr/local/lib/python3.7/dist-packages/sklearn/metrics/_classification.py:1272: UndefinedMetricWarning: Precision and F-score are ill-defined and being set to 0.0 in labels with no predicted samples. Use `zero_division` parameter to control this behavior.\n",
            "  _warn_prf(average, modifier, msg_start, len(result))\n",
            "/usr/local/lib/python3.7/dist-packages/ipykernel_launcher.py:12: DataConversionWarning: A column-vector y was passed when a 1d array was expected. Please change the shape of y to (n_samples, ), for example using ravel().\n",
            "  if sys.path[0] == '':\n"
          ],
          "name": "stderr"
        },
        {
          "output_type": "stream",
          "text": [
            "Confusion Matrix:\n",
            "[[11454     0]\n",
            " [ 3546     0]]\n",
            "Classification Report:\n",
            "              precision    recall  f1-score   support\n",
            "\n",
            "           0       0.76      1.00      0.87     11454\n",
            "           1       0.00      0.00      0.00      3546\n",
            "\n",
            "    accuracy                           0.76     15000\n",
            "   macro avg       0.38      0.50      0.43     15000\n",
            "weighted avg       0.58      0.76      0.66     15000\n",
            "\n",
            "Accuracy: 0.7636\n"
          ],
          "name": "stdout"
        },
        {
          "output_type": "stream",
          "text": [
            "/usr/local/lib/python3.7/dist-packages/sklearn/metrics/_classification.py:1272: UndefinedMetricWarning: Precision and F-score are ill-defined and being set to 0.0 in labels with no predicted samples. Use `zero_division` parameter to control this behavior.\n",
            "  _warn_prf(average, modifier, msg_start, len(result))\n",
            "/usr/local/lib/python3.7/dist-packages/ipykernel_launcher.py:12: DataConversionWarning: A column-vector y was passed when a 1d array was expected. Please change the shape of y to (n_samples, ), for example using ravel().\n",
            "  if sys.path[0] == '':\n"
          ],
          "name": "stderr"
        },
        {
          "output_type": "stream",
          "text": [
            "Confusion Matrix:\n",
            "[[11454     0]\n",
            " [ 3546     0]]\n",
            "Classification Report:\n",
            "              precision    recall  f1-score   support\n",
            "\n",
            "           0       0.76      1.00      0.87     11454\n",
            "           1       0.00      0.00      0.00      3546\n",
            "\n",
            "    accuracy                           0.76     15000\n",
            "   macro avg       0.38      0.50      0.43     15000\n",
            "weighted avg       0.58      0.76      0.66     15000\n",
            "\n",
            "Accuracy: 0.7636\n"
          ],
          "name": "stdout"
        },
        {
          "output_type": "stream",
          "text": [
            "/usr/local/lib/python3.7/dist-packages/sklearn/metrics/_classification.py:1272: UndefinedMetricWarning: Precision and F-score are ill-defined and being set to 0.0 in labels with no predicted samples. Use `zero_division` parameter to control this behavior.\n",
            "  _warn_prf(average, modifier, msg_start, len(result))\n",
            "/usr/local/lib/python3.7/dist-packages/ipykernel_launcher.py:12: DataConversionWarning: A column-vector y was passed when a 1d array was expected. Please change the shape of y to (n_samples, ), for example using ravel().\n",
            "  if sys.path[0] == '':\n"
          ],
          "name": "stderr"
        },
        {
          "output_type": "stream",
          "text": [
            "Confusion Matrix:\n",
            "[[11454     0]\n",
            " [ 3546     0]]\n",
            "Classification Report:\n",
            "              precision    recall  f1-score   support\n",
            "\n",
            "           0       0.76      1.00      0.87     11454\n",
            "           1       0.00      0.00      0.00      3546\n",
            "\n",
            "    accuracy                           0.76     15000\n",
            "   macro avg       0.38      0.50      0.43     15000\n",
            "weighted avg       0.58      0.76      0.66     15000\n",
            "\n",
            "Accuracy: 0.7636\n"
          ],
          "name": "stdout"
        },
        {
          "output_type": "stream",
          "text": [
            "/usr/local/lib/python3.7/dist-packages/sklearn/metrics/_classification.py:1272: UndefinedMetricWarning: Precision and F-score are ill-defined and being set to 0.0 in labels with no predicted samples. Use `zero_division` parameter to control this behavior.\n",
            "  _warn_prf(average, modifier, msg_start, len(result))\n",
            "/usr/local/lib/python3.7/dist-packages/ipykernel_launcher.py:12: DataConversionWarning: A column-vector y was passed when a 1d array was expected. Please change the shape of y to (n_samples, ), for example using ravel().\n",
            "  if sys.path[0] == '':\n"
          ],
          "name": "stderr"
        },
        {
          "output_type": "stream",
          "text": [
            "Confusion Matrix:\n",
            "[[11454     0]\n",
            " [ 3546     0]]\n",
            "Classification Report:\n",
            "              precision    recall  f1-score   support\n",
            "\n",
            "           0       0.76      1.00      0.87     11454\n",
            "           1       0.00      0.00      0.00      3546\n",
            "\n",
            "    accuracy                           0.76     15000\n",
            "   macro avg       0.38      0.50      0.43     15000\n",
            "weighted avg       0.58      0.76      0.66     15000\n",
            "\n",
            "Accuracy: 0.7636\n"
          ],
          "name": "stdout"
        },
        {
          "output_type": "stream",
          "text": [
            "/usr/local/lib/python3.7/dist-packages/sklearn/metrics/_classification.py:1272: UndefinedMetricWarning: Precision and F-score are ill-defined and being set to 0.0 in labels with no predicted samples. Use `zero_division` parameter to control this behavior.\n",
            "  _warn_prf(average, modifier, msg_start, len(result))\n",
            "/usr/local/lib/python3.7/dist-packages/ipykernel_launcher.py:12: DataConversionWarning: A column-vector y was passed when a 1d array was expected. Please change the shape of y to (n_samples, ), for example using ravel().\n",
            "  if sys.path[0] == '':\n"
          ],
          "name": "stderr"
        },
        {
          "output_type": "stream",
          "text": [
            "Confusion Matrix:\n",
            "[[11454     0]\n",
            " [ 3546     0]]\n",
            "Classification Report:\n",
            "              precision    recall  f1-score   support\n",
            "\n",
            "           0       0.76      1.00      0.87     11454\n",
            "           1       0.00      0.00      0.00      3546\n",
            "\n",
            "    accuracy                           0.76     15000\n",
            "   macro avg       0.38      0.50      0.43     15000\n",
            "weighted avg       0.58      0.76      0.66     15000\n",
            "\n",
            "Accuracy: 0.7636\n"
          ],
          "name": "stdout"
        },
        {
          "output_type": "stream",
          "text": [
            "/usr/local/lib/python3.7/dist-packages/sklearn/metrics/_classification.py:1272: UndefinedMetricWarning: Precision and F-score are ill-defined and being set to 0.0 in labels with no predicted samples. Use `zero_division` parameter to control this behavior.\n",
            "  _warn_prf(average, modifier, msg_start, len(result))\n",
            "/usr/local/lib/python3.7/dist-packages/ipykernel_launcher.py:12: DataConversionWarning: A column-vector y was passed when a 1d array was expected. Please change the shape of y to (n_samples, ), for example using ravel().\n",
            "  if sys.path[0] == '':\n"
          ],
          "name": "stderr"
        },
        {
          "output_type": "stream",
          "text": [
            "Confusion Matrix:\n",
            "[[11454     0]\n",
            " [ 3546     0]]\n",
            "Classification Report:\n",
            "              precision    recall  f1-score   support\n",
            "\n",
            "           0       0.76      1.00      0.87     11454\n",
            "           1       0.00      0.00      0.00      3546\n",
            "\n",
            "    accuracy                           0.76     15000\n",
            "   macro avg       0.38      0.50      0.43     15000\n",
            "weighted avg       0.58      0.76      0.66     15000\n",
            "\n",
            "Accuracy: 0.7636\n"
          ],
          "name": "stdout"
        },
        {
          "output_type": "stream",
          "text": [
            "/usr/local/lib/python3.7/dist-packages/sklearn/metrics/_classification.py:1272: UndefinedMetricWarning: Precision and F-score are ill-defined and being set to 0.0 in labels with no predicted samples. Use `zero_division` parameter to control this behavior.\n",
            "  _warn_prf(average, modifier, msg_start, len(result))\n"
          ],
          "name": "stderr"
        }
      ]
    },
    {
      "cell_type": "code",
      "metadata": {
        "colab": {
          "base_uri": "https://localhost:8080/"
        },
        "id": "2zSL55vL-ZsN",
        "outputId": "59f0e667-8323-4b24-e6f2-bf04603f6474"
      },
      "source": [
        "X = df[\"PAST_PURCHASE\"].values.reshape(-1,1)\n",
        "y = df[\"PURCHASE\"].values.reshape(-1,1)\n",
        "from sklearn.model_selection import train_test_split\n",
        "X_train, X_test, y_train, y_test = train_test_split(X, y, test_size = 0.10, stratify = y)\n",
        "from sklearn.ensemble import RandomForestClassifier\n",
        "classifier = RandomForestClassifier(n_estimators=750, max_depth = 8, class_weight='balanced_subsample')\n",
        "classifier.fit(X_train, y_train)\n",
        "y_pred = classifier.predict(X_test)\n",
        "from sklearn.metrics import classification_report, confusion_matrix, accuracy_score\n",
        "result = confusion_matrix(y_test, y_pred)\n",
        "print(\"Confusion Matrix:\")\n",
        "print(result)\n",
        "result1 = classification_report(y_test, y_pred)\n",
        "print(\"Classification Report:\",)\n",
        "print (result1)\n",
        "result2 = accuracy_score(y_test,y_pred)\n",
        "print(\"Accuracy:\",result2)"
      ],
      "execution_count": null,
      "outputs": [
        {
          "output_type": "stream",
          "text": [
            "/usr/local/lib/python3.7/dist-packages/ipykernel_launcher.py:7: DataConversionWarning: A column-vector y was passed when a 1d array was expected. Please change the shape of y to (n_samples,), for example using ravel().\n",
            "  import sys\n"
          ],
          "name": "stderr"
        },
        {
          "output_type": "stream",
          "text": [
            "Confusion Matrix:\n",
            "[[5822 5632]\n",
            " [1611 1935]]\n",
            "Classification Report:\n",
            "              precision    recall  f1-score   support\n",
            "\n",
            "           0       0.78      0.51      0.62     11454\n",
            "           1       0.26      0.55      0.35      3546\n",
            "\n",
            "    accuracy                           0.52     15000\n",
            "   macro avg       0.52      0.53      0.48     15000\n",
            "weighted avg       0.66      0.52      0.55     15000\n",
            "\n"
          ],
          "name": "stdout"
        },
        {
          "output_type": "stream",
          "text": [
            "/usr/local/lib/python3.7/dist-packages/ipykernel_launcher.py:23: DataConversionWarning: A column-vector y was passed when a 1d array was expected. Please change the shape of y to (n_samples,), for example using ravel().\n"
          ],
          "name": "stderr"
        },
        {
          "output_type": "stream",
          "text": [
            "Confusion Matrix:\n",
            "[[5978 5476]\n",
            " [1574 1972]]\n",
            "Classification Report:\n",
            "              precision    recall  f1-score   support\n",
            "\n",
            "           0       0.79      0.52      0.63     11454\n",
            "           1       0.26      0.56      0.36      3546\n",
            "\n",
            "    accuracy                           0.53     15000\n",
            "   macro avg       0.53      0.54      0.49     15000\n",
            "weighted avg       0.67      0.53      0.57     15000\n",
            "\n",
            "Accuracy: 0.53\n"
          ],
          "name": "stdout"
        }
      ]
    },
    {
      "cell_type": "code",
      "metadata": {
        "colab": {
          "base_uri": "https://localhost:8080/"
        },
        "id": "uxSSa4zr-Zl8",
        "outputId": "1c26819e-340f-49a7-8bc7-fed2df00e9c0"
      },
      "source": [
        "import xgboost as xgb\n",
        "X = df[\"PAST_PURCHASE\"].values.reshape(-1,1)\n",
        "y = df[\"PURCHASE\"].values.reshape(-1,1)\n",
        "data_dmatrix = xgb.DMatrix(data=X,label=y)\n",
        "params = {\"objective\":\"reg:squarederror\",'learning_rate': 0.001,'max_depth': 25}\n",
        "cv_results = xgb.cv(dtrain=data_dmatrix, params=params, nfold=3,\n",
        "                    num_boost_round=50,early_stopping_rounds=10,metrics=\"rmse\", as_pandas=True, seed=123)\n",
        "print((cv_results[\"test-rmse-mean\"]).tail(1))"
      ],
      "execution_count": null,
      "outputs": [
        {
          "output_type": "stream",
          "text": [
            "49    0.493411\n",
            "Name: test-rmse-mean, dtype: float64\n"
          ],
          "name": "stdout"
        }
      ]
    },
    {
      "cell_type": "code",
      "metadata": {
        "colab": {
          "base_uri": "https://localhost:8080/",
          "height": 261
        },
        "id": "FZw6vnSUTVfn",
        "outputId": "56e5d471-726c-4f83-fdd9-5de23ff29e5e"
      },
      "source": [
        "df.head()"
      ],
      "execution_count": 55,
      "outputs": [
        {
          "output_type": "execute_result",
          "data": {
            "text/html": [
              "<div>\n",
              "<style scoped>\n",
              "    .dataframe tbody tr th:only-of-type {\n",
              "        vertical-align: middle;\n",
              "    }\n",
              "\n",
              "    .dataframe tbody tr th {\n",
              "        vertical-align: top;\n",
              "    }\n",
              "\n",
              "    .dataframe thead th {\n",
              "        text-align: right;\n",
              "    }\n",
              "</style>\n",
              "<table border=\"1\" class=\"dataframe\">\n",
              "  <thead>\n",
              "    <tr style=\"text-align: right;\">\n",
              "      <th></th>\n",
              "      <th>AGE</th>\n",
              "      <th>CUSTOMER_SINCE</th>\n",
              "      <th>PAST_PURCHASE</th>\n",
              "      <th>PURCHASE</th>\n",
              "      <th>LOYALTY_PROGRAM_NA</th>\n",
              "      <th>LOYALTY_PROGRAM_No</th>\n",
              "      <th>LOYALTY_PROGRAM_Yes</th>\n",
              "      <th>OCCUPATION_Business</th>\n",
              "      <th>OCCUPATION_NA</th>\n",
              "      <th>OCCUPATION_Salaried</th>\n",
              "      <th>OCCUPATION_Self employed</th>\n",
              "      <th>INCOME_GROUP_High</th>\n",
              "      <th>INCOME_GROUP_Low</th>\n",
              "      <th>INCOME_GROUP_Medium</th>\n",
              "      <th>INCOME_GROUP_NA</th>\n",
              "      <th>STATE_Andaman and Nicobar Islands</th>\n",
              "      <th>STATE_Andhra Pradesh</th>\n",
              "      <th>STATE_Arunachal Pradesh</th>\n",
              "      <th>STATE_Assam</th>\n",
              "      <th>STATE_Bihar</th>\n",
              "      <th>STATE_Chandigarh</th>\n",
              "      <th>STATE_Chhattisgarh</th>\n",
              "      <th>STATE_Delhi</th>\n",
              "      <th>STATE_Goa</th>\n",
              "      <th>STATE_Gujarat</th>\n",
              "      <th>STATE_Haryana</th>\n",
              "      <th>STATE_Himachal Pradesh</th>\n",
              "      <th>STATE_Jammu and Kashmir</th>\n",
              "      <th>STATE_Jharkhand</th>\n",
              "      <th>STATE_Karnataka</th>\n",
              "      <th>STATE_Kerala</th>\n",
              "      <th>STATE_Madhya Pradesh</th>\n",
              "      <th>STATE_Maharashtra</th>\n",
              "      <th>STATE_Manipur</th>\n",
              "      <th>STATE_Meghalaya</th>\n",
              "      <th>STATE_Mizoram</th>\n",
              "      <th>STATE_NA</th>\n",
              "      <th>STATE_Nagaland</th>\n",
              "      <th>STATE_Odisha</th>\n",
              "      <th>STATE_Puducherry</th>\n",
              "      <th>STATE_Punjab</th>\n",
              "      <th>STATE_Rajasthan</th>\n",
              "      <th>STATE_Sikkim</th>\n",
              "      <th>STATE_Tamil Nadu</th>\n",
              "      <th>STATE_Telangana</th>\n",
              "      <th>STATE_Tripura</th>\n",
              "      <th>STATE_Uttar Pradesh</th>\n",
              "      <th>STATE_Uttarakhand</th>\n",
              "      <th>STATE_West Bengal</th>\n",
              "    </tr>\n",
              "  </thead>\n",
              "  <tbody>\n",
              "    <tr>\n",
              "      <th>0</th>\n",
              "      <td>-0.625000</td>\n",
              "      <td>0.2</td>\n",
              "      <td>-0.524782</td>\n",
              "      <td>0</td>\n",
              "      <td>0</td>\n",
              "      <td>1</td>\n",
              "      <td>0</td>\n",
              "      <td>0</td>\n",
              "      <td>1</td>\n",
              "      <td>0</td>\n",
              "      <td>0</td>\n",
              "      <td>0</td>\n",
              "      <td>1</td>\n",
              "      <td>0</td>\n",
              "      <td>0</td>\n",
              "      <td>0</td>\n",
              "      <td>0</td>\n",
              "      <td>0</td>\n",
              "      <td>0</td>\n",
              "      <td>0</td>\n",
              "      <td>0</td>\n",
              "      <td>0</td>\n",
              "      <td>0</td>\n",
              "      <td>0</td>\n",
              "      <td>0</td>\n",
              "      <td>0</td>\n",
              "      <td>0</td>\n",
              "      <td>0</td>\n",
              "      <td>0</td>\n",
              "      <td>0</td>\n",
              "      <td>0</td>\n",
              "      <td>0</td>\n",
              "      <td>0</td>\n",
              "      <td>0</td>\n",
              "      <td>0</td>\n",
              "      <td>0</td>\n",
              "      <td>0</td>\n",
              "      <td>0</td>\n",
              "      <td>0</td>\n",
              "      <td>0</td>\n",
              "      <td>0</td>\n",
              "      <td>0</td>\n",
              "      <td>0</td>\n",
              "      <td>0</td>\n",
              "      <td>0</td>\n",
              "      <td>0</td>\n",
              "      <td>1</td>\n",
              "      <td>0</td>\n",
              "      <td>0</td>\n",
              "    </tr>\n",
              "    <tr>\n",
              "      <th>1</th>\n",
              "      <td>-0.666667</td>\n",
              "      <td>0.2</td>\n",
              "      <td>0.251011</td>\n",
              "      <td>0</td>\n",
              "      <td>0</td>\n",
              "      <td>1</td>\n",
              "      <td>0</td>\n",
              "      <td>0</td>\n",
              "      <td>0</td>\n",
              "      <td>1</td>\n",
              "      <td>0</td>\n",
              "      <td>0</td>\n",
              "      <td>1</td>\n",
              "      <td>0</td>\n",
              "      <td>0</td>\n",
              "      <td>0</td>\n",
              "      <td>0</td>\n",
              "      <td>0</td>\n",
              "      <td>0</td>\n",
              "      <td>0</td>\n",
              "      <td>0</td>\n",
              "      <td>0</td>\n",
              "      <td>0</td>\n",
              "      <td>0</td>\n",
              "      <td>0</td>\n",
              "      <td>0</td>\n",
              "      <td>0</td>\n",
              "      <td>0</td>\n",
              "      <td>0</td>\n",
              "      <td>0</td>\n",
              "      <td>0</td>\n",
              "      <td>1</td>\n",
              "      <td>0</td>\n",
              "      <td>0</td>\n",
              "      <td>0</td>\n",
              "      <td>0</td>\n",
              "      <td>0</td>\n",
              "      <td>0</td>\n",
              "      <td>0</td>\n",
              "      <td>0</td>\n",
              "      <td>0</td>\n",
              "      <td>0</td>\n",
              "      <td>0</td>\n",
              "      <td>0</td>\n",
              "      <td>0</td>\n",
              "      <td>0</td>\n",
              "      <td>0</td>\n",
              "      <td>0</td>\n",
              "      <td>0</td>\n",
              "    </tr>\n",
              "    <tr>\n",
              "      <th>2</th>\n",
              "      <td>0.791667</td>\n",
              "      <td>-0.8</td>\n",
              "      <td>-0.041572</td>\n",
              "      <td>1</td>\n",
              "      <td>1</td>\n",
              "      <td>0</td>\n",
              "      <td>0</td>\n",
              "      <td>0</td>\n",
              "      <td>1</td>\n",
              "      <td>0</td>\n",
              "      <td>0</td>\n",
              "      <td>1</td>\n",
              "      <td>0</td>\n",
              "      <td>0</td>\n",
              "      <td>0</td>\n",
              "      <td>0</td>\n",
              "      <td>0</td>\n",
              "      <td>0</td>\n",
              "      <td>0</td>\n",
              "      <td>0</td>\n",
              "      <td>0</td>\n",
              "      <td>0</td>\n",
              "      <td>0</td>\n",
              "      <td>0</td>\n",
              "      <td>0</td>\n",
              "      <td>0</td>\n",
              "      <td>0</td>\n",
              "      <td>0</td>\n",
              "      <td>0</td>\n",
              "      <td>0</td>\n",
              "      <td>0</td>\n",
              "      <td>0</td>\n",
              "      <td>0</td>\n",
              "      <td>0</td>\n",
              "      <td>0</td>\n",
              "      <td>0</td>\n",
              "      <td>0</td>\n",
              "      <td>0</td>\n",
              "      <td>0</td>\n",
              "      <td>0</td>\n",
              "      <td>0</td>\n",
              "      <td>0</td>\n",
              "      <td>0</td>\n",
              "      <td>0</td>\n",
              "      <td>0</td>\n",
              "      <td>0</td>\n",
              "      <td>0</td>\n",
              "      <td>0</td>\n",
              "      <td>1</td>\n",
              "    </tr>\n",
              "    <tr>\n",
              "      <th>3</th>\n",
              "      <td>-0.666667</td>\n",
              "      <td>0.2</td>\n",
              "      <td>0.716724</td>\n",
              "      <td>1</td>\n",
              "      <td>0</td>\n",
              "      <td>1</td>\n",
              "      <td>0</td>\n",
              "      <td>0</td>\n",
              "      <td>0</td>\n",
              "      <td>1</td>\n",
              "      <td>0</td>\n",
              "      <td>0</td>\n",
              "      <td>1</td>\n",
              "      <td>0</td>\n",
              "      <td>0</td>\n",
              "      <td>0</td>\n",
              "      <td>0</td>\n",
              "      <td>0</td>\n",
              "      <td>0</td>\n",
              "      <td>0</td>\n",
              "      <td>0</td>\n",
              "      <td>0</td>\n",
              "      <td>0</td>\n",
              "      <td>0</td>\n",
              "      <td>0</td>\n",
              "      <td>0</td>\n",
              "      <td>0</td>\n",
              "      <td>0</td>\n",
              "      <td>0</td>\n",
              "      <td>0</td>\n",
              "      <td>0</td>\n",
              "      <td>0</td>\n",
              "      <td>0</td>\n",
              "      <td>0</td>\n",
              "      <td>0</td>\n",
              "      <td>0</td>\n",
              "      <td>0</td>\n",
              "      <td>0</td>\n",
              "      <td>0</td>\n",
              "      <td>0</td>\n",
              "      <td>0</td>\n",
              "      <td>0</td>\n",
              "      <td>0</td>\n",
              "      <td>1</td>\n",
              "      <td>0</td>\n",
              "      <td>0</td>\n",
              "      <td>0</td>\n",
              "      <td>0</td>\n",
              "      <td>0</td>\n",
              "    </tr>\n",
              "    <tr>\n",
              "      <th>4</th>\n",
              "      <td>-0.125000</td>\n",
              "      <td>-0.4</td>\n",
              "      <td>0.556751</td>\n",
              "      <td>0</td>\n",
              "      <td>0</td>\n",
              "      <td>1</td>\n",
              "      <td>0</td>\n",
              "      <td>0</td>\n",
              "      <td>0</td>\n",
              "      <td>0</td>\n",
              "      <td>1</td>\n",
              "      <td>1</td>\n",
              "      <td>0</td>\n",
              "      <td>0</td>\n",
              "      <td>0</td>\n",
              "      <td>0</td>\n",
              "      <td>0</td>\n",
              "      <td>0</td>\n",
              "      <td>0</td>\n",
              "      <td>0</td>\n",
              "      <td>0</td>\n",
              "      <td>0</td>\n",
              "      <td>0</td>\n",
              "      <td>0</td>\n",
              "      <td>0</td>\n",
              "      <td>0</td>\n",
              "      <td>0</td>\n",
              "      <td>0</td>\n",
              "      <td>0</td>\n",
              "      <td>0</td>\n",
              "      <td>0</td>\n",
              "      <td>0</td>\n",
              "      <td>0</td>\n",
              "      <td>0</td>\n",
              "      <td>0</td>\n",
              "      <td>0</td>\n",
              "      <td>0</td>\n",
              "      <td>0</td>\n",
              "      <td>0</td>\n",
              "      <td>0</td>\n",
              "      <td>0</td>\n",
              "      <td>0</td>\n",
              "      <td>0</td>\n",
              "      <td>0</td>\n",
              "      <td>0</td>\n",
              "      <td>0</td>\n",
              "      <td>1</td>\n",
              "      <td>0</td>\n",
              "      <td>0</td>\n",
              "    </tr>\n",
              "  </tbody>\n",
              "</table>\n",
              "</div>"
            ],
            "text/plain": [
              "        AGE  CUSTOMER_SINCE  ...  STATE_Uttarakhand  STATE_West Bengal\n",
              "0 -0.625000             0.2  ...                  0                  0\n",
              "1 -0.666667             0.2  ...                  0                  0\n",
              "2  0.791667            -0.8  ...                  0                  1\n",
              "3 -0.666667             0.2  ...                  0                  0\n",
              "4 -0.125000            -0.4  ...                  0                  0\n",
              "\n",
              "[5 rows x 49 columns]"
            ]
          },
          "metadata": {
            "tags": []
          },
          "execution_count": 55
        }
      ]
    },
    {
      "cell_type": "code",
      "metadata": {
        "id": "vcVNxPIuTVRu"
      },
      "source": [
        "X = df\n",
        "y = X[\"PURCHASE\"]\n",
        "X.drop([\"PURCHASE\"],axis=1,inplace=True)"
      ],
      "execution_count": 56,
      "outputs": []
    },
    {
      "cell_type": "code",
      "metadata": {
        "id": "Id-3obmETVPX"
      },
      "source": [
        "from sklearn.model_selection import train_test_split\n",
        "X_train, X_test, y_train, y_test = train_test_split(X, y, test_size = 0.20, stratify = y)"
      ],
      "execution_count": 57,
      "outputs": []
    },
    {
      "cell_type": "code",
      "metadata": {
        "id": "4NufM7e-TVNa",
        "colab": {
          "base_uri": "https://localhost:8080/",
          "height": 1000
        },
        "outputId": "fb8bb5e5-994a-4ac8-c4d1-63f23246817a"
      },
      "source": [
        "from sklearn.neighbors import KNeighborsClassifier\n",
        "for i in [40,80,60,6,7,9,11,12,15,17,18,22,65,42,50,54,40,36] :\n",
        "  classifier = KNeighborsClassifier(n_neighbors = i , weights=\"distance\" )\n",
        "  classifier.fit(X_train, y_train)\n",
        "  y_pred = classifier.predict(X_test)\n",
        "  from sklearn.metrics import classification_report, confusion_matrix, accuracy_score\n",
        "  result = confusion_matrix(y_test, y_pred)\n",
        "  print(\"Confusion Matrix:\")\n",
        "  print(result)\n",
        "  result1 = classification_report(y_test, y_pred)\n",
        "  print(\"Classification Report:\",)\n",
        "  print (result1)\n",
        "  result2 = accuracy_score(y_test,y_pred)\n",
        "  print(\"Accuracy:\",result2)"
      ],
      "execution_count": 58,
      "outputs": [
        {
          "output_type": "stream",
          "text": [
            "Confusion Matrix:\n",
            "[[21810  1097]\n",
            " [ 3435  3658]]\n",
            "Classification Report:\n",
            "              precision    recall  f1-score   support\n",
            "\n",
            "           0       0.86      0.95      0.91     22907\n",
            "           1       0.77      0.52      0.62      7093\n",
            "\n",
            "    accuracy                           0.85     30000\n",
            "   macro avg       0.82      0.73      0.76     30000\n",
            "weighted avg       0.84      0.85      0.84     30000\n",
            "\n",
            "Accuracy: 0.8489333333333333\n",
            "Confusion Matrix:\n",
            "[[22017   890]\n",
            " [ 3592  3501]]\n",
            "Classification Report:\n",
            "              precision    recall  f1-score   support\n",
            "\n",
            "           0       0.86      0.96      0.91     22907\n",
            "           1       0.80      0.49      0.61      7093\n",
            "\n",
            "    accuracy                           0.85     30000\n",
            "   macro avg       0.83      0.73      0.76     30000\n",
            "weighted avg       0.84      0.85      0.84     30000\n",
            "\n",
            "Accuracy: 0.8506\n",
            "Confusion Matrix:\n",
            "[[21951   956]\n",
            " [ 3531  3562]]\n",
            "Classification Report:\n",
            "              precision    recall  f1-score   support\n",
            "\n",
            "           0       0.86      0.96      0.91     22907\n",
            "           1       0.79      0.50      0.61      7093\n",
            "\n",
            "    accuracy                           0.85     30000\n",
            "   macro avg       0.82      0.73      0.76     30000\n",
            "weighted avg       0.84      0.85      0.84     30000\n",
            "\n",
            "Accuracy: 0.8504333333333334\n",
            "Confusion Matrix:\n",
            "[[20985  1922]\n",
            " [ 3140  3953]]\n",
            "Classification Report:\n",
            "              precision    recall  f1-score   support\n",
            "\n",
            "           0       0.87      0.92      0.89     22907\n",
            "           1       0.67      0.56      0.61      7093\n",
            "\n",
            "    accuracy                           0.83     30000\n",
            "   macro avg       0.77      0.74      0.75     30000\n",
            "weighted avg       0.82      0.83      0.83     30000\n",
            "\n",
            "Accuracy: 0.8312666666666667\n",
            "Confusion Matrix:\n",
            "[[21088  1819]\n",
            " [ 3151  3942]]\n",
            "Classification Report:\n",
            "              precision    recall  f1-score   support\n",
            "\n",
            "           0       0.87      0.92      0.89     22907\n",
            "           1       0.68      0.56      0.61      7093\n",
            "\n",
            "    accuracy                           0.83     30000\n",
            "   macro avg       0.78      0.74      0.75     30000\n",
            "weighted avg       0.83      0.83      0.83     30000\n",
            "\n",
            "Accuracy: 0.8343333333333334\n",
            "Confusion Matrix:\n",
            "[[21226  1681]\n",
            " [ 3183  3910]]\n",
            "Classification Report:\n",
            "              precision    recall  f1-score   support\n",
            "\n",
            "           0       0.87      0.93      0.90     22907\n",
            "           1       0.70      0.55      0.62      7093\n",
            "\n",
            "    accuracy                           0.84     30000\n",
            "   macro avg       0.78      0.74      0.76     30000\n",
            "weighted avg       0.83      0.84      0.83     30000\n",
            "\n",
            "Accuracy: 0.8378666666666666\n",
            "Confusion Matrix:\n",
            "[[21324  1583]\n",
            " [ 3207  3886]]\n",
            "Classification Report:\n",
            "              precision    recall  f1-score   support\n",
            "\n",
            "           0       0.87      0.93      0.90     22907\n",
            "           1       0.71      0.55      0.62      7093\n",
            "\n",
            "    accuracy                           0.84     30000\n",
            "   macro avg       0.79      0.74      0.76     30000\n",
            "weighted avg       0.83      0.84      0.83     30000\n",
            "\n",
            "Accuracy: 0.8403333333333334\n",
            "Confusion Matrix:\n",
            "[[21340  1567]\n",
            " [ 3207  3886]]\n",
            "Classification Report:\n",
            "              precision    recall  f1-score   support\n",
            "\n",
            "           0       0.87      0.93      0.90     22907\n",
            "           1       0.71      0.55      0.62      7093\n",
            "\n",
            "    accuracy                           0.84     30000\n",
            "   macro avg       0.79      0.74      0.76     30000\n",
            "weighted avg       0.83      0.84      0.83     30000\n",
            "\n",
            "Accuracy: 0.8408666666666667\n",
            "Confusion Matrix:\n",
            "[[21464  1443]\n",
            " [ 3247  3846]]\n",
            "Classification Report:\n",
            "              precision    recall  f1-score   support\n",
            "\n",
            "           0       0.87      0.94      0.90     22907\n",
            "           1       0.73      0.54      0.62      7093\n",
            "\n",
            "    accuracy                           0.84     30000\n",
            "   macro avg       0.80      0.74      0.76     30000\n",
            "weighted avg       0.84      0.84      0.84     30000\n",
            "\n",
            "Accuracy: 0.8436666666666667\n",
            "Confusion Matrix:\n",
            "[[21514  1393]\n",
            " [ 3273  3820]]\n",
            "Classification Report:\n",
            "              precision    recall  f1-score   support\n",
            "\n",
            "           0       0.87      0.94      0.90     22907\n",
            "           1       0.73      0.54      0.62      7093\n",
            "\n",
            "    accuracy                           0.84     30000\n",
            "   macro avg       0.80      0.74      0.76     30000\n",
            "weighted avg       0.84      0.84      0.84     30000\n",
            "\n",
            "Accuracy: 0.8444666666666667\n",
            "Confusion Matrix:\n",
            "[[21517  1390]\n",
            " [ 3283  3810]]\n",
            "Classification Report:\n",
            "              precision    recall  f1-score   support\n",
            "\n",
            "           0       0.87      0.94      0.90     22907\n",
            "           1       0.73      0.54      0.62      7093\n",
            "\n",
            "    accuracy                           0.84     30000\n",
            "   macro avg       0.80      0.74      0.76     30000\n",
            "weighted avg       0.84      0.84      0.84     30000\n",
            "\n",
            "Accuracy: 0.8442333333333333\n"
          ],
          "name": "stdout"
        },
        {
          "output_type": "error",
          "ename": "KeyboardInterrupt",
          "evalue": "ignored",
          "traceback": [
            "\u001b[0;31m---------------------------------------------------------------------------\u001b[0m",
            "\u001b[0;31mKeyboardInterrupt\u001b[0m                         Traceback (most recent call last)",
            "\u001b[0;32m<ipython-input-58-7af2f1d9e228>\u001b[0m in \u001b[0;36m<module>\u001b[0;34m()\u001b[0m\n\u001b[1;32m      3\u001b[0m   \u001b[0mclassifier\u001b[0m \u001b[0;34m=\u001b[0m \u001b[0mKNeighborsClassifier\u001b[0m\u001b[0;34m(\u001b[0m\u001b[0mn_neighbors\u001b[0m \u001b[0;34m=\u001b[0m \u001b[0mi\u001b[0m \u001b[0;34m,\u001b[0m \u001b[0mweights\u001b[0m\u001b[0;34m=\u001b[0m\u001b[0;34m\"distance\"\u001b[0m \u001b[0;34m)\u001b[0m\u001b[0;34m\u001b[0m\u001b[0;34m\u001b[0m\u001b[0m\n\u001b[1;32m      4\u001b[0m   \u001b[0mclassifier\u001b[0m\u001b[0;34m.\u001b[0m\u001b[0mfit\u001b[0m\u001b[0;34m(\u001b[0m\u001b[0mX_train\u001b[0m\u001b[0;34m,\u001b[0m \u001b[0my_train\u001b[0m\u001b[0;34m)\u001b[0m\u001b[0;34m\u001b[0m\u001b[0;34m\u001b[0m\u001b[0m\n\u001b[0;32m----> 5\u001b[0;31m   \u001b[0my_pred\u001b[0m \u001b[0;34m=\u001b[0m \u001b[0mclassifier\u001b[0m\u001b[0;34m.\u001b[0m\u001b[0mpredict\u001b[0m\u001b[0;34m(\u001b[0m\u001b[0mX_test\u001b[0m\u001b[0;34m)\u001b[0m\u001b[0;34m\u001b[0m\u001b[0;34m\u001b[0m\u001b[0m\n\u001b[0m\u001b[1;32m      6\u001b[0m   \u001b[0;32mfrom\u001b[0m \u001b[0msklearn\u001b[0m\u001b[0;34m.\u001b[0m\u001b[0mmetrics\u001b[0m \u001b[0;32mimport\u001b[0m \u001b[0mclassification_report\u001b[0m\u001b[0;34m,\u001b[0m \u001b[0mconfusion_matrix\u001b[0m\u001b[0;34m,\u001b[0m \u001b[0maccuracy_score\u001b[0m\u001b[0;34m\u001b[0m\u001b[0;34m\u001b[0m\u001b[0m\n\u001b[1;32m      7\u001b[0m   \u001b[0mresult\u001b[0m \u001b[0;34m=\u001b[0m \u001b[0mconfusion_matrix\u001b[0m\u001b[0;34m(\u001b[0m\u001b[0my_test\u001b[0m\u001b[0;34m,\u001b[0m \u001b[0my_pred\u001b[0m\u001b[0;34m)\u001b[0m\u001b[0;34m\u001b[0m\u001b[0;34m\u001b[0m\u001b[0m\n",
            "\u001b[0;32m/usr/local/lib/python3.7/dist-packages/sklearn/neighbors/_classification.py\u001b[0m in \u001b[0;36mpredict\u001b[0;34m(self, X)\u001b[0m\n\u001b[1;32m    171\u001b[0m         \u001b[0mX\u001b[0m \u001b[0;34m=\u001b[0m \u001b[0mcheck_array\u001b[0m\u001b[0;34m(\u001b[0m\u001b[0mX\u001b[0m\u001b[0;34m,\u001b[0m \u001b[0maccept_sparse\u001b[0m\u001b[0;34m=\u001b[0m\u001b[0;34m'csr'\u001b[0m\u001b[0;34m)\u001b[0m\u001b[0;34m\u001b[0m\u001b[0;34m\u001b[0m\u001b[0m\n\u001b[1;32m    172\u001b[0m \u001b[0;34m\u001b[0m\u001b[0m\n\u001b[0;32m--> 173\u001b[0;31m         \u001b[0mneigh_dist\u001b[0m\u001b[0;34m,\u001b[0m \u001b[0mneigh_ind\u001b[0m \u001b[0;34m=\u001b[0m \u001b[0mself\u001b[0m\u001b[0;34m.\u001b[0m\u001b[0mkneighbors\u001b[0m\u001b[0;34m(\u001b[0m\u001b[0mX\u001b[0m\u001b[0;34m)\u001b[0m\u001b[0;34m\u001b[0m\u001b[0;34m\u001b[0m\u001b[0m\n\u001b[0m\u001b[1;32m    174\u001b[0m         \u001b[0mclasses_\u001b[0m \u001b[0;34m=\u001b[0m \u001b[0mself\u001b[0m\u001b[0;34m.\u001b[0m\u001b[0mclasses_\u001b[0m\u001b[0;34m\u001b[0m\u001b[0;34m\u001b[0m\u001b[0m\n\u001b[1;32m    175\u001b[0m         \u001b[0m_y\u001b[0m \u001b[0;34m=\u001b[0m \u001b[0mself\u001b[0m\u001b[0;34m.\u001b[0m\u001b[0m_y\u001b[0m\u001b[0;34m\u001b[0m\u001b[0;34m\u001b[0m\u001b[0m\n",
            "\u001b[0;32m/usr/local/lib/python3.7/dist-packages/sklearn/neighbors/_base.py\u001b[0m in \u001b[0;36mkneighbors\u001b[0;34m(self, X, n_neighbors, return_distance)\u001b[0m\n\u001b[1;32m    662\u001b[0m                 delayed_query(\n\u001b[1;32m    663\u001b[0m                     self._tree, X[s], n_neighbors, return_distance)\n\u001b[0;32m--> 664\u001b[0;31m                 \u001b[0;32mfor\u001b[0m \u001b[0ms\u001b[0m \u001b[0;32min\u001b[0m \u001b[0mgen_even_slices\u001b[0m\u001b[0;34m(\u001b[0m\u001b[0mX\u001b[0m\u001b[0;34m.\u001b[0m\u001b[0mshape\u001b[0m\u001b[0;34m[\u001b[0m\u001b[0;36m0\u001b[0m\u001b[0;34m]\u001b[0m\u001b[0;34m,\u001b[0m \u001b[0mn_jobs\u001b[0m\u001b[0;34m)\u001b[0m\u001b[0;34m\u001b[0m\u001b[0;34m\u001b[0m\u001b[0m\n\u001b[0m\u001b[1;32m    665\u001b[0m             )\n\u001b[1;32m    666\u001b[0m         \u001b[0;32melse\u001b[0m\u001b[0;34m:\u001b[0m\u001b[0;34m\u001b[0m\u001b[0;34m\u001b[0m\u001b[0m\n",
            "\u001b[0;32m/usr/local/lib/python3.7/dist-packages/joblib/parallel.py\u001b[0m in \u001b[0;36m__call__\u001b[0;34m(self, iterable)\u001b[0m\n\u001b[1;32m   1039\u001b[0m             \u001b[0;31m# remaining jobs.\u001b[0m\u001b[0;34m\u001b[0m\u001b[0;34m\u001b[0m\u001b[0;34m\u001b[0m\u001b[0m\n\u001b[1;32m   1040\u001b[0m             \u001b[0mself\u001b[0m\u001b[0;34m.\u001b[0m\u001b[0m_iterating\u001b[0m \u001b[0;34m=\u001b[0m \u001b[0;32mFalse\u001b[0m\u001b[0;34m\u001b[0m\u001b[0;34m\u001b[0m\u001b[0m\n\u001b[0;32m-> 1041\u001b[0;31m             \u001b[0;32mif\u001b[0m \u001b[0mself\u001b[0m\u001b[0;34m.\u001b[0m\u001b[0mdispatch_one_batch\u001b[0m\u001b[0;34m(\u001b[0m\u001b[0miterator\u001b[0m\u001b[0;34m)\u001b[0m\u001b[0;34m:\u001b[0m\u001b[0;34m\u001b[0m\u001b[0;34m\u001b[0m\u001b[0m\n\u001b[0m\u001b[1;32m   1042\u001b[0m                 \u001b[0mself\u001b[0m\u001b[0;34m.\u001b[0m\u001b[0m_iterating\u001b[0m \u001b[0;34m=\u001b[0m \u001b[0mself\u001b[0m\u001b[0;34m.\u001b[0m\u001b[0m_original_iterator\u001b[0m \u001b[0;32mis\u001b[0m \u001b[0;32mnot\u001b[0m \u001b[0;32mNone\u001b[0m\u001b[0;34m\u001b[0m\u001b[0;34m\u001b[0m\u001b[0m\n\u001b[1;32m   1043\u001b[0m \u001b[0;34m\u001b[0m\u001b[0m\n",
            "\u001b[0;32m/usr/local/lib/python3.7/dist-packages/joblib/parallel.py\u001b[0m in \u001b[0;36mdispatch_one_batch\u001b[0;34m(self, iterator)\u001b[0m\n\u001b[1;32m    857\u001b[0m                 \u001b[0;32mreturn\u001b[0m \u001b[0;32mFalse\u001b[0m\u001b[0;34m\u001b[0m\u001b[0;34m\u001b[0m\u001b[0m\n\u001b[1;32m    858\u001b[0m             \u001b[0;32melse\u001b[0m\u001b[0;34m:\u001b[0m\u001b[0;34m\u001b[0m\u001b[0;34m\u001b[0m\u001b[0m\n\u001b[0;32m--> 859\u001b[0;31m                 \u001b[0mself\u001b[0m\u001b[0;34m.\u001b[0m\u001b[0m_dispatch\u001b[0m\u001b[0;34m(\u001b[0m\u001b[0mtasks\u001b[0m\u001b[0;34m)\u001b[0m\u001b[0;34m\u001b[0m\u001b[0;34m\u001b[0m\u001b[0m\n\u001b[0m\u001b[1;32m    860\u001b[0m                 \u001b[0;32mreturn\u001b[0m \u001b[0;32mTrue\u001b[0m\u001b[0;34m\u001b[0m\u001b[0;34m\u001b[0m\u001b[0m\n\u001b[1;32m    861\u001b[0m \u001b[0;34m\u001b[0m\u001b[0m\n",
            "\u001b[0;32m/usr/local/lib/python3.7/dist-packages/joblib/parallel.py\u001b[0m in \u001b[0;36m_dispatch\u001b[0;34m(self, batch)\u001b[0m\n\u001b[1;32m    775\u001b[0m         \u001b[0;32mwith\u001b[0m \u001b[0mself\u001b[0m\u001b[0;34m.\u001b[0m\u001b[0m_lock\u001b[0m\u001b[0;34m:\u001b[0m\u001b[0;34m\u001b[0m\u001b[0;34m\u001b[0m\u001b[0m\n\u001b[1;32m    776\u001b[0m             \u001b[0mjob_idx\u001b[0m \u001b[0;34m=\u001b[0m \u001b[0mlen\u001b[0m\u001b[0;34m(\u001b[0m\u001b[0mself\u001b[0m\u001b[0;34m.\u001b[0m\u001b[0m_jobs\u001b[0m\u001b[0;34m)\u001b[0m\u001b[0;34m\u001b[0m\u001b[0;34m\u001b[0m\u001b[0m\n\u001b[0;32m--> 777\u001b[0;31m             \u001b[0mjob\u001b[0m \u001b[0;34m=\u001b[0m \u001b[0mself\u001b[0m\u001b[0;34m.\u001b[0m\u001b[0m_backend\u001b[0m\u001b[0;34m.\u001b[0m\u001b[0mapply_async\u001b[0m\u001b[0;34m(\u001b[0m\u001b[0mbatch\u001b[0m\u001b[0;34m,\u001b[0m \u001b[0mcallback\u001b[0m\u001b[0;34m=\u001b[0m\u001b[0mcb\u001b[0m\u001b[0;34m)\u001b[0m\u001b[0;34m\u001b[0m\u001b[0;34m\u001b[0m\u001b[0m\n\u001b[0m\u001b[1;32m    778\u001b[0m             \u001b[0;31m# A job can complete so quickly than its callback is\u001b[0m\u001b[0;34m\u001b[0m\u001b[0;34m\u001b[0m\u001b[0;34m\u001b[0m\u001b[0m\n\u001b[1;32m    779\u001b[0m             \u001b[0;31m# called before we get here, causing self._jobs to\u001b[0m\u001b[0;34m\u001b[0m\u001b[0;34m\u001b[0m\u001b[0;34m\u001b[0m\u001b[0m\n",
            "\u001b[0;32m/usr/local/lib/python3.7/dist-packages/joblib/_parallel_backends.py\u001b[0m in \u001b[0;36mapply_async\u001b[0;34m(self, func, callback)\u001b[0m\n\u001b[1;32m    206\u001b[0m     \u001b[0;32mdef\u001b[0m \u001b[0mapply_async\u001b[0m\u001b[0;34m(\u001b[0m\u001b[0mself\u001b[0m\u001b[0;34m,\u001b[0m \u001b[0mfunc\u001b[0m\u001b[0;34m,\u001b[0m \u001b[0mcallback\u001b[0m\u001b[0;34m=\u001b[0m\u001b[0;32mNone\u001b[0m\u001b[0;34m)\u001b[0m\u001b[0;34m:\u001b[0m\u001b[0;34m\u001b[0m\u001b[0;34m\u001b[0m\u001b[0m\n\u001b[1;32m    207\u001b[0m         \u001b[0;34m\"\"\"Schedule a func to be run\"\"\"\u001b[0m\u001b[0;34m\u001b[0m\u001b[0;34m\u001b[0m\u001b[0m\n\u001b[0;32m--> 208\u001b[0;31m         \u001b[0mresult\u001b[0m \u001b[0;34m=\u001b[0m \u001b[0mImmediateResult\u001b[0m\u001b[0;34m(\u001b[0m\u001b[0mfunc\u001b[0m\u001b[0;34m)\u001b[0m\u001b[0;34m\u001b[0m\u001b[0;34m\u001b[0m\u001b[0m\n\u001b[0m\u001b[1;32m    209\u001b[0m         \u001b[0;32mif\u001b[0m \u001b[0mcallback\u001b[0m\u001b[0;34m:\u001b[0m\u001b[0;34m\u001b[0m\u001b[0;34m\u001b[0m\u001b[0m\n\u001b[1;32m    210\u001b[0m             \u001b[0mcallback\u001b[0m\u001b[0;34m(\u001b[0m\u001b[0mresult\u001b[0m\u001b[0;34m)\u001b[0m\u001b[0;34m\u001b[0m\u001b[0;34m\u001b[0m\u001b[0m\n",
            "\u001b[0;32m/usr/local/lib/python3.7/dist-packages/joblib/_parallel_backends.py\u001b[0m in \u001b[0;36m__init__\u001b[0;34m(self, batch)\u001b[0m\n\u001b[1;32m    570\u001b[0m         \u001b[0;31m# Don't delay the application, to avoid keeping the input\u001b[0m\u001b[0;34m\u001b[0m\u001b[0;34m\u001b[0m\u001b[0;34m\u001b[0m\u001b[0m\n\u001b[1;32m    571\u001b[0m         \u001b[0;31m# arguments in memory\u001b[0m\u001b[0;34m\u001b[0m\u001b[0;34m\u001b[0m\u001b[0;34m\u001b[0m\u001b[0m\n\u001b[0;32m--> 572\u001b[0;31m         \u001b[0mself\u001b[0m\u001b[0;34m.\u001b[0m\u001b[0mresults\u001b[0m \u001b[0;34m=\u001b[0m \u001b[0mbatch\u001b[0m\u001b[0;34m(\u001b[0m\u001b[0;34m)\u001b[0m\u001b[0;34m\u001b[0m\u001b[0;34m\u001b[0m\u001b[0m\n\u001b[0m\u001b[1;32m    573\u001b[0m \u001b[0;34m\u001b[0m\u001b[0m\n\u001b[1;32m    574\u001b[0m     \u001b[0;32mdef\u001b[0m \u001b[0mget\u001b[0m\u001b[0;34m(\u001b[0m\u001b[0mself\u001b[0m\u001b[0;34m)\u001b[0m\u001b[0;34m:\u001b[0m\u001b[0;34m\u001b[0m\u001b[0;34m\u001b[0m\u001b[0m\n",
            "\u001b[0;32m/usr/local/lib/python3.7/dist-packages/joblib/parallel.py\u001b[0m in \u001b[0;36m__call__\u001b[0;34m(self)\u001b[0m\n\u001b[1;32m    261\u001b[0m         \u001b[0;32mwith\u001b[0m \u001b[0mparallel_backend\u001b[0m\u001b[0;34m(\u001b[0m\u001b[0mself\u001b[0m\u001b[0;34m.\u001b[0m\u001b[0m_backend\u001b[0m\u001b[0;34m,\u001b[0m \u001b[0mn_jobs\u001b[0m\u001b[0;34m=\u001b[0m\u001b[0mself\u001b[0m\u001b[0;34m.\u001b[0m\u001b[0m_n_jobs\u001b[0m\u001b[0;34m)\u001b[0m\u001b[0;34m:\u001b[0m\u001b[0;34m\u001b[0m\u001b[0;34m\u001b[0m\u001b[0m\n\u001b[1;32m    262\u001b[0m             return [func(*args, **kwargs)\n\u001b[0;32m--> 263\u001b[0;31m                     for func, args, kwargs in self.items]\n\u001b[0m\u001b[1;32m    264\u001b[0m \u001b[0;34m\u001b[0m\u001b[0m\n\u001b[1;32m    265\u001b[0m     \u001b[0;32mdef\u001b[0m \u001b[0m__reduce__\u001b[0m\u001b[0;34m(\u001b[0m\u001b[0mself\u001b[0m\u001b[0;34m)\u001b[0m\u001b[0;34m:\u001b[0m\u001b[0;34m\u001b[0m\u001b[0;34m\u001b[0m\u001b[0m\n",
            "\u001b[0;32m/usr/local/lib/python3.7/dist-packages/joblib/parallel.py\u001b[0m in \u001b[0;36m<listcomp>\u001b[0;34m(.0)\u001b[0m\n\u001b[1;32m    261\u001b[0m         \u001b[0;32mwith\u001b[0m \u001b[0mparallel_backend\u001b[0m\u001b[0;34m(\u001b[0m\u001b[0mself\u001b[0m\u001b[0;34m.\u001b[0m\u001b[0m_backend\u001b[0m\u001b[0;34m,\u001b[0m \u001b[0mn_jobs\u001b[0m\u001b[0;34m=\u001b[0m\u001b[0mself\u001b[0m\u001b[0;34m.\u001b[0m\u001b[0m_n_jobs\u001b[0m\u001b[0;34m)\u001b[0m\u001b[0;34m:\u001b[0m\u001b[0;34m\u001b[0m\u001b[0;34m\u001b[0m\u001b[0m\n\u001b[1;32m    262\u001b[0m             return [func(*args, **kwargs)\n\u001b[0;32m--> 263\u001b[0;31m                     for func, args, kwargs in self.items]\n\u001b[0m\u001b[1;32m    264\u001b[0m \u001b[0;34m\u001b[0m\u001b[0m\n\u001b[1;32m    265\u001b[0m     \u001b[0;32mdef\u001b[0m \u001b[0m__reduce__\u001b[0m\u001b[0;34m(\u001b[0m\u001b[0mself\u001b[0m\u001b[0;34m)\u001b[0m\u001b[0;34m:\u001b[0m\u001b[0;34m\u001b[0m\u001b[0;34m\u001b[0m\u001b[0m\n",
            "\u001b[0;32m/usr/local/lib/python3.7/dist-packages/sklearn/neighbors/_base.py\u001b[0m in \u001b[0;36m_tree_query_parallel_helper\u001b[0;34m(tree, *args, **kwargs)\u001b[0m\n\u001b[1;32m    489\u001b[0m     \u001b[0munder\u001b[0m \u001b[0mPyPy\u001b[0m\u001b[0;34m.\u001b[0m\u001b[0;34m\u001b[0m\u001b[0;34m\u001b[0m\u001b[0m\n\u001b[1;32m    490\u001b[0m     \"\"\"\n\u001b[0;32m--> 491\u001b[0;31m     \u001b[0;32mreturn\u001b[0m \u001b[0mtree\u001b[0m\u001b[0;34m.\u001b[0m\u001b[0mquery\u001b[0m\u001b[0;34m(\u001b[0m\u001b[0;34m*\u001b[0m\u001b[0margs\u001b[0m\u001b[0;34m,\u001b[0m \u001b[0;34m**\u001b[0m\u001b[0mkwargs\u001b[0m\u001b[0;34m)\u001b[0m\u001b[0;34m\u001b[0m\u001b[0;34m\u001b[0m\u001b[0m\n\u001b[0m\u001b[1;32m    492\u001b[0m \u001b[0;34m\u001b[0m\u001b[0m\n\u001b[1;32m    493\u001b[0m \u001b[0;34m\u001b[0m\u001b[0m\n",
            "\u001b[0;31mKeyboardInterrupt\u001b[0m: "
          ]
        }
      ]
    },
    {
      "cell_type": "code",
      "metadata": {
        "id": "jT2Pp8K844zS"
      },
      "source": [
        "from sklearn.ensemble import RandomForestClassifier\n",
        "classifier = RandomForestClassifier(n_estimators=750, max_depth = 8, class_weight='balanced_subsample')\n",
        "classifier.fit(X_train, y_train)\n",
        "y_pred = classifier.predict(X_test)\n",
        "from sklearn.metrics import classification_report, confusion_matrix, accuracy_score\n",
        "result = confusion_matrix(y_test, y_pred)\n",
        "print(\"Confusion Matrix:\")\n",
        "print(result)\n",
        "result1 = classification_report(y_test, y_pred)\n",
        "print(\"Classification Report:\",)\n",
        "print (result1)\n",
        "result2 = accuracy_score(y_test,y_pred)\n",
        "print(\"Accuracy:\",result2)"
      ],
      "execution_count": null,
      "outputs": []
    },
    {
      "cell_type": "code",
      "metadata": {
        "id": "0KlKA7Qt5E5H"
      },
      "source": [
        "from keras.models import Model\n",
        "from keras.layers import Dense, Bidirectional, CuDNNGRU, GlobalMaxPool1D, Input, Dropout\n",
        "from keras.optimizers import Adam"
      ],
      "execution_count": 59,
      "outputs": []
    },
    {
      "cell_type": "code",
      "metadata": {
        "colab": {
          "base_uri": "https://localhost:8080/"
        },
        "id": "Ro3wU-lW5E3B",
        "outputId": "cba8dc48-694d-4b52-cc87-f4e2fd57b9e1"
      },
      "source": [
        "pip install tensorflow-addons"
      ],
      "execution_count": 60,
      "outputs": [
        {
          "output_type": "stream",
          "text": [
            "Collecting tensorflow-addons\n",
            "\u001b[?25l  Downloading https://files.pythonhosted.org/packages/66/4b/e893d194e626c24b3df2253066aa418f46a432fdb68250cde14bf9bb0700/tensorflow_addons-0.13.0-cp37-cp37m-manylinux2010_x86_64.whl (679kB)\n",
            "\r\u001b[K     |▌                               | 10kB 12.2MB/s eta 0:00:01\r\u001b[K     |█                               | 20kB 16.4MB/s eta 0:00:01\r\u001b[K     |█▌                              | 30kB 20.2MB/s eta 0:00:01\r\u001b[K     |██                              | 40kB 20.5MB/s eta 0:00:01\r\u001b[K     |██▍                             | 51kB 21.7MB/s eta 0:00:01\r\u001b[K     |███                             | 61kB 23.2MB/s eta 0:00:01\r\u001b[K     |███▍                            | 71kB 24.6MB/s eta 0:00:01\r\u001b[K     |███▉                            | 81kB 25.6MB/s eta 0:00:01\r\u001b[K     |████▍                           | 92kB 21.6MB/s eta 0:00:01\r\u001b[K     |████▉                           | 102kB 22.7MB/s eta 0:00:01\r\u001b[K     |█████▎                          | 112kB 22.7MB/s eta 0:00:01\r\u001b[K     |█████▉                          | 122kB 22.7MB/s eta 0:00:01\r\u001b[K     |██████▎                         | 133kB 22.7MB/s eta 0:00:01\r\u001b[K     |██████▊                         | 143kB 22.7MB/s eta 0:00:01\r\u001b[K     |███████▎                        | 153kB 22.7MB/s eta 0:00:01\r\u001b[K     |███████▊                        | 163kB 22.7MB/s eta 0:00:01\r\u001b[K     |████████▏                       | 174kB 22.7MB/s eta 0:00:01\r\u001b[K     |████████▊                       | 184kB 22.7MB/s eta 0:00:01\r\u001b[K     |█████████▏                      | 194kB 22.7MB/s eta 0:00:01\r\u001b[K     |█████████▋                      | 204kB 22.7MB/s eta 0:00:01\r\u001b[K     |██████████▏                     | 215kB 22.7MB/s eta 0:00:01\r\u001b[K     |██████████▋                     | 225kB 22.7MB/s eta 0:00:01\r\u001b[K     |███████████                     | 235kB 22.7MB/s eta 0:00:01\r\u001b[K     |███████████▋                    | 245kB 22.7MB/s eta 0:00:01\r\u001b[K     |████████████                    | 256kB 22.7MB/s eta 0:00:01\r\u001b[K     |████████████▌                   | 266kB 22.7MB/s eta 0:00:01\r\u001b[K     |█████████████                   | 276kB 22.7MB/s eta 0:00:01\r\u001b[K     |█████████████▌                  | 286kB 22.7MB/s eta 0:00:01\r\u001b[K     |██████████████                  | 296kB 22.7MB/s eta 0:00:01\r\u001b[K     |██████████████▌                 | 307kB 22.7MB/s eta 0:00:01\r\u001b[K     |███████████████                 | 317kB 22.7MB/s eta 0:00:01\r\u001b[K     |███████████████▍                | 327kB 22.7MB/s eta 0:00:01\r\u001b[K     |████████████████                | 337kB 22.7MB/s eta 0:00:01\r\u001b[K     |████████████████▍               | 348kB 22.7MB/s eta 0:00:01\r\u001b[K     |████████████████▉               | 358kB 22.7MB/s eta 0:00:01\r\u001b[K     |█████████████████▍              | 368kB 22.7MB/s eta 0:00:01\r\u001b[K     |█████████████████▉              | 378kB 22.7MB/s eta 0:00:01\r\u001b[K     |██████████████████▎             | 389kB 22.7MB/s eta 0:00:01\r\u001b[K     |██████████████████▉             | 399kB 22.7MB/s eta 0:00:01\r\u001b[K     |███████████████████▎            | 409kB 22.7MB/s eta 0:00:01\r\u001b[K     |███████████████████▊            | 419kB 22.7MB/s eta 0:00:01\r\u001b[K     |████████████████████▎           | 430kB 22.7MB/s eta 0:00:01\r\u001b[K     |████████████████████▊           | 440kB 22.7MB/s eta 0:00:01\r\u001b[K     |█████████████████████▏          | 450kB 22.7MB/s eta 0:00:01\r\u001b[K     |█████████████████████▊          | 460kB 22.7MB/s eta 0:00:01\r\u001b[K     |██████████████████████▏         | 471kB 22.7MB/s eta 0:00:01\r\u001b[K     |██████████████████████▋         | 481kB 22.7MB/s eta 0:00:01\r\u001b[K     |███████████████████████▏        | 491kB 22.7MB/s eta 0:00:01\r\u001b[K     |███████████████████████▋        | 501kB 22.7MB/s eta 0:00:01\r\u001b[K     |████████████████████████        | 512kB 22.7MB/s eta 0:00:01\r\u001b[K     |████████████████████████▋       | 522kB 22.7MB/s eta 0:00:01\r\u001b[K     |█████████████████████████       | 532kB 22.7MB/s eta 0:00:01\r\u001b[K     |█████████████████████████▌      | 542kB 22.7MB/s eta 0:00:01\r\u001b[K     |██████████████████████████      | 552kB 22.7MB/s eta 0:00:01\r\u001b[K     |██████████████████████████▌     | 563kB 22.7MB/s eta 0:00:01\r\u001b[K     |███████████████████████████     | 573kB 22.7MB/s eta 0:00:01\r\u001b[K     |███████████████████████████▌    | 583kB 22.7MB/s eta 0:00:01\r\u001b[K     |████████████████████████████    | 593kB 22.7MB/s eta 0:00:01\r\u001b[K     |████████████████████████████▍   | 604kB 22.7MB/s eta 0:00:01\r\u001b[K     |█████████████████████████████   | 614kB 22.7MB/s eta 0:00:01\r\u001b[K     |█████████████████████████████▍  | 624kB 22.7MB/s eta 0:00:01\r\u001b[K     |█████████████████████████████▉  | 634kB 22.7MB/s eta 0:00:01\r\u001b[K     |██████████████████████████████▍ | 645kB 22.7MB/s eta 0:00:01\r\u001b[K     |██████████████████████████████▉ | 655kB 22.7MB/s eta 0:00:01\r\u001b[K     |███████████████████████████████▎| 665kB 22.7MB/s eta 0:00:01\r\u001b[K     |███████████████████████████████▉| 675kB 22.7MB/s eta 0:00:01\r\u001b[K     |████████████████████████████████| 686kB 22.7MB/s \n",
            "\u001b[?25hRequirement already satisfied: typeguard>=2.7 in /usr/local/lib/python3.7/dist-packages (from tensorflow-addons) (2.7.1)\n",
            "Installing collected packages: tensorflow-addons\n",
            "Successfully installed tensorflow-addons-0.13.0\n"
          ],
          "name": "stdout"
        }
      ]
    },
    {
      "cell_type": "code",
      "metadata": {
        "id": "uhkv-z665E0j"
      },
      "source": [
        "import tensorflow as tf\n",
        "import tensorflow_addons as tfa"
      ],
      "execution_count": 61,
      "outputs": []
    },
    {
      "cell_type": "code",
      "metadata": {
        "id": "zwKUu0eM5EyV"
      },
      "source": [
        "model = tf.keras.models.Sequential()\n",
        "model.add(tf.keras.layers.Dense(200, activation=\"LeakyReLU\"))\n",
        "model.add(tf.keras.layers.BatchNormalization())\n",
        "model.add(tf.keras.layers.Dense(300, activation=\"LeakyReLU\"))\n",
        "model.add(tf.keras.layers.BatchNormalization())\n",
        "model.add(tf.keras.layers.Dense(200, activation=\"LeakyReLU\"))\n",
        "model.add(tf.keras.layers.BatchNormalization())\n",
        "model.add(tf.keras.layers.Dense(100, activation=\"LeakyReLU\"))\n",
        "model.add(tf.keras.layers.BatchNormalization())\n",
        "model.add(tf.keras.layers.Dense(1, activation=\"sigmoid\"))"
      ],
      "execution_count": 62,
      "outputs": []
    },
    {
      "cell_type": "code",
      "metadata": {
        "id": "iqUKTq_55Evs"
      },
      "source": [
        "model.compile(optimizer=tfa.optimizers.LAMB(),loss='binary_crossentropy',metrics=['accuracy',tf.keras.metrics.AUC()])\n"
      ],
      "execution_count": 63,
      "outputs": []
    },
    {
      "cell_type": "code",
      "metadata": {
        "id": "FkfaCP7b5Esm"
      },
      "source": [
        "VALIDATION_SET = (X_test, y_test)"
      ],
      "execution_count": 64,
      "outputs": []
    },
    {
      "cell_type": "code",
      "metadata": {
        "colab": {
          "base_uri": "https://localhost:8080/"
        },
        "id": "L3v8cz9z5EpY",
        "outputId": "b3651e27-27e9-4021-a980-21c7acfd09fc"
      },
      "source": [
        "model.fit(X_train, y_train,epochs=15,validation_data=VALIDATION_SET)"
      ],
      "execution_count": 65,
      "outputs": [
        {
          "output_type": "stream",
          "text": [
            "Epoch 1/15\n",
            "3750/3750 [==============================] - 30s 7ms/step - loss: 0.4826 - accuracy: 0.8287 - auc: 0.8387 - val_loss: 0.4140 - val_accuracy: 0.8503 - val_auc: 0.8609\n",
            "Epoch 2/15\n",
            "3750/3750 [==============================] - 24s 6ms/step - loss: 0.3680 - accuracy: 0.8542 - auc: 0.8561 - val_loss: 0.3547 - val_accuracy: 0.8577 - val_auc: 0.8648\n",
            "Epoch 3/15\n",
            "3750/3750 [==============================] - 25s 7ms/step - loss: 0.3619 - accuracy: 0.8562 - auc: 0.8596 - val_loss: 0.3543 - val_accuracy: 0.8575 - val_auc: 0.8650\n",
            "Epoch 4/15\n",
            "3750/3750 [==============================] - 24s 6ms/step - loss: 0.3600 - accuracy: 0.8573 - auc: 0.8607 - val_loss: 0.3560 - val_accuracy: 0.8577 - val_auc: 0.8644\n",
            "Epoch 5/15\n",
            "3750/3750 [==============================] - 24s 6ms/step - loss: 0.3577 - accuracy: 0.8566 - auc: 0.8627 - val_loss: 0.3532 - val_accuracy: 0.8579 - val_auc: 0.8661\n",
            "Epoch 6/15\n",
            "3750/3750 [==============================] - 24s 6ms/step - loss: 0.3573 - accuracy: 0.8573 - auc: 0.8626 - val_loss: 0.3548 - val_accuracy: 0.8579 - val_auc: 0.8656\n",
            "Epoch 7/15\n",
            "3750/3750 [==============================] - 24s 6ms/step - loss: 0.3566 - accuracy: 0.8579 - auc: 0.8631 - val_loss: 0.3537 - val_accuracy: 0.8580 - val_auc: 0.8642\n",
            "Epoch 8/15\n",
            "3750/3750 [==============================] - 24s 6ms/step - loss: 0.3564 - accuracy: 0.8574 - auc: 0.8633 - val_loss: 0.3560 - val_accuracy: 0.8579 - val_auc: 0.8651\n",
            "Epoch 9/15\n",
            "3750/3750 [==============================] - 26s 7ms/step - loss: 0.3558 - accuracy: 0.8575 - auc: 0.8636 - val_loss: 0.3545 - val_accuracy: 0.8582 - val_auc: 0.8656\n",
            "Epoch 10/15\n",
            "3750/3750 [==============================] - 24s 6ms/step - loss: 0.3562 - accuracy: 0.8579 - auc: 0.8638 - val_loss: 0.3548 - val_accuracy: 0.8578 - val_auc: 0.8638\n",
            "Epoch 11/15\n",
            "3750/3750 [==============================] - 26s 7ms/step - loss: 0.3559 - accuracy: 0.8587 - auc: 0.8637 - val_loss: 0.3537 - val_accuracy: 0.8581 - val_auc: 0.8645\n",
            "Epoch 12/15\n",
            "3750/3750 [==============================] - 24s 7ms/step - loss: 0.3551 - accuracy: 0.8584 - auc: 0.8642 - val_loss: 0.3531 - val_accuracy: 0.8581 - val_auc: 0.8663\n",
            "Epoch 13/15\n",
            "3750/3750 [==============================] - 25s 7ms/step - loss: 0.3551 - accuracy: 0.8580 - auc: 0.8645 - val_loss: 0.3550 - val_accuracy: 0.8586 - val_auc: 0.8653\n",
            "Epoch 14/15\n",
            "3750/3750 [==============================] - 26s 7ms/step - loss: 0.3544 - accuracy: 0.8577 - auc: 0.8653 - val_loss: 0.3553 - val_accuracy: 0.8579 - val_auc: 0.8671\n",
            "Epoch 15/15\n",
            "3750/3750 [==============================] - 25s 7ms/step - loss: 0.3548 - accuracy: 0.8582 - auc: 0.8648 - val_loss: 0.3542 - val_accuracy: 0.8576 - val_auc: 0.8663\n"
          ],
          "name": "stdout"
        },
        {
          "output_type": "execute_result",
          "data": {
            "text/plain": [
              "<tensorflow.python.keras.callbacks.History at 0x7fe1c4c0ba90>"
            ]
          },
          "metadata": {
            "tags": []
          },
          "execution_count": 65
        }
      ]
    },
    {
      "cell_type": "code",
      "metadata": {
        "id": "ZfV4074O5EnK"
      },
      "source": [
        ""
      ],
      "execution_count": null,
      "outputs": []
    }
  ]
}